{
 "cells": [
  {
   "cell_type": "markdown",
   "id": "045766f3-e18b-47c6-9e7b-f35c11be70ca",
   "metadata": {
    "tags": []
   },
   "source": [
    "# Type Flavor \n",
    "Can we figure out what type a card is based on its flavor text?\n",
    "We will look at the 6 main card types:\n",
    "- Creatures\n",
    "- Lands\n",
    "- Artifacts\n",
    "- Enchantments\n",
    "- Instants\n",
    "- Sorceries\n",
    "\n",
    "As we embark on this, there are a few things to consider:\n",
    "- Several cards will have multiple types. For example, \"Artifact Creatures\" are rather common.\n",
    "- Instants and Sorceries differ vary little mechanically, and might thus overlap significantly in flavor text as well.\n",
    "- Unlike colors, card types are not evenly distributed among cards - there are many more creatures in the game than other types. We will need to adjust how we sample our data to address this."
   ]
  },
  {
   "cell_type": "code",
   "execution_count": 1,
   "id": "feeda37d-5af3-4438-a160-314702ae937b",
   "metadata": {},
   "outputs": [],
   "source": [
    "import datetime, os, requests, time\n",
    "import numpy as np\n",
    "import pandas as pd\n",
    "import CF_standard_functions as cf\n",
    "import pickle as pkl"
   ]
  },
  {
   "cell_type": "markdown",
   "id": "c6084a51-4625-435c-967f-001c234071da",
   "metadata": {
    "tags": []
   },
   "source": [
    "### Type distributions\n",
    "Let's start addressing the last point listed above: how many cards of each type are there? Where to card types overlap? \\\n",
    "First let's get our data:"
   ]
  },
  {
   "cell_type": "code",
   "execution_count": 3,
   "id": "c88293b0-3c10-491f-8300-15e8ddc7dd34",
   "metadata": {},
   "outputs": [
    {
     "name": "stdout",
     "output_type": "stream",
     "text": [
      "Loading card data from file...\n",
      "Done!\n",
      "20593 cards with unique flavor text in data set\n"
     ]
    }
   ],
   "source": [
    "# Set these directories to determine where to save/load the data from:\n",
    "savepath = \"C:\\\\Users\\\\gordo\\\\Documents\\\\Python Scripts\\\\Scryfall Projects\\\\MtG_ClassyFlavor\\\\\"\n",
    "filename = 'CardData.pkl'\n",
    "# Directory for getting data from Scryfall:\n",
    "sf_bulk_url = \"https://api.scryfall.com/bulk-data\"\n",
    "\n",
    "if (os.path.isfile(savepath+filename)) and (cf.file_age_in_hours(savepath+filename) < 24):\n",
    "    print('Loading card data from file...')\n",
    "    with open(savepath+filename,'rb') as datafile:\n",
    "        data = pkl.load(datafile)\n",
    "    print('Done!')\n",
    "else:\n",
    "    data = cf.data_from_scryfall()\n",
    "    print('Saving data locally...')\n",
    "    with open(savepath+filename,'wb') as datafile:\n",
    "        pkl.dump(data,datafile)\n",
    "    print('Done!')\n",
    "    \n",
    "print(f\"{data.shape[0]} cards with unique flavor text in data set\")"
   ]
  },
  {
   "cell_type": "markdown",
   "id": "12d0f867-2ce1-4b96-b4f8-90405cf4c8ed",
   "metadata": {},
   "source": [
    "#### Parsing type lines\n",
    "The card types are listed in the _type_line_ column with the format _(Supertype) Type1 (Type2) — (Subtype1) (Subtype2) ..._ \\\n",
    "Every card has at least 1 type with optional subtypes listed after an em-dash. \\\n",
    "We will parse through this and add a column named _card_type_ which contains a list of the cards types.\n",
    "Some cards are also \"split\" cards - two card objects squeezed on to the same iece of cardboard. These are denoted with two slashes \"//\" in the type line and name. These are a minority of cards, so we will ignore them for now."
   ]
  },
  {
   "cell_type": "code",
   "execution_count": 27,
   "id": "e392e275-e6fb-41cf-ae01-9dde48f13b6f",
   "metadata": {},
   "outputs": [
    {
     "data": {
      "text/html": [
       "<div>\n",
       "<style scoped>\n",
       "    .dataframe tbody tr th:only-of-type {\n",
       "        vertical-align: middle;\n",
       "    }\n",
       "\n",
       "    .dataframe tbody tr th {\n",
       "        vertical-align: top;\n",
       "    }\n",
       "\n",
       "    .dataframe thead th {\n",
       "        text-align: right;\n",
       "    }\n",
       "</style>\n",
       "<table border=\"1\" class=\"dataframe\">\n",
       "  <thead>\n",
       "    <tr style=\"text-align: right;\">\n",
       "      <th></th>\n",
       "      <th>name</th>\n",
       "      <th>type_line</th>\n",
       "    </tr>\n",
       "  </thead>\n",
       "  <tbody>\n",
       "    <tr>\n",
       "      <th>6</th>\n",
       "      <td>Obyra's Attendants // Desperate Parry</td>\n",
       "      <td>Creature — Faerie Wizard // Instant — Adventure</td>\n",
       "    </tr>\n",
       "    <tr>\n",
       "      <th>967</th>\n",
       "      <td>Illithid Harvester // Plant Tadpoles</td>\n",
       "      <td>Creature — Horror // Sorcery — Adventure</td>\n",
       "    </tr>\n",
       "    <tr>\n",
       "      <th>1306</th>\n",
       "      <td>Merchant of the Vale // Haggle</td>\n",
       "      <td>Creature — Human Peasant // Instant — Adventure</td>\n",
       "    </tr>\n",
       "    <tr>\n",
       "      <th>1504</th>\n",
       "      <td>Twining Twins // Swift Spiral</td>\n",
       "      <td>Creature — Faerie Wizard // Instant — Adventure</td>\n",
       "    </tr>\n",
       "    <tr>\n",
       "      <th>2417</th>\n",
       "      <td>Flaxen Intruder // Welcome Home</td>\n",
       "      <td>Creature — Human Berserker // Sorcery — Adventure</td>\n",
       "    </tr>\n",
       "  </tbody>\n",
       "</table>\n",
       "</div>"
      ],
      "text/plain": [
       "                                       name  \\\n",
       "6     Obyra's Attendants // Desperate Parry   \n",
       "967    Illithid Harvester // Plant Tadpoles   \n",
       "1306         Merchant of the Vale // Haggle   \n",
       "1504          Twining Twins // Swift Spiral   \n",
       "2417        Flaxen Intruder // Welcome Home   \n",
       "\n",
       "                                              type_line  \n",
       "6       Creature — Faerie Wizard // Instant — Adventure  \n",
       "967            Creature — Horror // Sorcery — Adventure  \n",
       "1306    Creature — Human Peasant // Instant — Adventure  \n",
       "1504    Creature — Faerie Wizard // Instant — Adventure  \n",
       "2417  Creature — Human Berserker // Sorcery — Adventure  "
      ]
     },
     "execution_count": 27,
     "metadata": {},
     "output_type": "execute_result"
    }
   ],
   "source": [
    "# Some examples of split cards:\n",
    "data['is_split'] = data['type_line'].apply(lambda x : x.find(\"//\") != -1)\n",
    "data[['name','type_line']][data['is_split']].head()"
   ]
  },
  {
   "cell_type": "code",
   "execution_count": 40,
   "id": "ebb2a4e3-cdc4-4cb6-94b5-cce2cbe552b1",
   "metadata": {},
   "outputs": [],
   "source": [
    "# Remove split cards:\n",
    "data = data.drop(data[data.is_split].index,inplace = True)\n"
   ]
  }
 ],
 "metadata": {
  "kernelspec": {
   "display_name": "Python 3",
   "language": "python",
   "name": "python3"
  },
  "language_info": {
   "codemirror_mode": {
    "name": "ipython",
    "version": 3
   },
   "file_extension": ".py",
   "mimetype": "text/x-python",
   "name": "python",
   "nbconvert_exporter": "python",
   "pygments_lexer": "ipython3",
   "version": "3.8.8"
  }
 },
 "nbformat": 4,
 "nbformat_minor": 5
}
