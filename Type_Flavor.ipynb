{
 "cells": [
  {
   "cell_type": "markdown",
   "id": "045766f3-e18b-47c6-9e7b-f35c11be70ca",
   "metadata": {
    "tags": []
   },
   "source": [
    "# Type Flavor \n",
    "Can we figure out what type a card is based on its flavor text?\n",
    "We will look at the 6 main card types:\n",
    "- Creatures\n",
    "- Lands\n",
    "- Artifacts\n",
    "- Enchantments\n",
    "- Instants\n",
    "- Sorceries\n",
    "\n",
    "As we embark on this, there are a few things to consider:\n",
    "- Several cards will have multiple types. For example, \"Artifact Creatures\" are rather common.\n",
    "- Instants and Sorceries differ vary little mechanically, and might thus overlap significantly in flavor text as well.\n",
    "- Unlike colors, card types are not evenly distributed among cards - there are many more creatures in the game than other types. We will need to adjust how we sample our data to address this."
   ]
  },
  {
   "cell_type": "code",
   "execution_count": 1,
   "id": "feeda37d-5af3-4438-a160-314702ae937b",
   "metadata": {},
   "outputs": [],
   "source": [
    "import datetime, os, requests, time\n",
    "import numpy as np\n",
    "import pandas as pd\n",
    "import CF_standard_functions as cf\n",
    "import pickle as pkl\n",
    "from matplotlib import pyplot as plt\n",
    "import seaborn as sns"
   ]
  },
  {
   "cell_type": "markdown",
   "id": "c6084a51-4625-435c-967f-001c234071da",
   "metadata": {
    "tags": []
   },
   "source": [
    "### Type distributions\n",
    "Let's start addressing the last point listed above: how many cards of each type are there? Where to card types overlap? \\\n",
    "First let's get our data:"
   ]
  },
  {
   "cell_type": "code",
   "execution_count": 2,
   "id": "c88293b0-3c10-491f-8300-15e8ddc7dd34",
   "metadata": {},
   "outputs": [
    {
     "name": "stdout",
     "output_type": "stream",
     "text": [
      "Loading card data from file...\n",
      "Done!\n",
      "20601 cards with unique flavor text in data set\n"
     ]
    }
   ],
   "source": [
    "# Set these directories to determine where to save/load the data from:\n",
    "savepath = \"C:\\\\Users\\\\gordo\\\\Documents\\\\Python Scripts\\\\Scryfall Projects\\\\MtG_ClassyFlavor\\\\\"\n",
    "filename = 'CardData.pkl'\n",
    "# Directory for getting data from Scryfall:\n",
    "sf_bulk_url = \"https://api.scryfall.com/bulk-data\"\n",
    "\n",
    "if (os.path.isfile(savepath+filename)) and (cf.file_age_in_hours(savepath+filename) < 24):\n",
    "    print('Loading card data from file...')\n",
    "    with open(savepath+filename,'rb') as datafile:\n",
    "        data = pkl.load(datafile)\n",
    "    print('Done!')\n",
    "else:\n",
    "    data = cf.data_from_scryfall()\n",
    "    print('Saving data locally...')\n",
    "    with open(savepath+filename,'wb') as datafile:\n",
    "        pkl.dump(data,datafile)\n",
    "    print('Done!')\n",
    "    \n",
    "print(f\"{data.shape[0]} cards with unique flavor text in data set\")"
   ]
  },
  {
   "cell_type": "markdown",
   "id": "12d0f867-2ce1-4b96-b4f8-90405cf4c8ed",
   "metadata": {},
   "source": [
    "#### Parsing type lines\n",
    "The card types are listed in the _type_line_ column with the format _(Supertype) Type1 (Type2) — (Subtype1) (Subtype2) ..._ \\\n",
    "Every card has at least 1 type with optional subtypes listed after an em-dash. Some cards have supertypes (such as \"Legendary\" or \"Basic\") which always precede the card types. \\\n",
    "We will parse through this and add a column named _card_type_ which contains only a string of card types. \\\n",
    "Some cards are also \"split\" cards - two card objects squeezed on to the same piece of cardboard. These are denoted with two slashes \"//\" in the type line and name. These are a minority of cards, so we will ignore them for now."
   ]
  },
  {
   "cell_type": "code",
   "execution_count": 3,
   "id": "e392e275-e6fb-41cf-ae01-9dde48f13b6f",
   "metadata": {},
   "outputs": [
    {
     "data": {
      "text/html": [
       "<div>\n",
       "<style scoped>\n",
       "    .dataframe tbody tr th:only-of-type {\n",
       "        vertical-align: middle;\n",
       "    }\n",
       "\n",
       "    .dataframe tbody tr th {\n",
       "        vertical-align: top;\n",
       "    }\n",
       "\n",
       "    .dataframe thead th {\n",
       "        text-align: right;\n",
       "    }\n",
       "</style>\n",
       "<table border=\"1\" class=\"dataframe\">\n",
       "  <thead>\n",
       "    <tr style=\"text-align: right;\">\n",
       "      <th></th>\n",
       "      <th>name</th>\n",
       "      <th>type_line</th>\n",
       "    </tr>\n",
       "  </thead>\n",
       "  <tbody>\n",
       "    <tr>\n",
       "      <th>77080</th>\n",
       "      <td>Threadbind Clique // Rip the Seams</td>\n",
       "      <td>Creature — Faerie // Instant — Adventure</td>\n",
       "    </tr>\n",
       "    <tr>\n",
       "      <th>30033</th>\n",
       "      <td>Young Blue Dragon // Sand Augury</td>\n",
       "      <td>Creature — Dragon // Sorcery — Adventure</td>\n",
       "    </tr>\n",
       "    <tr>\n",
       "      <th>27550</th>\n",
       "      <td>Curious Pair // Treats to Share</td>\n",
       "      <td>Creature — Human Peasant // Sorcery — Adventure</td>\n",
       "    </tr>\n",
       "    <tr>\n",
       "      <th>10181</th>\n",
       "      <td>Smitten Swordmaster // Curry Favor</td>\n",
       "      <td>Creature — Human Knight // Sorcery — Adventure</td>\n",
       "    </tr>\n",
       "    <tr>\n",
       "      <th>42766</th>\n",
       "      <td>Tuinvale Treefolk // Oaken Boon</td>\n",
       "      <td>Creature — Treefolk Druid // Sorcery — Adventure</td>\n",
       "    </tr>\n",
       "  </tbody>\n",
       "</table>\n",
       "</div>"
      ],
      "text/plain": [
       "                                     name  \\\n",
       "77080  Threadbind Clique // Rip the Seams   \n",
       "30033    Young Blue Dragon // Sand Augury   \n",
       "27550     Curious Pair // Treats to Share   \n",
       "10181  Smitten Swordmaster // Curry Favor   \n",
       "42766     Tuinvale Treefolk // Oaken Boon   \n",
       "\n",
       "                                              type_line  \n",
       "77080          Creature — Faerie // Instant — Adventure  \n",
       "30033          Creature — Dragon // Sorcery — Adventure  \n",
       "27550   Creature — Human Peasant // Sorcery — Adventure  \n",
       "10181    Creature — Human Knight // Sorcery — Adventure  \n",
       "42766  Creature — Treefolk Druid // Sorcery — Adventure  "
      ]
     },
     "execution_count": 3,
     "metadata": {},
     "output_type": "execute_result"
    }
   ],
   "source": [
    "# Some examples of split cards:\n",
    "data['is_split'] = data['type_line'].apply(lambda x : x.find(\"//\") != -1)\n",
    "data[['name','type_line']][data['is_split']].sample(5)"
   ]
  },
  {
   "cell_type": "code",
   "execution_count": 4,
   "id": "fc9ae40b-28bc-4f8b-9fbd-503565646b36",
   "metadata": {
    "tags": []
   },
   "outputs": [],
   "source": [
    "# Remove split cards:\n",
    "data = data.drop(data[data.is_split].index)\n",
    "\n",
    "# Look only for the following card types, removing all subtypes and supertypes:\n",
    "type_list = [\"Creature\",\"Land\",\"Artifact\",\"Enchantment\",\"Instant\",\"Sorcery\"]\n",
    "data['card_type'] = data['type_line'].apply(lambda x : ' '.join(np.intersect1d(x.split(),type_list).tolist()))\n",
    "data = data.drop(data[data['card_type'] == ''].index)\n",
    "data['card_type'].value_counts()\n",
    "\n",
    "# Reindex from 0 for convenience\n",
    "data = data.reset_index(drop=True)"
   ]
  },
  {
   "cell_type": "code",
   "execution_count": 5,
   "id": "fc2fb1c5-8238-4423-b93f-d05b996f9439",
   "metadata": {},
   "outputs": [
    {
     "data": {
      "text/plain": [
       "Creature                9914\n",
       "Instant                 2962\n",
       "Sorcery                 2569\n",
       "Enchantment             2065\n",
       "Artifact                1291\n",
       "Land                     855\n",
       "Artifact Creature        682\n",
       "Creature Enchantment      96\n",
       "Artifact Land             24\n",
       "Artifact Enchantment       4\n",
       "Creature Land              1\n",
       "Name: card_type, dtype: int64"
      ]
     },
     "execution_count": 5,
     "metadata": {},
     "output_type": "execute_result"
    }
   ],
   "source": [
    "data['card_type'].value_counts()"
   ]
  },
  {
   "cell_type": "code",
   "execution_count": 6,
   "id": "912d4222-96ab-4736-84e7-c629496f7d83",
   "metadata": {},
   "outputs": [
    {
     "data": {
      "image/png": "[encoded data removed]",
      "text/plain": [
       "<Figure size 432x288 with 1 Axes>"
      ]
     },
     "metadata": {
      "needs_background": "light"
     },
     "output_type": "display_data"
    }
   ],
   "source": [
    "type_counts = data['card_type'].value_counts()\n",
    "type_counts.plot(kind='bar')\n",
    "plt.title('Magic Card Types')\n",
    "plt.xlabel('Categories')\n",
    "plt.ylabel('Counts')\n",
    "plt.show()"
   ]
  },
  {
   "cell_type": "code",
   "execution_count": 7,
   "id": "6a899f88-2028-400c-a12a-482a7e582562",
   "metadata": {},
   "outputs": [
    {
     "data": {
      "image/png": "[encoded data removed]",
      "text/plain": [
       "<Figure size 720x504 with 2 Axes>"
      ]
     },
     "metadata": {},
     "output_type": "display_data"
    }
   ],
   "source": [
    "fig,ax = plt.subplots(1,2,sharey=True,figsize=[10,7])\n",
    "type_counts_mono = data[['card_type']].loc[data['card_type'].isin(type_list)].value_counts()\n",
    "type_counts_multi = data[['card_type']].loc[~data['card_type'].isin(type_list)].value_counts()\n",
    "# define Seaborn color palette to use \n",
    "ax[0].pie(type_counts_mono,startangle=90,counterclock=False,\n",
    "       colors = sns.color_palette('deep'))\n",
    "ax[1].pie(type_counts_multi,startangle=90,counterclock=False,\n",
    "         colors = sns.color_palette('pastel'))\n",
    "ax[0].legend(labels = [index[0] for index in type_counts_mono.index])\n",
    "ax[1].legend(labels = [index[0] for index in type_counts_multi.index])\n",
    "ax[0].title.set_text('Single-Type Cards')\n",
    "ax[1].title.set_text('Multi-Type Cards')\n",
    "plt.show()\n",
    "\n"
   ]
  },
  {
   "cell_type": "markdown",
   "id": "7b294aa5-0607-4971-aad5-91abd263b092",
   "metadata": {},
   "source": [
    "Note that the above counts are for our curated list of cards with flavor text and not an exhaustive count of all cards in the game. Cards with multiple unique instances of flavor text are counted multiple times, and cards without flavor text are omitted."
   ]
  },
  {
   "cell_type": "markdown",
   "id": "1e68f15c-6ee6-4414-9f71-a978152de8ab",
   "metadata": {},
   "source": [
    "### Now let's set up our model\n",
    "For now we will only focus on cards with a single card type. Later, we can see how cards with multiple types are classified.\n",
    "Then we will convert the card type to a numeric categorical variable for our classifier to work with."
   ]
  },
  {
   "cell_type": "code",
   "execution_count": 8,
   "id": "d35a0a89-1c19-48c9-b667-84b34029cd60",
   "metadata": {},
   "outputs": [
    {
     "data": {
      "text/html": [
       "<div>\n",
       "<style scoped>\n",
       "    .dataframe tbody tr th:only-of-type {\n",
       "        vertical-align: middle;\n",
       "    }\n",
       "\n",
       "    .dataframe tbody tr th {\n",
       "        vertical-align: top;\n",
       "    }\n",
       "\n",
       "    .dataframe thead th {\n",
       "        text-align: right;\n",
       "    }\n",
       "</style>\n",
       "<table border=\"1\" class=\"dataframe\">\n",
       "  <thead>\n",
       "    <tr style=\"text-align: right;\">\n",
       "      <th></th>\n",
       "      <th>name</th>\n",
       "      <th>flavor_text</th>\n",
       "      <th>card_type</th>\n",
       "      <th>label</th>\n",
       "    </tr>\n",
       "  </thead>\n",
       "  <tbody>\n",
       "    <tr>\n",
       "      <th>0</th>\n",
       "      <td>Fury Sliver</td>\n",
       "      <td>\"a rift opened, and our arrows were abruptly s...</td>\n",
       "      <td>Creature</td>\n",
       "      <td>0</td>\n",
       "    </tr>\n",
       "    <tr>\n",
       "      <th>1</th>\n",
       "      <td>Kor Outfitter</td>\n",
       "      <td>\"we take only what we need to survive. believe...</td>\n",
       "      <td>Creature</td>\n",
       "      <td>0</td>\n",
       "    </tr>\n",
       "    <tr>\n",
       "      <th>2</th>\n",
       "      <td>Surge of Brilliance</td>\n",
       "      <td>\"they may have superior numbers, but we have s...</td>\n",
       "      <td>Instant</td>\n",
       "      <td>4</td>\n",
       "    </tr>\n",
       "    <tr>\n",
       "      <th>3</th>\n",
       "      <td>Venerable Knight</td>\n",
       "      <td>\"may this blade guide you on your great journe...</td>\n",
       "      <td>Creature</td>\n",
       "      <td>0</td>\n",
       "    </tr>\n",
       "    <tr>\n",
       "      <th>4</th>\n",
       "      <td>Wildcall</td>\n",
       "      <td>a howl on the wind hides many dangers.</td>\n",
       "      <td>Sorcery</td>\n",
       "      <td>5</td>\n",
       "    </tr>\n",
       "  </tbody>\n",
       "</table>\n",
       "</div>"
      ],
      "text/plain": [
       "                  name                                        flavor_text  \\\n",
       "0          Fury Sliver  \"a rift opened, and our arrows were abruptly s...   \n",
       "1        Kor Outfitter  \"we take only what we need to survive. believe...   \n",
       "2  Surge of Brilliance  \"they may have superior numbers, but we have s...   \n",
       "3     Venerable Knight  \"may this blade guide you on your great journe...   \n",
       "4             Wildcall             a howl on the wind hides many dangers.   \n",
       "\n",
       "  card_type  label  \n",
       "0  Creature      0  \n",
       "1  Creature      0  \n",
       "2   Instant      4  \n",
       "3  Creature      0  \n",
       "4   Sorcery      5  "
      ]
     },
     "execution_count": 8,
     "metadata": {},
     "output_type": "execute_result"
    }
   ],
   "source": [
    "data_monotype = data[['name','flavor_text','card_type']].loc[data['card_type'].isin(type_list)]\n",
    "type_label_map = {i:j for i,j in zip(type_list,range(6))}\n",
    "data_monotype['label'] = data_monotype['card_type'].map(type_label_map)\n",
    "data_monotype.head()"
   ]
  },
  {
   "cell_type": "markdown",
   "id": "c7cac2e8-85f9-4f40-8773-36358dc27736",
   "metadata": {},
   "source": [
    "Split the data in a stratified way, such that we preserve the frequency of card types across test and train data. \\\n",
    "(Since our data set is large, this is not strictly necessary. Complete random sampling is likely to give us an even distribution of card types. Still, it is a good practice when the groups in our data set are of significantly different sizes)."
   ]
  },
  {
   "cell_type": "code",
   "execution_count": 9,
   "id": "add75537-c6e0-4ade-970b-f22dfebbc3aa",
   "metadata": {},
   "outputs": [
    {
     "name": "stdout",
     "output_type": "stream",
     "text": [
      "Training set consists of 9828 cards.\n",
      "Test set consists of 9828 cards.\n"
     ]
    }
   ],
   "source": [
    "from sklearn.model_selection import train_test_split\n",
    "\n",
    "flavor_train, flavor_test, label_train, label_test = train_test_split(\n",
    "        data_monotype['flavor_text'], data_monotype['label'], \n",
    "        test_size=0.5, random_state=41,stratify=data_monotype['label'])\n",
    "\n",
    "print('Training set consists of',flavor_train.shape[0],'cards.')\n",
    "print('Test set consists of',flavor_test.shape[0],'cards.')"
   ]
  },
  {
   "cell_type": "markdown",
   "id": "d4c08da0-157d-46e8-b773-ea7c90ec9f66",
   "metadata": {},
   "source": [
    "#### Design our model\n",
    "Build a pipeline where we tokenize text and set up our support vector classifier. We will use the same parameters from our grid search in Colorful_Flavor. However, note that we also add a **class_weight** parameter in the LinearSVC, so that we sample our training set inversely proportional to the frequency of our labels."
   ]
  },
  {
   "cell_type": "code",
   "execution_count": 10,
   "id": "2fa3f962-74fb-461b-9cb6-20a63c454188",
   "metadata": {},
   "outputs": [],
   "source": [
    "from sklearn.feature_extraction.text import TfidfVectorizer\n",
    "from sklearn.svm import LinearSVC\n",
    "from sklearn.pipeline import Pipeline\n",
    "my_vectorizer = TfidfVectorizer(min_df = 1,max_df=0.95)\n",
    "my_linSVC = LinearSVC(C=0.1,class_weight='balanced')\n",
    "pipe = Pipeline([('vect',my_vectorizer),\n",
    "               ('clf',my_linSVC)])\n",
    "\n",
    "pipe = pipe.fit(flavor_train,label_train)"
   ]
  },
  {
   "cell_type": "markdown",
   "id": "6efaafae-bb5d-4cb0-abd6-e0046f2d1415",
   "metadata": {},
   "source": [
    "#### Measure model accuracy on test data"
   ]
  },
  {
   "cell_type": "code",
   "execution_count": 11,
   "id": "938e1484-c444-4c80-a51e-96e4ae0801ad",
   "metadata": {
    "tags": []
   },
   "outputs": [
    {
     "name": "stdout",
     "output_type": "stream",
     "text": [
      "Classifier accuracy is 46.0%\n"
     ]
    }
   ],
   "source": [
    "label_predict = pipe.predict(flavor_test)\n",
    "performance = sum(label_predict == label_test) / len(label_test) * 100\n",
    "print(f\"Classifier accuracy is {np.round(performance,1)}%\")"
   ]
  },
  {
   "cell_type": "code",
   "execution_count": 15,
   "id": "03545659-7acc-4d7e-b9db-6f551640441a",
   "metadata": {},
   "outputs": [
    {
     "name": "stdout",
     "output_type": "stream",
     "text": [
      "              precision    recall  f1-score   support\n",
      "\n",
      "    Creature       0.60      0.72      0.65      4957\n",
      "        Land       0.25      0.40      0.31       428\n",
      "    Artifact       0.29      0.33      0.31       645\n",
      " Enchantment       0.19      0.13      0.15      1032\n",
      "     Instant       0.27      0.18      0.22      1481\n",
      "     Sorcery       0.22      0.14      0.17      1285\n",
      "\n",
      "    accuracy                           0.46      9828\n",
      "   macro avg       0.30      0.31      0.30      9828\n",
      "weighted avg       0.42      0.46      0.43      9828\n",
      "\n"
     ]
    },
    {
     "data": {
      "image/png": "[encoded data removed]",
      "text/plain": [
       "<Figure size 720x720 with 2 Axes>"
      ]
     },
     "metadata": {
      "needs_background": "light"
     },
     "output_type": "display_data"
    }
   ],
   "source": [
    "from sklearn import metrics\n",
    "print(metrics.classification_report(label_test, label_predict,target_names = [str(i) for i in type_label_map]))\n",
    "\n",
    "cm = metrics.confusion_matrix(label_test, label_predict,normalize='true',\n",
    "                              labels=list(type_label_map.values()))\n",
    "\n",
    "fig, ax = plt.subplots(figsize=(10,10))\n",
    "sns.heatmap(cm, annot=True, fmt='.2f',xticklabels=[str(i) for i in type_label_map],yticklabels=[str(i) for i in type_label_map])\n",
    "plt.ylabel('Actual')\n",
    "plt.xlabel('Predicted')\n",
    "plt.show(block=False)\n"
   ]
  },
  {
   "cell_type": "markdown",
   "id": "dd03ff20-e8f9-45f8-81cb-3e4c1dd76add",
   "metadata": {},
   "source": [
    "Oddly, it looks like there is a huge bias towards classifying things as creatures.\n",
    "\n",
    "For future reference: https://scikit-learn.org/stable/auto_examples/svm/plot_separating_hyperplane_unbalanced.html "
   ]
  }
 ],
 "metadata": {
  "kernelspec": {
   "display_name": "Python 3",
   "language": "python",
   "name": "python3"
  },
  "language_info": {
   "codemirror_mode": {
    "name": "ipython",
    "version": 3
   },
   "file_extension": ".py",
   "mimetype": "text/x-python",
   "name": "python",
   "nbconvert_exporter": "python",
   "pygments_lexer": "ipython3",
   "version": "3.8.8"
  }
 },
 "nbformat": 4,
 "nbformat_minor": 5
}
