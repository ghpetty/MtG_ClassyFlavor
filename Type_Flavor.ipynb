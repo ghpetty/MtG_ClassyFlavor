{
 "cells": [
  {
   "cell_type": "markdown",
   "id": "045766f3-e18b-47c6-9e7b-f35c11be70ca",
   "metadata": {
    "tags": []
   },
   "source": [
    "# Type Flavor \n",
    "Can we figure out what type a card is based on its flavor text?\n",
    "We will look at the 6 main card types:\n",
    "- Creatures\n",
    "- Lands\n",
    "- Artifacts\n",
    "- Enchantments\n",
    "- Instants\n",
    "- Sorceries\n",
    "\n",
    "As we embark on this, there are a few things to consider:\n",
    "- Several cards will have multiple types. For example, \"Artifact Creatures\" are rather common.\n",
    "- Instants and Sorceries differ vary little mechanically, and might thus overlap significantly in flavor text as well.\n",
    "- Unlike colors, card types are not evenly distributed among cards - there are many more creatures in the game than other types. We will need to adjust how we sample our data to address this."
   ]
  },
  {
   "cell_type": "code",
   "execution_count": 85,
   "id": "feeda37d-5af3-4438-a160-314702ae937b",
   "metadata": {},
   "outputs": [],
   "source": [
    "import datetime, os, requests, time\n",
    "import numpy as np\n",
    "import pandas as pd\n",
    "import CF_standard_functions as cf\n",
    "import pickle as pkl\n",
    "from matplotlib import pyplot as plt"
   ]
  },
  {
   "cell_type": "markdown",
   "id": "c6084a51-4625-435c-967f-001c234071da",
   "metadata": {
    "tags": []
   },
   "source": [
    "### Type distributions\n",
    "Let's start addressing the last point listed above: how many cards of each type are there? Where to card types overlap? \\\n",
    "First let's get our data:"
   ]
  },
  {
   "cell_type": "code",
   "execution_count": 2,
   "id": "c88293b0-3c10-491f-8300-15e8ddc7dd34",
   "metadata": {},
   "outputs": [
    {
     "name": "stdout",
     "output_type": "stream",
     "text": [
      "Loading card data from file...\n",
      "Done!\n",
      "20593 cards with unique flavor text in data set\n"
     ]
    }
   ],
   "source": [
    "# Set these directories to determine where to save/load the data from:\n",
    "savepath = \"C:\\\\Users\\\\gordo\\\\Documents\\\\Python Scripts\\\\Scryfall Projects\\\\MtG_ClassyFlavor\\\\\"\n",
    "filename = 'CardData.pkl'\n",
    "# Directory for getting data from Scryfall:\n",
    "sf_bulk_url = \"https://api.scryfall.com/bulk-data\"\n",
    "\n",
    "if (os.path.isfile(savepath+filename)) and (cf.file_age_in_hours(savepath+filename) < 24):\n",
    "    print('Loading card data from file...')\n",
    "    with open(savepath+filename,'rb') as datafile:\n",
    "        data = pkl.load(datafile)\n",
    "    print('Done!')\n",
    "else:\n",
    "    data = cf.data_from_scryfall()\n",
    "    print('Saving data locally...')\n",
    "    with open(savepath+filename,'wb') as datafile:\n",
    "        pkl.dump(data,datafile)\n",
    "    print('Done!')\n",
    "    \n",
    "print(f\"{data.shape[0]} cards with unique flavor text in data set\")"
   ]
  },
  {
   "cell_type": "markdown",
   "id": "12d0f867-2ce1-4b96-b4f8-90405cf4c8ed",
   "metadata": {},
   "source": [
    "#### Parsing type lines\n",
    "The card types are listed in the _type_line_ column with the format _(Supertype) Type1 (Type2) — (Subtype1) (Subtype2) ..._ \\\n",
    "Every card has at least 1 type with optional subtypes listed after an em-dash. Some cards have supertypes (such as \"Legendary\" or \"Basic\") which always precede the card types. \\\n",
    "We will parse through this and add a column named _card_type_ which contains only a string of card types. \\\n",
    "Some cards are also \"split\" cards - two card objects squeezed on to the same piece of cardboard. These are denoted with two slashes \"//\" in the type line and name. These are a minority of cards, so we will ignore them for now."
   ]
  },
  {
   "cell_type": "code",
   "execution_count": 3,
   "id": "e392e275-e6fb-41cf-ae01-9dde48f13b6f",
   "metadata": {},
   "outputs": [
    {
     "data": {
      "text/html": [
       "<div>\n",
       "<style scoped>\n",
       "    .dataframe tbody tr th:only-of-type {\n",
       "        vertical-align: middle;\n",
       "    }\n",
       "\n",
       "    .dataframe tbody tr th {\n",
       "        vertical-align: top;\n",
       "    }\n",
       "\n",
       "    .dataframe thead th {\n",
       "        text-align: right;\n",
       "    }\n",
       "</style>\n",
       "<table border=\"1\" class=\"dataframe\">\n",
       "  <thead>\n",
       "    <tr style=\"text-align: right;\">\n",
       "      <th></th>\n",
       "      <th>name</th>\n",
       "      <th>type_line</th>\n",
       "    </tr>\n",
       "  </thead>\n",
       "  <tbody>\n",
       "    <tr>\n",
       "      <th>6</th>\n",
       "      <td>Obyra's Attendants // Desperate Parry</td>\n",
       "      <td>Creature — Faerie Wizard // Instant — Adventure</td>\n",
       "    </tr>\n",
       "    <tr>\n",
       "      <th>967</th>\n",
       "      <td>Illithid Harvester // Plant Tadpoles</td>\n",
       "      <td>Creature — Horror // Sorcery — Adventure</td>\n",
       "    </tr>\n",
       "    <tr>\n",
       "      <th>1306</th>\n",
       "      <td>Merchant of the Vale // Haggle</td>\n",
       "      <td>Creature — Human Peasant // Instant — Adventure</td>\n",
       "    </tr>\n",
       "    <tr>\n",
       "      <th>1504</th>\n",
       "      <td>Twining Twins // Swift Spiral</td>\n",
       "      <td>Creature — Faerie Wizard // Instant — Adventure</td>\n",
       "    </tr>\n",
       "    <tr>\n",
       "      <th>2417</th>\n",
       "      <td>Flaxen Intruder // Welcome Home</td>\n",
       "      <td>Creature — Human Berserker // Sorcery — Adventure</td>\n",
       "    </tr>\n",
       "  </tbody>\n",
       "</table>\n",
       "</div>"
      ],
      "text/plain": [
       "                                       name  \\\n",
       "6     Obyra's Attendants // Desperate Parry   \n",
       "967    Illithid Harvester // Plant Tadpoles   \n",
       "1306         Merchant of the Vale // Haggle   \n",
       "1504          Twining Twins // Swift Spiral   \n",
       "2417        Flaxen Intruder // Welcome Home   \n",
       "\n",
       "                                              type_line  \n",
       "6       Creature — Faerie Wizard // Instant — Adventure  \n",
       "967            Creature — Horror // Sorcery — Adventure  \n",
       "1306    Creature — Human Peasant // Instant — Adventure  \n",
       "1504    Creature — Faerie Wizard // Instant — Adventure  \n",
       "2417  Creature — Human Berserker // Sorcery — Adventure  "
      ]
     },
     "execution_count": 3,
     "metadata": {},
     "output_type": "execute_result"
    }
   ],
   "source": [
    "# Some examples of split cards:\n",
    "data['is_split'] = data['type_line'].apply(lambda x : x.find(\"//\") != -1)\n",
    "data[['name','type_line']][data['is_split']].head()"
   ]
  },
  {
   "cell_type": "code",
   "execution_count": 16,
   "id": "ebad022a-ffa5-475c-92f8-0876d7abc69a",
   "metadata": {},
   "outputs": [],
   "source": [
    "# Remove split cards:\n",
    "data = data.drop(data[data.is_split].index)\n",
    "data = data.reset_index()"
   ]
  },
  {
   "cell_type": "code",
   "execution_count": 82,
   "id": "fcae8630-d9a8-4a32-93de-3eafe5cd8d65",
   "metadata": {},
   "outputs": [
    {
     "data": {
      "text/plain": [
       "Creature                9907\n",
       "Instant                 2962\n",
       "Sorcery                 2569\n",
       "Enchantment             2064\n",
       "Artifact                1291\n",
       "Land                     855\n",
       "Artifact Creature        682\n",
       "Creature Enchantment      96\n",
       "                          89\n",
       "Artifact Land             24\n",
       "Artifact Enchantment       4\n",
       "Creature Land              1\n",
       "Name: card_type, dtype: int64"
      ]
     },
     "execution_count": 82,
     "metadata": {},
     "output_type": "execute_result"
    }
   ],
   "source": [
    "# Look only for the following card types, removing all subtypes and supertypes:\n",
    "type_list = [\"Creature\",\"Land\",\"Artifact\",\"Enchantment\",\"Instant\",\"Sorcery\"]\n",
    "data['card_type'] = data['type_line'].apply(lambda x : ' '.join(np.intersect1d(x.split(),type_list).tolist()))\n",
    "data['card_type'].value_counts()"
   ]
  },
  {
   "cell_type": "code",
   "execution_count": 89,
   "id": "912d4222-96ab-4736-84e7-c629496f7d83",
   "metadata": {},
   "outputs": [
    {
     "data": {
      "image/png": "[encoded data removed]",
      "text/plain": [
       "<Figure size 432x288 with 1 Axes>"
      ]
     },
     "metadata": {
      "needs_background": "light"
     },
     "output_type": "display_data"
    }
   ],
   "source": [
    "type_counts = data['card_type'].value_counts()\n",
    "type_counts.plot(kind='bar')\n",
    "plt.title('Magic Card Types')\n",
    "plt.xlabel('Categories')\n",
    "plt.ylabel('Counts')\n",
    "plt.show()"
   ]
  },
  {
   "cell_type": "markdown",
   "id": "7b294aa5-0607-4971-aad5-91abd263b092",
   "metadata": {},
   "source": [
    "Note that the above counts are for our curated list of cards with flavor text and not an exhaustive count of all cards in the game. Cards with multiple unique instances of flavor text are counted multiple times, and cards without flavor text are omitted."
   ]
  },
  {
   "cell_type": "code",
   "execution_count": 76,
   "id": "d35a0a89-1c19-48c9-b667-84b34029cd60",
   "metadata": {},
   "outputs": [
    {
     "ename": "AttributeError",
     "evalue": "'list' object has no attribute 'join'",
     "output_type": "error",
     "traceback": [
      "\u001b[1;31m---------------------------------------------------------------------------\u001b[0m",
      "\u001b[1;31mAttributeError\u001b[0m                            Traceback (most recent call last)",
      "\u001b[1;32m<ipython-input-76-2d59e24c91d8>\u001b[0m in \u001b[0;36m<module>\u001b[1;34m\u001b[0m\n\u001b[1;32m----> 1\u001b[1;33m \u001b[0mprint\u001b[0m\u001b[1;33m(\u001b[0m\u001b[1;33m[\u001b[0m\u001b[1;34m\"hello\"\u001b[0m\u001b[1;33m,\u001b[0m\u001b[1;34m\"world\"\u001b[0m\u001b[1;33m]\u001b[0m\u001b[1;33m.\u001b[0m\u001b[0mjoin\u001b[0m\u001b[1;33m(\u001b[0m\u001b[1;33m)\u001b[0m\u001b[1;33m)\u001b[0m\u001b[1;33m\u001b[0m\u001b[1;33m\u001b[0m\u001b[0m\n\u001b[0m",
      "\u001b[1;31mAttributeError\u001b[0m: 'list' object has no attribute 'join'"
     ]
    }
   ],
   "source": []
  }
 ],
 "metadata": {
  "kernelspec": {
   "display_name": "Python 3",
   "language": "python",
   "name": "python3"
  },
  "language_info": {
   "codemirror_mode": {
    "name": "ipython",
    "version": 3
   },
   "file_extension": ".py",
   "mimetype": "text/x-python",
   "name": "python",
   "nbconvert_exporter": "python",
   "pygments_lexer": "ipython3",
   "version": "3.8.8"
  }
 },
 "nbformat": 4,
 "nbformat_minor": 5
}
