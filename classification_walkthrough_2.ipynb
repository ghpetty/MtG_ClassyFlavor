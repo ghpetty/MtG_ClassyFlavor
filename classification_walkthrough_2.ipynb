{
 "cells": [
  {
   "cell_type": "markdown",
   "id": "64aef8d2-330a-49bc-aee3-65eda1a6b2fd",
   "metadata": {},
   "source": [
    "From https://huggingface.co/docs/transformers/en/training\n",
    "\n",
    "Some other useful links:\n",
    "\n",
    "https://colab.research.google.com/drive/1U7SX7jNYsNQG5BY1xEQQHu48Pn6Vgnyt?usp=sharing\n",
    "\n",
    "https://huggingface.co/docs/transformers/en/main_classes/output\n",
    "\n",
    "https://towardsdatascience.com/sigmoid-and-softmax-functions-in-5-minutes-f516c80ea1f9/"
   ]
  },
  {
   "cell_type": "code",
   "execution_count": 2,
   "id": "a8dfedd8-931e-4d23-b6ff-318da3294f25",
   "metadata": {},
   "outputs": [
    {
     "data": {
      "application/vnd.jupyter.widget-view+json": {
       "model_id": "d9a22973166b4937bcb0980a3bd30401",
       "version_major": 2,
       "version_minor": 0
      },
      "text/plain": [
       "Downloading readme:   0%|          | 0.00/6.72k [00:00<?, ?B/s]"
      ]
     },
     "metadata": {},
     "output_type": "display_data"
    },
    {
     "data": {
      "application/vnd.jupyter.widget-view+json": {
       "model_id": "cc94b6a3275e4c818aa5581779218086",
       "version_major": 2,
       "version_minor": 0
      },
      "text/plain": [
       "Downloading data:   0%|          | 0.00/299M [00:00<?, ?B/s]"
      ]
     },
     "metadata": {},
     "output_type": "display_data"
    },
    {
     "data": {
      "application/vnd.jupyter.widget-view+json": {
       "model_id": "2cab08ee64bc4f3a8a99d54b603ed3a5",
       "version_major": 2,
       "version_minor": 0
      },
      "text/plain": [
       "Downloading data:   0%|          | 0.00/23.5M [00:00<?, ?B/s]"
      ]
     },
     "metadata": {},
     "output_type": "display_data"
    },
    {
     "data": {
      "application/vnd.jupyter.widget-view+json": {
       "model_id": "d7a2cd7c0a8a41c987abf2af43f1403a",
       "version_major": 2,
       "version_minor": 0
      },
      "text/plain": [
       "Generating train split:   0%|          | 0/650000 [00:00<?, ? examples/s]"
      ]
     },
     "metadata": {},
     "output_type": "display_data"
    },
    {
     "data": {
      "application/vnd.jupyter.widget-view+json": {
       "model_id": "d2df523a38cc44a38d9f49f72190b810",
       "version_major": 2,
       "version_minor": 0
      },
      "text/plain": [
       "Generating test split:   0%|          | 0/50000 [00:00<?, ? examples/s]"
      ]
     },
     "metadata": {},
     "output_type": "display_data"
    }
   ],
   "source": [
    "from datasets import load_dataset\n",
    "dataset = load_dataset('yelp_review_full')"
   ]
  },
  {
   "cell_type": "code",
   "execution_count": 3,
   "id": "67c8c04f-b624-47a2-9b92-867710fa9801",
   "metadata": {},
   "outputs": [
    {
     "data": {
      "text/plain": [
       "{'label': 0,\n",
       " 'text': 'My expectations for McDonalds are t rarely high. But for one to still fail so spectacularly...that takes something special!\\\\nThe cashier took my friends\\'s order, then promptly ignored me. I had to force myself in front of a cashier who opened his register to wait on the person BEHIND me. I waited over five minutes for a gigantic order that included precisely one kid\\'s meal. After watching two people who ordered after me be handed their food, I asked where mine was. The manager started yelling at the cashiers for \\\\\"serving off their orders\\\\\" when they didn\\'t have their food. But neither cashier was anywhere near those controls, and the manager was the one serving food to customers and clearing the boards.\\\\nThe manager was rude when giving me my order. She didn\\'t make sure that I had everything ON MY RECEIPT, and never even had the decency to apologize that I felt I was getting poor service.\\\\nI\\'ve eaten at various McDonalds restaurants for over 30 years. I\\'ve worked at more than one location. I expect bad days, bad moods, and the occasional mistake. But I have yet to have a decent experience at this store. It will remain a place I avoid unless someone in my party needs to avoid illness from low blood sugar. Perhaps I should go back to the racially biased service of Steak n Shake instead!'}"
      ]
     },
     "execution_count": 3,
     "metadata": {},
     "output_type": "execute_result"
    }
   ],
   "source": [
    "dataset['train'][100]"
   ]
  },
  {
   "cell_type": "code",
   "execution_count": 5,
   "id": "0f963c35-9357-4518-ae52-6e453a0e4b31",
   "metadata": {},
   "outputs": [
    {
     "data": {
      "application/vnd.jupyter.widget-view+json": {
       "model_id": "a6759f3ad7234c69aea42b13938e1104",
       "version_major": 2,
       "version_minor": 0
      },
      "text/plain": [
       "tokenizer_config.json:   0%|          | 0.00/49.0 [00:00<?, ?B/s]"
      ]
     },
     "metadata": {},
     "output_type": "display_data"
    },
    {
     "name": "stderr",
     "output_type": "stream",
     "text": [
      "/Users/gordonpetty/opt/anaconda3/envs/ernie/lib/python3.12/site-packages/huggingface_hub/file_download.py:1150: FutureWarning: `resume_download` is deprecated and will be removed in version 1.0.0. Downloads always resume when possible. If you want to force a new download, use `force_download=True`.\n",
      "  warnings.warn(\n"
     ]
    },
    {
     "data": {
      "application/vnd.jupyter.widget-view+json": {
       "model_id": "c1fe4cf528604d59b8432b24810ddb3a",
       "version_major": 2,
       "version_minor": 0
      },
      "text/plain": [
       "config.json:   0%|          | 0.00/570 [00:00<?, ?B/s]"
      ]
     },
     "metadata": {},
     "output_type": "display_data"
    },
    {
     "data": {
      "application/vnd.jupyter.widget-view+json": {
       "model_id": "352d869667e74de0b36f24b6b677542a",
       "version_major": 2,
       "version_minor": 0
      },
      "text/plain": [
       "vocab.txt:   0%|          | 0.00/213k [00:00<?, ?B/s]"
      ]
     },
     "metadata": {},
     "output_type": "display_data"
    },
    {
     "data": {
      "application/vnd.jupyter.widget-view+json": {
       "model_id": "1412ebeacd144a488b582c6f8dcada78",
       "version_major": 2,
       "version_minor": 0
      },
      "text/plain": [
       "tokenizer.json:   0%|          | 0.00/436k [00:00<?, ?B/s]"
      ]
     },
     "metadata": {},
     "output_type": "display_data"
    }
   ],
   "source": [
    "from transformers import AutoTokenizer\n",
    "\n",
    "tokenizer = AutoTokenizer.from_pretrained('google-bert/bert-base-cased')\n",
    "\n",
    "def tokenize_function(examples):\n",
    "    return tokenizer(examples[\"text\"], padding=\"max_length\", truncation=True)"
   ]
  },
  {
   "cell_type": "code",
   "execution_count": 6,
   "id": "563afd4d-c9d3-4e65-933d-df626374acee",
   "metadata": {},
   "outputs": [
    {
     "data": {
      "application/vnd.jupyter.widget-view+json": {
       "model_id": "20d2931b8b494db3ba1009fa476fcfe1",
       "version_major": 2,
       "version_minor": 0
      },
      "text/plain": [
       "Map:   0%|          | 0/650000 [00:00<?, ? examples/s]"
      ]
     },
     "metadata": {},
     "output_type": "display_data"
    },
    {
     "data": {
      "application/vnd.jupyter.widget-view+json": {
       "model_id": "51682fd64bba4757abf45701d21757ec",
       "version_major": 2,
       "version_minor": 0
      },
      "text/plain": [
       "Map:   0%|          | 0/50000 [00:00<?, ? examples/s]"
      ]
     },
     "metadata": {},
     "output_type": "display_data"
    }
   ],
   "source": [
    "tokenized_dataset = dataset.map(tokenize_function)"
   ]
  },
  {
   "cell_type": "code",
   "execution_count": 8,
   "id": "13f761d2-1583-4d5b-a5ac-150742a37b7e",
   "metadata": {},
   "outputs": [],
   "source": [
    "small_train_dataset = tokenized_dataset[\"train\"].shuffle(seed=42).select(range(1000))\n",
    "small_eval_dataset = tokenized_dataset[\"test\"].shuffle(seed=42).select(range(1000))"
   ]
  },
  {
   "cell_type": "code",
   "execution_count": 9,
   "id": "acd374bc-dcfc-4e6f-926a-27b327080eba",
   "metadata": {},
   "outputs": [
    {
     "data": {
      "application/vnd.jupyter.widget-view+json": {
       "model_id": "81d9df5b9508432388bcf5215b8ab0e1",
       "version_major": 2,
       "version_minor": 0
      },
      "text/plain": [
       "model.safetensors:   0%|          | 0.00/436M [00:00<?, ?B/s]"
      ]
     },
     "metadata": {},
     "output_type": "display_data"
    },
    {
     "name": "stderr",
     "output_type": "stream",
     "text": [
      "Some weights of BertForSequenceClassification were not initialized from the model checkpoint at google-bert/bert-base-cased and are newly initialized: ['classifier.bias', 'classifier.weight']\n",
      "You should probably TRAIN this model on a down-stream task to be able to use it for predictions and inference.\n"
     ]
    }
   ],
   "source": [
    "from transformers import AutoModelForSequenceClassification\n",
    "\n",
    "model = AutoModelForSequenceClassification.from_pretrained(\"google-bert/bert-base-cased\", num_labels=5, torch_dtype=\"auto\")"
   ]
  },
  {
   "cell_type": "code",
   "execution_count": 10,
   "id": "e6855396-7a7a-4c6c-8a78-d9f94c982240",
   "metadata": {},
   "outputs": [],
   "source": [
    "from transformers import TrainingArguments\n",
    "training_args = TrainingArguments(output_dir=\"test_trainer\")"
   ]
  },
  {
   "cell_type": "code",
   "execution_count": 16,
   "id": "fbd07cc9-ecf1-4f6b-8e15-718c287199f6",
   "metadata": {},
   "outputs": [
    {
     "data": {
      "application/vnd.jupyter.widget-view+json": {
       "model_id": "58ea9c06e5ec444b8e38d08b22a58717",
       "version_major": 2,
       "version_minor": 0
      },
      "text/plain": [
       "Downloading builder script:   0%|          | 0.00/4.20k [00:00<?, ?B/s]"
      ]
     },
     "metadata": {},
     "output_type": "display_data"
    }
   ],
   "source": [
    "import numpy as np\n",
    "import evaluate\n",
    "\n",
    "metric = evaluate.load(\"accuracy\")"
   ]
  },
  {
   "cell_type": "code",
   "execution_count": 18,
   "id": "68d2ebab-8428-4369-bdc5-1e8c4ce8062c",
   "metadata": {},
   "outputs": [],
   "source": [
    "def compute_metrics(eval_pred):\n",
    "    logits, labels = eval_pred\n",
    "    predictions = np.argmax(logits, axis=-1)\n",
    "    return metric.compute(predictions=predictions, references=labels)"
   ]
  },
  {
   "cell_type": "code",
   "execution_count": 19,
   "id": "b6d155f1-109f-489c-b332-966dc7f5a2fa",
   "metadata": {},
   "outputs": [],
   "source": [
    "from transformers import TrainingArguments, Trainer\n",
    "\n",
    "training_args = TrainingArguments(output_dir=\"test_trainer\", eval_strategy=\"epoch\")"
   ]
  },
  {
   "cell_type": "code",
   "execution_count": 22,
   "id": "9bc15ad4-c6bf-4f58-8fae-f608a786fdd1",
   "metadata": {},
   "outputs": [],
   "source": [
    "trainer = Trainer(\n",
    "    model=model,\n",
    "    args=training_args,\n",
    "    train_dataset=small_train_dataset,\n",
    "    eval_dataset=small_eval_dataset,\n",
    "    compute_metrics=compute_metrics,\n",
    ")"
   ]
  },
  {
   "cell_type": "code",
   "execution_count": 23,
   "id": "da6ddcae-749f-4f7f-9abe-9dd3d7a163a9",
   "metadata": {},
   "outputs": [
    {
     "data": {
      "text/html": [
       "\n",
       "    <div>\n",
       "      \n",
       "      <progress value='375' max='375' style='width:300px; height:20px; vertical-align: middle;'></progress>\n",
       "      [375/375 21:22, Epoch 3/3]\n",
       "    </div>\n",
       "    <table border=\"1\" class=\"dataframe\">\n",
       "  <thead>\n",
       " <tr style=\"text-align: left;\">\n",
       "      <th>Epoch</th>\n",
       "      <th>Training Loss</th>\n",
       "      <th>Validation Loss</th>\n",
       "      <th>Accuracy</th>\n",
       "    </tr>\n",
       "  </thead>\n",
       "  <tbody>\n",
       "    <tr>\n",
       "      <td>1</td>\n",
       "      <td>No log</td>\n",
       "      <td>1.173383</td>\n",
       "      <td>0.516000</td>\n",
       "    </tr>\n",
       "    <tr>\n",
       "      <td>2</td>\n",
       "      <td>No log</td>\n",
       "      <td>1.033741</td>\n",
       "      <td>0.554000</td>\n",
       "    </tr>\n",
       "    <tr>\n",
       "      <td>3</td>\n",
       "      <td>No log</td>\n",
       "      <td>1.045023</td>\n",
       "      <td>0.569000</td>\n",
       "    </tr>\n",
       "  </tbody>\n",
       "</table><p>"
      ],
      "text/plain": [
       "<IPython.core.display.HTML object>"
      ]
     },
     "metadata": {},
     "output_type": "display_data"
    },
    {
     "data": {
      "text/plain": [
       "TrainOutput(global_step=375, training_loss=1.0462149251302084, metrics={'train_runtime': 1288.6583, 'train_samples_per_second': 2.328, 'train_steps_per_second': 0.291, 'total_flos': 789354427392000.0, 'train_loss': 1.0462149251302084, 'epoch': 3.0})"
      ]
     },
     "execution_count": 23,
     "metadata": {},
     "output_type": "execute_result"
    }
   ],
   "source": [
    "trainer.train()"
   ]
  },
  {
   "cell_type": "code",
   "execution_count": 25,
   "id": "4a233920-0b59-4db6-b7a4-7d49a08a58e9",
   "metadata": {},
   "outputs": [],
   "source": [
    "# Save trained model locally\n",
    "save_path = 'test_trainer/trained_model'\n",
    "trainer.save_model(save_path)"
   ]
  },
  {
   "cell_type": "code",
   "execution_count": 33,
   "id": "b7b91632-8996-4a3d-926f-4f5b7f13445b",
   "metadata": {},
   "outputs": [
    {
     "data": {
      "text/html": [],
      "text/plain": [
       "<IPython.core.display.HTML object>"
      ]
     },
     "metadata": {},
     "output_type": "display_data"
    },
    {
     "data": {
      "text/plain": [
       "PredictionOutput(predictions=array([[-2.2285388 , -2.2718303 , -1.4508818 ,  1.697949  ,  3.0408947 ],\n",
       "       [-3.0135174 , -0.8645506 ,  2.11775   ,  2.2628431 , -0.731693  ],\n",
       "       [ 3.134579  ,  0.8743686 , -0.70214695, -1.4437107 , -0.9419497 ],\n",
       "       ...,\n",
       "       [-2.8668244 , -2.0274973 , -0.07909125,  2.1525335 ,  1.1882511 ],\n",
       "       [-1.6088244 ,  1.6698655 ,  2.290367  , -0.03984155, -1.9289058 ],\n",
       "       [-0.20784232,  1.8755993 ,  1.1396902 , -0.5347756 , -1.6096087 ]],\n",
       "      dtype=float32), label_ids=array([2, 4, 1, 4, 3, 4, 2, 3, 2, 3, 0, 0, 3, 2, 2, 1, 3, 1, 2, 2, 1, 2,\n",
       "       3, 1, 1, 3, 4, 0, 0, 2, 2, 2, 1, 3, 4, 0, 0, 1, 3, 2, 0, 2, 0, 0,\n",
       "       3, 0, 3, 2, 3, 0, 1, 1, 3, 3, 4, 4, 1, 4, 1, 3, 1, 0, 0, 1, 4, 1,\n",
       "       4, 3, 2, 4, 1, 0, 3, 3, 4, 1, 2, 1, 0, 4, 4, 4, 2, 3, 3, 1, 4, 0,\n",
       "       4, 2, 3, 0, 0, 0, 3, 4, 0, 0, 1, 4, 4, 0, 0, 1, 1, 0, 4, 2, 2, 1,\n",
       "       1, 4, 0, 4, 0, 3, 2, 0, 4, 4, 4, 2, 0, 0, 0, 1, 3, 0, 2, 0, 3, 2,\n",
       "       2, 2, 0, 3, 4, 3, 0, 1, 0, 1, 0, 0, 4, 3, 3, 1, 3, 0, 3, 4, 0, 2,\n",
       "       1, 3, 1, 3, 1, 3, 1, 0, 2, 0, 1, 1, 0, 0, 3, 3, 3, 3, 3, 1, 1, 0,\n",
       "       0, 2, 3, 3, 3, 1, 1, 3, 4, 0, 1, 1, 2, 2, 1, 3, 0, 2, 1, 1, 4, 0,\n",
       "       2, 4, 1, 1, 2, 3, 3, 2, 0, 1, 2, 4, 4, 1, 4, 2, 3, 0, 1, 0, 0, 2,\n",
       "       4, 3, 3, 0, 1, 1, 2, 0, 4, 0, 3, 0, 3, 2, 3, 1, 2, 4, 4, 2, 1, 0,\n",
       "       3, 1, 1, 1, 3, 0, 3, 0, 0, 2, 0, 3, 0, 3, 2, 4, 2, 2, 4, 4, 1, 1,\n",
       "       4, 4, 4, 0, 4, 0, 3, 1, 0, 1, 2, 2, 3, 0, 1, 0, 4, 1, 0, 4, 3, 0,\n",
       "       0, 3, 2, 1, 4, 4, 3, 0, 0, 0, 0, 3, 3, 3, 4, 3, 1, 0, 0, 4, 3, 3,\n",
       "       1, 0, 0, 2, 1, 4, 4, 1, 1, 1, 3, 4, 3, 0, 2, 1, 4, 3, 0, 1, 1, 4,\n",
       "       1, 1, 1, 4, 0, 2, 0, 0, 2, 2, 1, 2, 4, 4, 4, 4, 0, 2, 4, 1, 1, 3,\n",
       "       4, 1, 1, 1, 0, 3, 0, 2, 4, 0, 2, 1, 0, 3, 3, 1, 1, 4, 0, 4, 3, 4,\n",
       "       3, 1, 1, 2, 1, 2, 1, 3, 2, 0, 2, 4, 3, 2, 3, 3, 1, 0, 1, 3, 4, 2,\n",
       "       2, 1, 1, 0, 1, 4, 2, 2, 3, 4, 3, 1, 4, 2, 3, 3, 2, 3, 1, 0, 4, 2,\n",
       "       1, 0, 4, 4, 3, 0, 1, 3, 2, 1, 0, 0, 2, 2, 3, 2, 2, 4, 1, 0, 1, 2,\n",
       "       0, 4, 3, 2, 2, 3, 0, 2, 2, 0, 0, 1, 4, 2, 0, 1, 2, 1, 1, 2, 0, 3,\n",
       "       0, 4, 1, 2, 4, 3, 0, 2, 2, 1, 0, 1, 0, 1, 2, 3, 3, 4, 3, 4, 2, 1,\n",
       "       0, 1, 2, 3, 1, 3, 1, 2, 4, 1, 3, 0, 4, 4, 2, 2, 3, 1, 3, 4, 4, 4,\n",
       "       0, 0, 0, 2, 1, 2, 3, 4, 4, 2, 4, 3, 0, 3, 0, 2, 1, 3, 0, 0, 3, 2,\n",
       "       0, 4, 1, 4, 3, 2, 4, 2, 0, 1, 1, 3, 3, 2, 4, 3, 0, 3, 2, 0, 3, 3,\n",
       "       3, 2, 1, 1, 2, 1, 4, 1, 2, 0, 3, 3, 3, 3, 2, 0, 1, 1, 4, 4, 1, 2,\n",
       "       2, 3, 2, 0, 3, 3, 0, 2, 3, 0, 1, 0, 3, 3, 0, 1, 4, 1, 1, 1, 2, 3,\n",
       "       3, 2, 3, 4, 0, 0, 4, 4, 0, 3, 0, 0, 3, 1, 2, 0, 2, 3, 1, 2, 2, 0,\n",
       "       0, 4, 4, 0, 1, 3, 1, 2, 1, 3, 2, 1, 4, 1, 3, 4, 2, 4, 1, 2, 0, 1,\n",
       "       4, 2, 2, 2, 4, 4, 1, 0, 4, 3, 1, 1, 3, 1, 1, 3, 3, 0, 0, 0, 0, 1,\n",
       "       2, 4, 4, 1, 0, 4, 0, 2, 0, 4, 2, 2, 0, 1, 0, 4, 1, 3, 3, 1, 1, 3,\n",
       "       1, 0, 1, 1, 1, 3, 4, 2, 4, 4, 4, 0, 0, 1, 2, 3, 0, 4, 2, 4, 1, 3,\n",
       "       2, 1, 4, 3, 4, 2, 0, 4, 1, 1, 4, 1, 3, 0, 4, 0, 3, 4, 0, 0, 0, 2,\n",
       "       3, 1, 2, 3, 3, 3, 1, 2, 4, 2, 2, 2, 4, 3, 3, 2, 2, 3, 2, 0, 0, 1,\n",
       "       0, 3, 4, 2, 0, 3, 2, 1, 2, 1, 2, 0, 0, 2, 0, 1, 0, 3, 4, 0, 4, 0,\n",
       "       3, 2, 2, 4, 0, 1, 3, 0, 0, 3, 4, 1, 4, 0, 3, 1, 1, 1, 1, 4, 2, 2,\n",
       "       0, 3, 0, 0, 3, 3, 0, 0, 3, 1, 3, 0, 3, 1, 3, 0, 0, 4, 3, 1, 0, 2,\n",
       "       0, 4, 3, 1, 3, 2, 0, 4, 2, 2, 2, 4, 2, 2, 4, 2, 1, 0, 3, 3, 2, 0,\n",
       "       0, 0, 2, 3, 1, 2, 1, 2, 1, 0, 3, 4, 3, 4, 1, 2, 0, 4, 3, 1, 2, 3,\n",
       "       0, 2, 1, 2, 3, 1, 1, 2, 0, 3, 3, 0, 3, 2, 2, 1, 0, 4, 2, 2, 0, 2,\n",
       "       4, 1, 0, 1, 4, 4, 2, 1, 1, 4, 4, 0, 1, 2, 4, 4, 1, 2, 0, 1, 0, 3,\n",
       "       3, 2, 3, 0, 2, 4, 4, 0, 3, 0, 3, 0, 2, 3, 1, 2, 2, 1, 2, 0, 3, 2,\n",
       "       0, 3, 1, 4, 0, 1, 3, 1, 2, 1, 4, 3, 3, 0, 1, 4, 3, 1, 1, 2, 1, 2,\n",
       "       3, 3, 3, 0, 1, 2, 2, 3, 1, 4, 0, 2, 3, 0, 3, 0, 1, 0, 1, 2, 1, 2,\n",
       "       0, 4, 0, 0, 0, 2, 2, 1, 0, 4, 4, 2, 0, 4, 3, 0, 4, 0, 1, 2, 4, 2,\n",
       "       0, 1, 1, 3, 3, 3, 3, 2, 2, 1]), metrics={'test_loss': 1.0450234413146973, 'test_accuracy': 0.569, 'test_runtime': 102.1132, 'test_samples_per_second': 9.793, 'test_steps_per_second': 1.224})"
      ]
     },
     "execution_count": 33,
     "metadata": {},
     "output_type": "execute_result"
    }
   ],
   "source": [
    "trainer.predict(small_eval_dataset)"
   ]
  },
  {
   "cell_type": "code",
   "execution_count": 34,
   "id": "83bceb58-771d-4f79-9892-0a760ad853e1",
   "metadata": {},
   "outputs": [
    {
     "data": {
      "text/html": [
       "\n",
       "    <div>\n",
       "      \n",
       "      <progress value='125' max='125' style='width:300px; height:20px; vertical-align: middle;'></progress>\n",
       "      [125/125 01:38]\n",
       "    </div>\n",
       "    "
      ],
      "text/plain": [
       "<IPython.core.display.HTML object>"
      ]
     },
     "metadata": {},
     "output_type": "display_data"
    },
    {
     "data": {
      "text/plain": [
       "{'eval_loss': 1.0450234413146973,\n",
       " 'eval_accuracy': 0.569,\n",
       " 'eval_runtime': 101.3841,\n",
       " 'eval_samples_per_second': 9.863,\n",
       " 'eval_steps_per_second': 1.233,\n",
       " 'epoch': 3.0}"
      ]
     },
     "execution_count": 34,
     "metadata": {},
     "output_type": "execute_result"
    }
   ],
   "source": [
    "trainer.evaluate()"
   ]
  },
  {
   "cell_type": "code",
   "execution_count": 44,
   "id": "d61f25df-78ff-42ae-a30e-9acfa5592cc7",
   "metadata": {},
   "outputs": [],
   "source": [
    "# Create some fake reviews and see how they are classified by our model\n",
    "reviews = [\n",
    "    'This was the absolute best restaurant I have ever been to!',\n",
    "    'I went here and it was just OK. The food was mediocre but the service was good',\n",
    "    'My experience here was absolutely awful, and I will never return!'\n",
    "]\n",
    "\n",
    "# Encode them!\n",
    "review_encoded = tokenizer(reviews,padding=\"max_length\", truncation=True, return_tensors='pt')\n",
    "# Reformat for interpretation by model\n",
    "review_encoded = {k: v.to(trainer.model.device) for k,v in review_encoded.items()}\n",
    "review_encoded"
   ]
  },
  {
   "cell_type": "code",
   "execution_count": 48,
   "id": "3581e0c3-9602-42ae-b842-d8484ed9ed4b",
   "metadata": {},
   "outputs": [
    {
     "data": {
      "text/plain": [
       "SequenceClassifierOutput(loss=None, logits=tensor([[-0.8398, -1.5912, -1.4926,  0.5747,  2.7292],\n",
       "        [-2.1735,  0.2691,  2.5914,  1.4665, -1.5088],\n",
       "        [ 3.2254,  0.8062, -0.7483, -1.3968, -1.0237]], device='mps:0',\n",
       "       grad_fn=<LinearBackward0>), hidden_states=None, attentions=None)"
      ]
     },
     "execution_count": 48,
     "metadata": {},
     "output_type": "execute_result"
    }
   ],
   "source": [
    "outputs = trainer.model(**review_encoded)\n",
    "# The outputs are Logits, which we then need to convert to our classifications\n",
    "# Here we can simply \n",
    "outputs"
   ]
  },
  {
   "cell_type": "code",
   "execution_count": 97,
   "id": "9267d2b1-9e0f-45c9-9762-bc546f722763",
   "metadata": {},
   "outputs": [],
   "source": [
    "import torch\n",
    "softmax = torch.nn.Softmax(dim=1)\n",
    "logits = outputs.logits.squeeze().cpu()\n",
    "sig_outputs = sigmoid(logits).detach().numpy()\n",
    "logits_np = logits.detach().numpy()"
   ]
  },
  {
   "cell_type": "code",
   "execution_count": 94,
   "id": "86b4e761-d4bf-41fd-9aea-d6419066bdb5",
   "metadata": {},
   "outputs": [
    {
     "data": {
      "text/plain": [
       "array([[0.02, 0.01, 0.01, 0.1 , 0.85],\n",
       "       [0.01, 0.07, 0.69, 0.22, 0.01],\n",
       "       [0.88, 0.08, 0.02, 0.01, 0.01]], dtype=float32)"
      ]
     },
     "execution_count": 94,
     "metadata": {},
     "output_type": "execute_result"
    }
   ],
   "source": [
    "np.round(sig_outputs,2)"
   ]
  },
  {
   "cell_type": "code",
   "execution_count": null,
   "id": "17d710b8-aba4-4393-82d6-536788bc447b",
   "metadata": {},
   "outputs": [],
   "source": [
    "np.argmax(logits)"
   ]
  },
  {
   "cell_type": "code",
   "execution_count": 102,
   "id": "41cc5dfc-9c9b-4fa3-8638-e9159ffc295d",
   "metadata": {},
   "outputs": [],
   "source": [
    "categories = np.argmax(logits_np,axis=1)"
   ]
  },
  {
   "cell_type": "code",
   "execution_count": 101,
   "id": "586d1ea5-3283-4aec-967d-f32b3cb10a6a",
   "metadata": {},
   "outputs": [],
   "source": [
    "mapping = {0:'1 star',1:'2 stars',2:'3 stars',3:'4 stars',4:'5 stars'}"
   ]
  },
  {
   "cell_type": "code",
   "execution_count": 105,
   "id": "908b086e-55dc-49d0-b759-a372f6044213",
   "metadata": {},
   "outputs": [
    {
     "data": {
      "text/plain": [
       "['5 stars', '3 stars', '1 star']"
      ]
     },
     "execution_count": 105,
     "metadata": {},
     "output_type": "execute_result"
    }
   ],
   "source": [
    "classifications = [mapping[c] for c in categories]\n",
    "classifications"
   ]
  }
 ],
 "metadata": {
  "kernelspec": {
   "display_name": "Python 3 (ipykernel)",
   "language": "python",
   "name": "python3"
  },
  "language_info": {
   "codemirror_mode": {
    "name": "ipython",
    "version": 3
   },
   "file_extension": ".py",
   "mimetype": "text/x-python",
   "name": "python",
   "nbconvert_exporter": "python",
   "pygments_lexer": "ipython3",
   "version": "3.12.8"
  }
 },
 "nbformat": 4,
 "nbformat_minor": 5
}
