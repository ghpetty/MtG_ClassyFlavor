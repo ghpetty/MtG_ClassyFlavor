{
 "cells": [
  {
   "cell_type": "code",
   "execution_count": 206,
   "id": "9d7526e1",
   "metadata": {},
   "outputs": [],
   "source": [
    "import requests, time, pickle, os\n",
    "import CF_standard_functions as cf_sf # Standard utility functions\n",
    "import pandas as pd\n",
    "import numpy as np\n",
    "import seaborn as sns\n",
    "from matplotlib import pyplot as plt"
   ]
  },
  {
   "cell_type": "code",
   "execution_count": 207,
   "id": "d0cab7cc",
   "metadata": {},
   "outputs": [],
   "source": [
    "# Set these parameters for saving and loading data\n",
    "output_dir = os.getcwd()\n",
    "file_name = 'CardData.pkl'\n",
    "full_file = output_dir+\"\\\\\"+file_name"
   ]
  },
  {
   "cell_type": "markdown",
   "id": "405fa5c7",
   "metadata": {},
   "source": [
    "## Get Card Data from Scryfall using the Scryfall API\n",
    "**Scryfall** is a powerful database and search engin for Magic: The Gathering cards. \n",
    "We will use their API to download all cards that have flavor text. Since cards are often reprinted with different flavor text each time, we will import all printed versions of every card that _does_ contain flavor text. \n",
    "\n",
    "https://scryfall.com/docs/api\n",
    "\n",
    "We then convert the data to a pandas dataframe and isolate unique instances of flavor text. Finally we will save a local copy of the data so that we don't have to access the API repeatedly. New cards are only added monthly or so. \n",
    "\n"
   ]
  },
  {
   "cell_type": "code",
   "execution_count": 208,
   "id": "3510575d-f40b-4184-ae9e-0202197349d3",
   "metadata": {
    "jupyter": {
     "source_hidden": true
    },
    "tags": []
   },
   "outputs": [
    {
     "name": "stdout",
     "output_type": "stream",
     "text": [
      "Loading data from disk...\n",
      "Done!\n",
      "20546 cards in data set\n"
     ]
    }
   ],
   "source": [
    "# Scryfall query parameters:\n",
    "order = \"cmc\"\n",
    "# Unique printings of cards that have flavor text, English prints only, and ignoring \"funny\" cards (like those from the un-sets or holiday cards)\n",
    "querystring = \"has%3Aflavor+unique%3Aprints+%2Dis%3Dfunny+language%3Den&unique=prints\"\n",
    "url = f\"https://api.scryfall.com/cards/search?order={order}&q={querystring}\"\n",
    "\n",
    "# First check if data already exists and is \"fresh\". If so, load it in:\n",
    "# Here defining fresh as newer than a week\n",
    "if os.path.isfile(full_file) and cf_sf.file_age_in_hours(full_file) < 24*3 :\n",
    "    print('Loading data from disk...')\n",
    "    file = open(full_file, 'rb')\n",
    "    data = pickle.load(file)\n",
    "    file.close()\n",
    "    print('Done!')\n",
    "else:# Otherwise get the data from Scryfall. This can take a while... \n",
    "    sf_response = requests.get(url).json()\n",
    "    data = sf_response['data']\n",
    "    curr_page = 1;\n",
    "    print(f\"Page {curr_page}\",end='\\r')\n",
    "    while sf_response['has_more']:  \n",
    "        time.sleep(0.2) # Be polite and patient with the API\n",
    "        url_next = sf_response['next_page']\n",
    "        sf_response = requests.get(url_next).json()\n",
    "        data_new = sf_response['data']\n",
    "        data = data + data_new\n",
    "        curr_page += 1 \n",
    "        print(f\"Page {curr_page}\",end='\\r')\n",
    "    \n",
    "    print(f\"Loaded {curr_page} pages of cards\")\n",
    "    print(\"Saving...\")\n",
    "    data = pd.DataFrame(data)\n",
    "    data.drop_duplicates(subset='flavor_text',inplace=True)\n",
    "    file = open(full_file,'wb')    \n",
    "    pickle.dump(data, file)\n",
    "    file.close()\n",
    "    print(\"Done!\")\n",
    "    \n",
    "nCards = len(data)\n",
    "print(nCards,\"cards in data set\")"
   ]
  },
  {
   "cell_type": "markdown",
   "id": "55cc9d84",
   "metadata": {},
   "source": [
    "### Organize cards by color\n",
    "In our first task we will classify flavor text by color. For convenience, we will make a new dataframe subsetting only the name, flavortext, and color of monocolored cards.\\\n",
    "To make separating cards by colors easier, we add a Boolean variable to the dataframe for each color.\\\n",
    "We also add a Boolean for whether or not a card is monocolored (not colorless and not multicolored). \\\n",
    "Finally, sort our cards in traditional WUBRG (**W**hite, Bl**u**E, **B**lack, **R**ed, **G**reen) order by setting the _colors_ variable to a categorical value.\n"
   ]
  },
  {
   "cell_type": "code",
   "execution_count": 209,
   "id": "a182130a-c9cf-421c-b090-eb03b6680e7b",
   "metadata": {
    "scrolled": true,
    "tags": []
   },
   "outputs": [
    {
     "name": "stderr",
     "output_type": "stream",
     "text": [
      "C:\\Users\\gordo\\anaconda3\\lib\\site-packages\\numpy\\lib\\arraysetops.py:583: FutureWarning: elementwise comparison failed; returning scalar instead, but in the future will perform elementwise comparison\n",
      "  mask |= (ar1 == a)\n"
     ]
    },
    {
     "data": {
      "text/html": [
       "<div>\n",
       "<style scoped>\n",
       "    .dataframe tbody tr th:only-of-type {\n",
       "        vertical-align: middle;\n",
       "    }\n",
       "\n",
       "    .dataframe tbody tr th {\n",
       "        vertical-align: top;\n",
       "    }\n",
       "\n",
       "    .dataframe thead th {\n",
       "        text-align: right;\n",
       "    }\n",
       "</style>\n",
       "<table border=\"1\" class=\"dataframe\">\n",
       "  <thead>\n",
       "    <tr style=\"text-align: right;\">\n",
       "      <th></th>\n",
       "      <th>name</th>\n",
       "      <th>colors</th>\n",
       "      <th>flavor_text</th>\n",
       "    </tr>\n",
       "  </thead>\n",
       "  <tbody>\n",
       "    <tr>\n",
       "      <th>14283</th>\n",
       "      <td>Squire</td>\n",
       "      <td>W</td>\n",
       "      <td>\"Of twenty yeer of age he was, I gesse.\\nOf hi...</td>\n",
       "    </tr>\n",
       "    <tr>\n",
       "      <th>34523</th>\n",
       "      <td>Miraculous Recovery</td>\n",
       "      <td>W</td>\n",
       "      <td>\"You stop breathing for just a few minutes and...</td>\n",
       "    </tr>\n",
       "    <tr>\n",
       "      <th>10950</th>\n",
       "      <td>Kami of Ancient Law</td>\n",
       "      <td>W</td>\n",
       "      <td>\"Duty and law are the foundation on which civi...</td>\n",
       "    </tr>\n",
       "    <tr>\n",
       "      <th>10933</th>\n",
       "      <td>Justiciar's Portal</td>\n",
       "      <td>W</td>\n",
       "      <td>With the new guildmaster's innovations, arrest...</td>\n",
       "    </tr>\n",
       "    <tr>\n",
       "      <th>10923</th>\n",
       "      <td>Juniper Order Rootweaver</td>\n",
       "      <td>W</td>\n",
       "      <td>\"What Phyrexia takes, the grace of Freyalise s...</td>\n",
       "    </tr>\n",
       "    <tr>\n",
       "      <th>...</th>\n",
       "      <td>...</td>\n",
       "      <td>...</td>\n",
       "      <td>...</td>\n",
       "    </tr>\n",
       "    <tr>\n",
       "      <th>20088</th>\n",
       "      <td>Hungry Spriggan</td>\n",
       "      <td>G</td>\n",
       "      <td>If a spriggan's eyes are larger than its stoma...</td>\n",
       "    </tr>\n",
       "    <tr>\n",
       "      <th>34455</th>\n",
       "      <td>Meandering Towershell</td>\n",
       "      <td>G</td>\n",
       "      <td>The wait is proportional to the weight.</td>\n",
       "    </tr>\n",
       "    <tr>\n",
       "      <th>11145</th>\n",
       "      <td>Kraul Warrior</td>\n",
       "      <td>G</td>\n",
       "      <td>The insectile kraul lurk in the tunnels below ...</td>\n",
       "    </tr>\n",
       "    <tr>\n",
       "      <th>20093</th>\n",
       "      <td>Hunter's Ambush</td>\n",
       "      <td>G</td>\n",
       "      <td>First you lose your enemy's trail. Then you lo...</td>\n",
       "    </tr>\n",
       "    <tr>\n",
       "      <th>20739</th>\n",
       "      <td>Leatherback Baloth</td>\n",
       "      <td>G</td>\n",
       "      <td>Heavy enough to withstand the Roil, leatherbac...</td>\n",
       "    </tr>\n",
       "  </tbody>\n",
       "</table>\n",
       "<p>16007 rows × 3 columns</p>\n",
       "</div>"
      ],
      "text/plain": [
       "                           name colors  \\\n",
       "14283                    Squire      W   \n",
       "34523       Miraculous Recovery      W   \n",
       "10950       Kami of Ancient Law      W   \n",
       "10933        Justiciar's Portal      W   \n",
       "10923  Juniper Order Rootweaver      W   \n",
       "...                         ...    ...   \n",
       "20088           Hungry Spriggan      G   \n",
       "34455     Meandering Towershell      G   \n",
       "11145             Kraul Warrior      G   \n",
       "20093           Hunter's Ambush      G   \n",
       "20739        Leatherback Baloth      G   \n",
       "\n",
       "                                             flavor_text  \n",
       "14283  \"Of twenty yeer of age he was, I gesse.\\nOf hi...  \n",
       "34523  \"You stop breathing for just a few minutes and...  \n",
       "10950  \"Duty and law are the foundation on which civi...  \n",
       "10933  With the new guildmaster's innovations, arrest...  \n",
       "10923  \"What Phyrexia takes, the grace of Freyalise s...  \n",
       "...                                                  ...  \n",
       "20088  If a spriggan's eyes are larger than its stoma...  \n",
       "34455            The wait is proportional to the weight.  \n",
       "11145  The insectile kraul lurk in the tunnels below ...  \n",
       "20093  First you lose your enemy's trail. Then you lo...  \n",
       "20739  Heavy enough to withstand the Roil, leatherbac...  \n",
       "\n",
       "[16007 rows x 3 columns]"
      ]
     },
     "execution_count": 209,
     "metadata": {},
     "output_type": "execute_result"
    }
   ],
   "source": [
    "data = pd.DataFrame(data)\n",
    "data.drop_duplicates(subset='flavor_text',inplace=True)\n",
    "\n",
    "for c in ['W','U','B','R','G']:\n",
    "    tf = data.colors.apply(lambda x : np.shape(x) != (0,) and np.any(np.isin(x,c)))\n",
    "    data['is_'+c] = tf\n",
    "\n",
    "tf = np.sum(data.loc[:][['is_W','is_U','is_B','is_R','is_G']],axis=1) == 1\n",
    "data['is_monocolor'] = tf\n",
    "\n",
    "data_monocolor = data.loc[data.is_monocolor][['name','colors','flavor_text']].copy()\n",
    "data_monocolor['colors'] = data_monocolor.colors.apply(lambda x: ''.join(x)) # Convert from list to string\n",
    "\n",
    "data_monocolor['colors'] = pd.Categorical(data_monocolor['colors'],ordered=True)\n",
    "data_monocolor['colors'] = data_monocolor['colors'].cat.reorder_categories(['W','U','B','R','G'])\n",
    "data_monocolor.sort_values('colors',ascending=True,inplace=True)\n",
    "data_monocolor\n",
    "#print(f\"Post-trimming: {data_monocolor.shape[0]} unique instances of flavor text on monocolor cards\")"
   ]
  },
  {
   "cell_type": "markdown",
   "id": "23b594d7",
   "metadata": {},
   "source": [
    "### Prepare data for classification\n",
    "\n",
    "For our classifier we need numeric groups, so we will make numeric categories for the colors."
   ]
  },
  {
   "cell_type": "code",
   "execution_count": 210,
   "id": "ad1e0fcf",
   "metadata": {
    "jupyter": {
     "source_hidden": true
    },
    "tags": []
   },
   "outputs": [
    {
     "data": {
      "text/html": [
       "<div>\n",
       "<style scoped>\n",
       "    .dataframe tbody tr th:only-of-type {\n",
       "        vertical-align: middle;\n",
       "    }\n",
       "\n",
       "    .dataframe tbody tr th {\n",
       "        vertical-align: top;\n",
       "    }\n",
       "\n",
       "    .dataframe thead th {\n",
       "        text-align: right;\n",
       "    }\n",
       "</style>\n",
       "<table border=\"1\" class=\"dataframe\">\n",
       "  <thead>\n",
       "    <tr style=\"text-align: right;\">\n",
       "      <th></th>\n",
       "      <th>name</th>\n",
       "      <th>colors</th>\n",
       "      <th>flavor_text</th>\n",
       "      <th>label</th>\n",
       "    </tr>\n",
       "  </thead>\n",
       "  <tbody>\n",
       "    <tr>\n",
       "      <th>9154</th>\n",
       "      <td>Elemental Uprising</td>\n",
       "      <td>G</td>\n",
       "      <td>\"My heart and Zendikar's beat as one. Together...</td>\n",
       "      <td>4</td>\n",
       "    </tr>\n",
       "    <tr>\n",
       "      <th>35584</th>\n",
       "      <td>Silverback Ape</td>\n",
       "      <td>G</td>\n",
       "      <td>His true majesty is not in his silver, but in ...</td>\n",
       "      <td>4</td>\n",
       "    </tr>\n",
       "    <tr>\n",
       "      <th>36619</th>\n",
       "      <td>Arcanis the Omnipotent</td>\n",
       "      <td>U</td>\n",
       "      <td>\"Do not concern yourself with my origin, my ra...</td>\n",
       "      <td>1</td>\n",
       "    </tr>\n",
       "    <tr>\n",
       "      <th>20396</th>\n",
       "      <td>Jolrael's Centaur</td>\n",
       "      <td>G</td>\n",
       "      <td>\"What need have I for cavalry when I can have ...</td>\n",
       "      <td>4</td>\n",
       "    </tr>\n",
       "    <tr>\n",
       "      <th>21370</th>\n",
       "      <td>Minion's Return</td>\n",
       "      <td>B</td>\n",
       "      <td>As a mortal, Phenax was the first to escape th...</td>\n",
       "      <td>2</td>\n",
       "    </tr>\n",
       "  </tbody>\n",
       "</table>\n",
       "</div>"
      ],
      "text/plain": [
       "                         name colors  \\\n",
       "9154       Elemental Uprising      G   \n",
       "35584          Silverback Ape      G   \n",
       "36619  Arcanis the Omnipotent      U   \n",
       "20396       Jolrael's Centaur      G   \n",
       "21370         Minion's Return      B   \n",
       "\n",
       "                                             flavor_text label  \n",
       "9154   \"My heart and Zendikar's beat as one. Together...     4  \n",
       "35584  His true majesty is not in his silver, but in ...     4  \n",
       "36619  \"Do not concern yourself with my origin, my ra...     1  \n",
       "20396  \"What need have I for cavalry when I can have ...     4  \n",
       "21370  As a mortal, Phenax was the first to escape th...     2  "
      ]
     },
     "execution_count": 210,
     "metadata": {},
     "output_type": "execute_result"
    }
   ],
   "source": [
    "label_map = {'W':0,\n",
    "             'U':1,\n",
    "             'B':2,\n",
    "             'R':3,\n",
    "             'G':4}\n",
    "data_monocolor['label'] = data_monocolor['colors'].map(label_map)\n",
    "data_monocolor.sample(5)"
   ]
  },
  {
   "cell_type": "markdown",
   "id": "15d84020-6930-4a94-9253-1218b9081dcb",
   "metadata": {},
   "source": [
    "### Split data into train and test sets"
   ]
  },
  {
   "cell_type": "code",
   "execution_count": 211,
   "id": "9d4a4160-4cd4-4204-b0b6-8353567287ed",
   "metadata": {},
   "outputs": [
    {
     "name": "stdout",
     "output_type": "stream",
     "text": [
      "Training set consists of 12005 cards.\n",
      "Test set consists of 4002 cards.\n"
     ]
    }
   ],
   "source": [
    "from sklearn.model_selection import train_test_split\n",
    "\n",
    "flavor_train, flavor_test, label_train, label_test = train_test_split(\n",
    "        data_monocolor['flavor_text'], data_monocolor['label'], test_size=0.25, random_state=1)\n",
    "\n",
    "print('Training set consists of',flavor_train.shape[0],'cards.')\n",
    "print('Test set consists of',flavor_test.shape[0],'cards.')\n"
   ]
  },
  {
   "cell_type": "markdown",
   "id": "b97d59c9-e900-4319-83f1-708cc3a5b48b",
   "metadata": {},
   "source": [
    "## Design our Model!\n",
    "- Tokenize the words in flavor text, ignoring terms that are extremeley common and those that only appear 3 or fewer times in the training set.\n",
    "- Classify the text using an SVM."
   ]
  },
  {
   "cell_type": "code",
   "execution_count": 212,
   "id": "d545cd3a-c2c1-4aab-9bba-eab618df4cd0",
   "metadata": {},
   "outputs": [
    {
     "name": "stdout",
     "output_type": "stream",
     "text": [
      "Classifier hit rate is 50.6%\n"
     ]
    }
   ],
   "source": [
    "from sklearn.feature_extraction.text import TfidfVectorizer\n",
    "from sklearn.svm import LinearSVC\n",
    "from sklearn.pipeline import Pipeline\n",
    "my_vectorizer = TfidfVectorizer(min_df = 3)\n",
    "pipe = Pipeline([('vect',my_vectorizer),\n",
    "               ('clf',LinearSVC())])\n",
    "\n",
    "pipe = pipe.fit(flavor_train,label_train)\n",
    "\n",
    "label_predict = pipe.predict(flavor_test)\n",
    "performance = np.round(sum(label_predict == label_test) / len(label_test) , 3)*100\n",
    "print('Classifier hit rate is %s%%' % performance)\n"
   ]
  },
  {
   "cell_type": "markdown",
   "id": "7a4b3be7-7c69-4854-b678-86984ae4f028",
   "metadata": {},
   "source": [
    "**Measure performance with a confusion matrix:**"
   ]
  },
  {
   "cell_type": "code",
   "execution_count": 213,
   "id": "ce624424-2750-460a-830a-1b57bedbdcb0",
   "metadata": {
    "tags": []
   },
   "outputs": [
    {
     "name": "stdout",
     "output_type": "stream",
     "text": [
      "              precision    recall  f1-score   support\n",
      "\n",
      "           W       0.48      0.50      0.49       847\n",
      "           U       0.47      0.53      0.50       729\n",
      "           B       0.50      0.52      0.51       773\n",
      "           R       0.55      0.49      0.52       851\n",
      "           G       0.53      0.50      0.51       802\n",
      "\n",
      "    accuracy                           0.51      4002\n",
      "   macro avg       0.51      0.51      0.51      4002\n",
      "weighted avg       0.51      0.51      0.51      4002\n",
      "\n"
     ]
    },
    {
     "data": {
      "image/png": "[encoded data removed]",
      "text/plain": [
       "<Figure size 720x720 with 2 Axes>"
      ]
     },
     "metadata": {
      "needs_background": "light"
     },
     "output_type": "display_data"
    }
   ],
   "source": [
    "from sklearn import metrics\n",
    "import seaborn as sns\n",
    "\n",
    "print(metrics.classification_report(label_test, label_predict,target_names = [str(i) for i in label_map]))\n",
    "\n",
    "cm = metrics.confusion_matrix(label_test, label_predict,normalize='true',\n",
    "                              labels=list(label_map.values()))\n",
    "\n",
    "fig, ax = plt.subplots(figsize=(10,10))\n",
    "sns.heatmap(cm, annot=True, fmt='.2f',xticklabels=[str(i) for i in label_map],yticklabels=[str(i) for i in label_map])\n",
    "plt.ylabel('Actual')\n",
    "plt.xlabel('Predicted')\n",
    "plt.show(block=False)\n"
   ]
  },
  {
   "cell_type": "markdown",
   "id": "9353294c-ebc1-4642-aae5-11507965fa47",
   "metadata": {},
   "source": [
    "**Not too shabby!** \\\n",
    "Looks like we do a better job classifying Blue cards and a worse job at Red cards, but only slightly.\n",
    "\n",
    "We can now write our own flavor text and see what color our model thinks it belongs to."
   ]
  },
  {
   "cell_type": "code",
   "execution_count": 214,
   "id": "d5d747a1-64f6-4016-a586-0e26670d6ecb",
   "metadata": {
    "tags": []
   },
   "outputs": [
    {
     "name": "stdout",
     "output_type": "stream",
     "text": [
      "Goblins sure do smell bad --> R\n",
      "Your spell was a mistake and now it is gone --> U\n",
      "Trees are the most beautiful thing --> G\n",
      "Death cannot stop the wicked --> B\n",
      "The angelic choir sings loftily over the clouds --> W\n",
      "\"Some like it hot\" -Chandra Nalaar --> R\n"
     ]
    }
   ],
   "source": [
    "new_flavor_text = ['Goblins sure do smell bad',\n",
    "              'Your spell was a mistake and now it is gone',\n",
    "              'Trees are the most beautiful thing',\n",
    "              'Death cannot stop the wicked',\n",
    "              'The angelic choir sings loftily over the clouds',\n",
    "              '\"Some like it hot\" -Chandra Nalaar']\n",
    "\n",
    "new_color_predictions = pipe.predict(new_flavor_text)\n",
    "# Reverse-lookup color mapping    \n",
    "for txt,col in zip(new_flavor_text,new_color_predictions):\n",
    "    print(f\"{txt} --> {[str(i) for i in label_map][col]}\")"
   ]
  },
  {
   "cell_type": "markdown",
   "id": "265c1e75-9709-4713-a4ae-5e045362c103",
   "metadata": {},
   "source": [
    "**Lets see if we can do better by tokenizing word pairs as well as individual words**"
   ]
  },
  {
   "cell_type": "code",
   "execution_count": 215,
   "id": "24972038-4394-4223-b349-bd37abd3f42d",
   "metadata": {
    "tags": []
   },
   "outputs": [
    {
     "name": "stdout",
     "output_type": "stream",
     "text": [
      "Classifier hit rate is 50.6%\n"
     ]
    }
   ],
   "source": [
    "performance = np.round(sum(label_predict == label_test) / len(label_test) , 3)*100\n",
    "print('Classifier hit rate is %s%%' % performance)\n",
    "pipe.set_params(vect__ngram_range = (1,2))\n",
    "pipe.fit(flavor_train,label_train)\n",
    "color_predict = pipe.predict(flavor_test)\n"
   ]
  },
  {
   "cell_type": "markdown",
   "id": "2af4e8a2-c5bb-4adb-bb4a-0f9589aefb95",
   "metadata": {},
   "source": [
    "**Not much better. Lets do a more thorough hunt of parameters with a grid search** \\\n",
    "(this takes a long time to run, check the Python kernal for progress updates)"
   ]
  },
  {
   "cell_type": "code",
   "execution_count": 59,
   "id": "385d1f45-ae6c-4fbf-8538-db23c8927d59",
   "metadata": {},
   "outputs": [
    {
     "name": "stdout",
     "output_type": "stream",
     "text": [
      "Fitting 5 folds for each of 96 candidates, totalling 480 fits\n",
      "0.5192003331945023\n",
      "{'clf__C': 0.1, 'vect__max_df': 0.8, 'vect__min_df': 1, 'vect__ngram_range': (1, 1)}\n"
     ]
    },
    {
     "data": {
      "text/html": [
       "<div>\n",
       "<style scoped>\n",
       "    .dataframe tbody tr th:only-of-type {\n",
       "        vertical-align: middle;\n",
       "    }\n",
       "\n",
       "    .dataframe tbody tr th {\n",
       "        vertical-align: top;\n",
       "    }\n",
       "\n",
       "    .dataframe thead th {\n",
       "        text-align: right;\n",
       "    }\n",
       "</style>\n",
       "<table border=\"1\" class=\"dataframe\">\n",
       "  <thead>\n",
       "    <tr style=\"text-align: right;\">\n",
       "      <th></th>\n",
       "      <th>mean_fit_time</th>\n",
       "      <th>std_fit_time</th>\n",
       "      <th>mean_score_time</th>\n",
       "      <th>std_score_time</th>\n",
       "      <th>param_clf__C</th>\n",
       "      <th>param_vect__max_df</th>\n",
       "      <th>param_vect__min_df</th>\n",
       "      <th>param_vect__ngram_range</th>\n",
       "      <th>params</th>\n",
       "      <th>split0_test_score</th>\n",
       "      <th>split1_test_score</th>\n",
       "      <th>split2_test_score</th>\n",
       "      <th>split3_test_score</th>\n",
       "      <th>split4_test_score</th>\n",
       "      <th>mean_test_score</th>\n",
       "      <th>std_test_score</th>\n",
       "      <th>rank_test_score</th>\n",
       "    </tr>\n",
       "  </thead>\n",
       "  <tbody>\n",
       "    <tr>\n",
       "      <th>0</th>\n",
       "      <td>0.402894</td>\n",
       "      <td>0.012971</td>\n",
       "      <td>0.059413</td>\n",
       "      <td>0.002154</td>\n",
       "      <td>0.01</td>\n",
       "      <td>0.8</td>\n",
       "      <td>1</td>\n",
       "      <td>(1, 1)</td>\n",
       "      <td>{'clf__C': 0.01, 'vect__max_df': 0.8, 'vect__m...</td>\n",
       "      <td>0.461474</td>\n",
       "      <td>0.462307</td>\n",
       "      <td>0.452312</td>\n",
       "      <td>0.460225</td>\n",
       "      <td>0.458559</td>\n",
       "      <td>0.458975</td>\n",
       "      <td>0.003563</td>\n",
       "      <td>77</td>\n",
       "    </tr>\n",
       "    <tr>\n",
       "      <th>1</th>\n",
       "      <td>1.424120</td>\n",
       "      <td>0.045235</td>\n",
       "      <td>0.144632</td>\n",
       "      <td>0.020466</td>\n",
       "      <td>0.01</td>\n",
       "      <td>0.8</td>\n",
       "      <td>1</td>\n",
       "      <td>(1, 2)</td>\n",
       "      <td>{'clf__C': 0.01, 'vect__max_df': 0.8, 'vect__m...</td>\n",
       "      <td>0.452312</td>\n",
       "      <td>0.452312</td>\n",
       "      <td>0.449813</td>\n",
       "      <td>0.449396</td>\n",
       "      <td>0.438151</td>\n",
       "      <td>0.448397</td>\n",
       "      <td>0.005266</td>\n",
       "      <td>93</td>\n",
       "    </tr>\n",
       "    <tr>\n",
       "      <th>2</th>\n",
       "      <td>0.440701</td>\n",
       "      <td>0.011778</td>\n",
       "      <td>0.060011</td>\n",
       "      <td>0.006325</td>\n",
       "      <td>0.01</td>\n",
       "      <td>0.8</td>\n",
       "      <td>2</td>\n",
       "      <td>(1, 1)</td>\n",
       "      <td>{'clf__C': 0.01, 'vect__max_df': 0.8, 'vect__m...</td>\n",
       "      <td>0.463140</td>\n",
       "      <td>0.465223</td>\n",
       "      <td>0.453561</td>\n",
       "      <td>0.459392</td>\n",
       "      <td>0.459808</td>\n",
       "      <td>0.460225</td>\n",
       "      <td>0.003969</td>\n",
       "      <td>69</td>\n",
       "    </tr>\n",
       "    <tr>\n",
       "      <th>3</th>\n",
       "      <td>0.985018</td>\n",
       "      <td>0.082127</td>\n",
       "      <td>0.125630</td>\n",
       "      <td>0.010134</td>\n",
       "      <td>0.01</td>\n",
       "      <td>0.8</td>\n",
       "      <td>2</td>\n",
       "      <td>(1, 2)</td>\n",
       "      <td>{'clf__C': 0.01, 'vect__max_df': 0.8, 'vect__m...</td>\n",
       "      <td>0.463973</td>\n",
       "      <td>0.464390</td>\n",
       "      <td>0.449396</td>\n",
       "      <td>0.455643</td>\n",
       "      <td>0.456060</td>\n",
       "      <td>0.457893</td>\n",
       "      <td>0.005653</td>\n",
       "      <td>85</td>\n",
       "    </tr>\n",
       "    <tr>\n",
       "      <th>4</th>\n",
       "      <td>0.516515</td>\n",
       "      <td>0.039460</td>\n",
       "      <td>0.078017</td>\n",
       "      <td>0.003348</td>\n",
       "      <td>0.01</td>\n",
       "      <td>0.8</td>\n",
       "      <td>3</td>\n",
       "      <td>(1, 1)</td>\n",
       "      <td>{'clf__C': 0.01, 'vect__max_df': 0.8, 'vect__m...</td>\n",
       "      <td>0.461474</td>\n",
       "      <td>0.466056</td>\n",
       "      <td>0.453145</td>\n",
       "      <td>0.461474</td>\n",
       "      <td>0.462724</td>\n",
       "      <td>0.460975</td>\n",
       "      <td>0.004259</td>\n",
       "      <td>65</td>\n",
       "    </tr>\n",
       "  </tbody>\n",
       "</table>\n",
       "</div>"
      ],
      "text/plain": [
       "   mean_fit_time  std_fit_time  mean_score_time  std_score_time param_clf__C  \\\n",
       "0       0.402894      0.012971         0.059413        0.002154         0.01   \n",
       "1       1.424120      0.045235         0.144632        0.020466         0.01   \n",
       "2       0.440701      0.011778         0.060011        0.006325         0.01   \n",
       "3       0.985018      0.082127         0.125630        0.010134         0.01   \n",
       "4       0.516515      0.039460         0.078017        0.003348         0.01   \n",
       "\n",
       "  param_vect__max_df param_vect__min_df param_vect__ngram_range  \\\n",
       "0                0.8                  1                  (1, 1)   \n",
       "1                0.8                  1                  (1, 2)   \n",
       "2                0.8                  2                  (1, 1)   \n",
       "3                0.8                  2                  (1, 2)   \n",
       "4                0.8                  3                  (1, 1)   \n",
       "\n",
       "                                              params  split0_test_score  \\\n",
       "0  {'clf__C': 0.01, 'vect__max_df': 0.8, 'vect__m...           0.461474   \n",
       "1  {'clf__C': 0.01, 'vect__max_df': 0.8, 'vect__m...           0.452312   \n",
       "2  {'clf__C': 0.01, 'vect__max_df': 0.8, 'vect__m...           0.463140   \n",
       "3  {'clf__C': 0.01, 'vect__max_df': 0.8, 'vect__m...           0.463973   \n",
       "4  {'clf__C': 0.01, 'vect__max_df': 0.8, 'vect__m...           0.461474   \n",
       "\n",
       "   split1_test_score  split2_test_score  split3_test_score  split4_test_score  \\\n",
       "0           0.462307           0.452312           0.460225           0.458559   \n",
       "1           0.452312           0.449813           0.449396           0.438151   \n",
       "2           0.465223           0.453561           0.459392           0.459808   \n",
       "3           0.464390           0.449396           0.455643           0.456060   \n",
       "4           0.466056           0.453145           0.461474           0.462724   \n",
       "\n",
       "   mean_test_score  std_test_score  rank_test_score  \n",
       "0         0.458975        0.003563               77  \n",
       "1         0.448397        0.005266               93  \n",
       "2         0.460225        0.003969               69  \n",
       "3         0.457893        0.005653               85  \n",
       "4         0.460975        0.004259               65  "
      ]
     },
     "execution_count": 59,
     "metadata": {},
     "output_type": "execute_result"
    }
   ],
   "source": [
    "from sklearn.model_selection import GridSearchCV \n",
    "\n",
    "parameters = {\n",
    "    'vect__ngram_range': [(1, 1), (1, 2)] ,\n",
    "    'vect__max_df': [0.8,0.9,0.95,0.99],\n",
    "    'vect__min_df': [1,2,3],\n",
    "    'clf__C':       [0.01,0.1,1,10]}\n",
    "gs = GridSearchCV(pipe, parameters, n_jobs=-1,verbose=2)\n",
    "gs.fit(flavor_train,label_train)\n",
    "\n",
    "gs_df = pd.DataFrame.from_dict(gs.cv_results_)\n",
    "\n",
    "print(gs.best_score_)\n",
    "print(gs.best_params_)\n",
    "gs_df.head()"
   ]
  },
  {
   "cell_type": "markdown",
   "id": "b47fda89-4b37-428f-bb38-e52174ffb81f",
   "metadata": {},
   "source": [
    "**Plot the relationships between model parameters and model score**"
   ]
  },
  {
   "cell_type": "code",
   "execution_count": 89,
   "id": "827b7b6e-face-490d-b6cf-0f196fd1adb7",
   "metadata": {},
   "outputs": [
    {
     "data": {
      "text/plain": [
       "Text(0.5, 0, 'ngram_range_max')"
      ]
     },
     "execution_count": 89,
     "metadata": {},
     "output_type": "execute_result"
    },
    {
     "data": {
      "image/png": "[encoded data removed]",
      "text/plain": [
       "<Figure size 432x288 with 4 Axes>"
      ]
     },
     "metadata": {
      "needs_background": "light"
     },
     "output_type": "display_data"
    }
   ],
   "source": [
    "fig,ax = plt.subplots(1,4)\n",
    "ax[0].scatter(gs_df.param_clf__C,gs_df.mean_test_score)\n",
    "ax[0].set_xscale('log')\n",
    "ax[0].set_ylabel('Mean Model Score')\n",
    "ax[0].set_xlabel('C')\n",
    "ax[1].scatter(gs_df.param_vect__max_df,gs_df.mean_test_score)\n",
    "ax[1].set_xlabel('max_cf')\n",
    "ax[2].scatter(gs_df.param_vect__min_df,gs_df.mean_test_score)\n",
    "ax[2].set_xlabel('min_cf')\n",
    "\n",
    "ngram_range_max = [i[1] for i in gs_df.loc[:,'param_vect__ngram_range']]\n",
    "ax[3].scatter(ngram_range_max , gs_df.mean_test_score)\n",
    "ax[3].set_xlabel('ngram_range_max')"
   ]
  },
  {
   "cell_type": "markdown",
   "id": "eebe800b-a7b3-46b6-81e4-b3d00d3efa77",
   "metadata": {},
   "source": [
    "From these plots, it looks like C is the most important parameter to adjust, though differences in how we vectorize the text can help a bit.\\\n",
    "_max_cf_ has little effect, and a higher _max_cf_ value means we are removing more words from our lexicon, so let's leave that at 0.95 to keep more words in our model without hurting performance. "
   ]
  },
  {
   "cell_type": "code",
   "execution_count": 139,
   "id": "c8a8deb4-685d-431a-9f62-f099fc93db4e",
   "metadata": {},
   "outputs": [
    {
     "name": "stdout",
     "output_type": "stream",
     "text": [
      "Optimized classifier hit rate is 52.0%\n"
     ]
    }
   ],
   "source": [
    "pipe.set_params(vect__max_df = 0.95,\n",
    "                vect__min_df=1,\n",
    "                vect__ngram_range=(1,1),\n",
    "                clf__C = 0.1)\n",
    "pipe.fit(flavor_train,label_train)\n",
    "label_predict = pipe.predict(flavor_test)\n",
    "performance = np.round(sum(label_predict == label_test) / len(label_test) , 3)*100\n",
    "print('Optimized classifier hit rate is %s%%' % performance)"
   ]
  },
  {
   "cell_type": "markdown",
   "id": "730ce85c-e283-47ea-914e-ddd43ac45be1",
   "metadata": {},
   "source": [
    "## Investigate the Model\n",
    "Now that we have an optimized model, lets look into what types of text the model does well on and the model does poorly on. \\\n",
    "For now, we will only look at cards in our test set (to avoid re-running the model several times). \n",
    "\n",
    "One likely cause of misclassification is from cards with very short flavor text. We can check this by plotting the portion of correct classifications as a function of flavor text length.\n",
    "\n",
    "First, let's look at the distribution of the number of words in flavor text, binning at 5 words:"
   ]
  },
  {
   "cell_type": "code",
   "execution_count": 326,
   "id": "6ead03c9-bb5f-4198-9b05-8f859d8ba14e",
   "metadata": {},
   "outputs": [
    {
     "data": {
      "text/plain": [
       "[Text(0, 0.5, 'Count of Cards'),\n",
       " Text(0.5, 0, 'Number of Words in Flavor Text'),\n",
       " None]"
      ]
     },
     "execution_count": 326,
     "metadata": {},
     "output_type": "execute_result"
    },
    {
     "data": {
      "image/png": "[encoded data removed]",
      "text/plain": [
       "<Figure size 432x288 with 1 Axes>"
      ]
     },
     "metadata": {
      "needs_background": "light"
     },
     "output_type": "display_data"
    }
   ],
   "source": [
    "test_df = pd.DataFrame(data={'Text':flavor_test,'Label':label_test})\n",
    "test_df['Word_Count'] = test_df.Text.apply(lambda x : len(x.split()))\n",
    "\n",
    "bins = np.arange(0,45,5)\n",
    "ax = plt.axes()\n",
    "ax.hist(test_df['Word_Count'],bins=bins)\n",
    "ax.set(ylabel='Count of Cards',xlabel='Number of Words in Flavor Text',yscale='log')\n"
   ]
  },
  {
   "cell_type": "markdown",
   "id": "f65a438c-0eba-487a-8b22-8522a7dde220",
   "metadata": {},
   "source": [
    "Now for each bin of flavor text word count, find the proportion of cards in that bin that are correctly classified:"
   ]
  },
  {
   "cell_type": "code",
   "execution_count": 334,
   "id": "d03d78c8-9274-43df-adc0-39f099e04efa",
   "metadata": {},
   "outputs": [
    {
     "data": {
      "text/plain": [
       "[<matplotlib.lines.Line2D at 0x2270d4346a0>]"
      ]
     },
     "execution_count": 334,
     "metadata": {},
     "output_type": "execute_result"
    },
    {
     "data": {
      "image/png": "[encoded data removed]",
      "text/plain": [
       "<Figure size 432x288 with 1 Axes>"
      ]
     },
     "metadata": {
      "needs_background": "light"
     },
     "output_type": "display_data"
    }
   ],
   "source": [
    " # Put relevant information into a DataFrame for easier indexing\n",
    "flavor_test_df = pd.DataFrame(data={'Text':flavor_test,'Label':label_test,'Word_Count':word_counts})\n",
    "flavor_test_df[:]['Text']\n",
    "counts_correct = np.zeros(len(bins)-1)\n",
    "counts_all =   np.zeros(len(bins)-1)\n",
    "for i in range(len(bins)-1):\n",
    "    sub_data = flavor_test_df[(flavor_test_df.Word_Count > bins[i]) & (flavor_test_df.Word_Count <= bins[i+1])][['Text','Label']]\n",
    "    predicted = pipe.predict(sub_data.Text)\n",
    "    counts_correct[i] = sum(predicted == sub_data.Label)\n",
    "    counts_all[i] = sub_data.shape[0]\n",
    "\n",
    "hit_rate = counts_correct / counts_all\n",
    "plt.plot(bins[:-1],hit_rate)"
   ]
  },
  {
   "cell_type": "code",
   "execution_count": 328,
   "id": "8056bb7c-fa80-47f6-9c9c-b130503a44f2",
   "metadata": {},
   "outputs": [
    {
     "data": {
      "text/plain": [
       "53"
      ]
     },
     "execution_count": 328,
     "metadata": {},
     "output_type": "execute_result"
    }
   ],
   "source": [
    "max(word_counts)"
   ]
  },
  {
   "cell_type": "code",
   "execution_count": 190,
   "id": "21edd1d6-e096-46e2-820a-151d283f9972",
   "metadata": {},
   "outputs": [
    {
     "ename": "TypeError",
     "evalue": "'<' not supported between instances of 'list' and 'int'",
     "output_type": "error",
     "traceback": [
      "\u001b[1;31m---------------------------------------------------------------------------\u001b[0m",
      "\u001b[1;31mTypeError\u001b[0m                                 Traceback (most recent call last)",
      "\u001b[1;32m<ipython-input-190-e73387b0ca62>\u001b[0m in \u001b[0;36m<module>\u001b[1;34m\u001b[0m\n\u001b[1;32m----> 1\u001b[1;33m \u001b[0mdata_monocolor\u001b[0m\u001b[1;33m[\u001b[0m\u001b[0mword_counts\u001b[0m \u001b[1;33m<\u001b[0m \u001b[1;36m6\u001b[0m\u001b[1;33m]\u001b[0m\u001b[1;33m\u001b[0m\u001b[1;33m\u001b[0m\u001b[0m\n\u001b[0m",
      "\u001b[1;31mTypeError\u001b[0m: '<' not supported between instances of 'list' and 'int'"
     ]
    }
   ],
   "source": []
  }
 ],
 "metadata": {
  "kernelspec": {
   "display_name": "Python 3",
   "language": "python",
   "name": "python3"
  },
  "language_info": {
   "codemirror_mode": {
    "name": "ipython",
    "version": 3
   },
   "file_extension": ".py",
   "mimetype": "text/x-python",
   "name": "python",
   "nbconvert_exporter": "python",
   "pygments_lexer": "ipython3",
   "version": "3.8.8"
  },
  "varInspector": {
   "cols": {
    "lenName": 16,
    "lenType": 16,
    "lenVar": 40
   },
   "kernels_config": {
    "python": {
     "delete_cmd_postfix": "",
     "delete_cmd_prefix": "del ",
     "library": "var_list.py",
     "varRefreshCmd": "print(var_dic_list())"
    },
    "r": {
     "delete_cmd_postfix": ") ",
     "delete_cmd_prefix": "rm(",
     "library": "var_list.r",
     "varRefreshCmd": "cat(var_dic_list()) "
    }
   },
   "types_to_exclude": [
    "module",
    "function",
    "builtin_function_or_method",
    "instance",
    "_Feature"
   ],
   "window_display": false
  }
 },
 "nbformat": 4,
 "nbformat_minor": 5
}
