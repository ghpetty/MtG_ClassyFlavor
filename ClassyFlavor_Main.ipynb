{
 "cells": [
  {
   "cell_type": "code",
   "execution_count": 1,
   "id": "9d7526e1",
   "metadata": {},
   "outputs": [],
   "source": [
    "import requests, time, pickle, os\n",
    "import CF_standard_functions as cf_sf # Standard utility functions\n",
    "import pandas as pd\n",
    "import numpy as np\n",
    "import seaborn as sns\n",
    "from matplotlib import pyplot as plt"
   ]
  },
  {
   "cell_type": "code",
   "execution_count": 2,
   "id": "d0cab7cc",
   "metadata": {},
   "outputs": [],
   "source": [
    "# Set these parameters for saving and loading data\n",
    "output_dir = os.getcwd()\n",
    "file_name = 'CardData.pkl'\n",
    "full_file = output_dir+\"\\\\\"+file_name"
   ]
  },
  {
   "cell_type": "markdown",
   "id": "405fa5c7",
   "metadata": {},
   "source": [
    "## Get Card Data from Scryfall using the Scryfall API\n",
    "**Scryfall** is a powerful database and search engin for Magic: The Gathering cards. \n",
    "We will use their API to download all cards that have flavor text. Since cards are often reprinted with different flavor text each time, we will import all printed versions of every card that _does_ contain flavor text. \n",
    "\n",
    "https://scryfall.com/docs/api\n",
    "\n",
    "We then convert the data to a pandas dataframe and isolate unique instances of flavor text. Finally we will save a local copy of the data so that we don't have to access the API repeatedly. New cards are only added monthly or so. \n",
    "\n"
   ]
  },
  {
   "cell_type": "code",
   "execution_count": 3,
   "id": "3510575d-f40b-4184-ae9e-0202197349d3",
   "metadata": {
    "tags": []
   },
   "outputs": [
    {
     "name": "stdout",
     "output_type": "stream",
     "text": [
      "Loading data from disk...\n",
      "Done!\n",
      "20546 cards in data set\n"
     ]
    }
   ],
   "source": [
    "# Scryfall query parameters:\n",
    "order = \"cmc\"\n",
    "# Unique printings of cards that have flavor text, English prints only, and ignoring \"funny\" cards (like those from the un-sets or holiday cards)\n",
    "querystring = \"has%3Aflavor+unique%3Aprints+%2Dis%3Dfunny+language%3Den&unique=prints\"\n",
    "url = f\"https://api.scryfall.com/cards/search?order={order}&q={querystring}\"\n",
    "\n",
    "# First check if data already exists and is \"fresh\". If so, load it in:\n",
    "# Here defining fresh as newer than a week\n",
    "if os.path.isfile(full_file) and cf_sf.file_age_in_hours(full_file) < 24*3 :\n",
    "    print('Loading data from disk...')\n",
    "    file = open(full_file, 'rb')\n",
    "    data = pickle.load(file)\n",
    "    file.close()\n",
    "    print('Done!')\n",
    "else:# Otherwise get the data from Scryfall. This can take a while... \n",
    "    sf_response = requests.get(url).json()\n",
    "    data = sf_response['data']\n",
    "    curr_page = 1;\n",
    "    print(f\"Page {curr_page}\",end='\\r')\n",
    "    while sf_response['has_more']:  \n",
    "        time.sleep(0.2) # Be polite and patient with the API\n",
    "        url_next = sf_response['next_page']\n",
    "        sf_response = requests.get(url_next).json()\n",
    "        data_new = sf_response['data']\n",
    "        data = data + data_new\n",
    "        curr_page += 1 \n",
    "        print(f\"Page {curr_page}\",end='\\r')\n",
    "    \n",
    "    print(f\"Loaded {curr_page} pages of cards\")\n",
    "    print(\"Saving...\")\n",
    "    data = pd.DataFrame(data)\n",
    "    data.drop_duplicates(subset='flavor_text',inplace=True)\n",
    "    file = open(full_file,'wb')    \n",
    "    pickle.dump(data, file)\n",
    "    file.close()\n",
    "    print(\"Done!\")\n",
    "    \n",
    "nCards = len(data)\n",
    "print(nCards,\"cards in data set\")"
   ]
  },
  {
   "cell_type": "markdown",
   "id": "55cc9d84",
   "metadata": {},
   "source": [
    "### Organize cards by color\n",
    "In our first task we will classify flavor text by color. For convenience, we will make a new dataframe subsetting only the name, flavortext, and color of monocolored cards.\\\n",
    "To make separating cards by colors easier, we add a Boolean variable to the dataframe for each color.\\\n",
    "We also add a Boolean for whether or not a card is monocolored (not colorless and not multicolored). \\\n",
    "Finally, sort our cards in traditional WUBRG (**W**hite, Bl**u**E, **B**lack, **R**ed, **G**reen) order by setting the _colors_ variable to a categorical value.\n"
   ]
  },
  {
   "cell_type": "code",
   "execution_count": 4,
   "id": "a182130a-c9cf-421c-b090-eb03b6680e7b",
   "metadata": {
    "scrolled": true,
    "tags": []
   },
   "outputs": [
    {
     "name": "stderr",
     "output_type": "stream",
     "text": [
      "C:\\Users\\gordo\\anaconda3\\lib\\site-packages\\numpy\\lib\\arraysetops.py:583: FutureWarning: elementwise comparison failed; returning scalar instead, but in the future will perform elementwise comparison\n",
      "  mask |= (ar1 == a)\n"
     ]
    },
    {
     "data": {
      "text/html": [
       "<div>\n",
       "<style scoped>\n",
       "    .dataframe tbody tr th:only-of-type {\n",
       "        vertical-align: middle;\n",
       "    }\n",
       "\n",
       "    .dataframe tbody tr th {\n",
       "        vertical-align: top;\n",
       "    }\n",
       "\n",
       "    .dataframe thead th {\n",
       "        text-align: right;\n",
       "    }\n",
       "</style>\n",
       "<table border=\"1\" class=\"dataframe\">\n",
       "  <thead>\n",
       "    <tr style=\"text-align: right;\">\n",
       "      <th></th>\n",
       "      <th>name</th>\n",
       "      <th>colors</th>\n",
       "      <th>flavor_text</th>\n",
       "    </tr>\n",
       "  </thead>\n",
       "  <tbody>\n",
       "    <tr>\n",
       "      <th>14283</th>\n",
       "      <td>Squire</td>\n",
       "      <td>W</td>\n",
       "      <td>\"Of twenty yeer of age he was, I gesse.\\nOf hi...</td>\n",
       "    </tr>\n",
       "    <tr>\n",
       "      <th>34523</th>\n",
       "      <td>Miraculous Recovery</td>\n",
       "      <td>W</td>\n",
       "      <td>\"You stop breathing for just a few minutes and...</td>\n",
       "    </tr>\n",
       "    <tr>\n",
       "      <th>10950</th>\n",
       "      <td>Kami of Ancient Law</td>\n",
       "      <td>W</td>\n",
       "      <td>\"Duty and law are the foundation on which civi...</td>\n",
       "    </tr>\n",
       "    <tr>\n",
       "      <th>10933</th>\n",
       "      <td>Justiciar's Portal</td>\n",
       "      <td>W</td>\n",
       "      <td>With the new guildmaster's innovations, arrest...</td>\n",
       "    </tr>\n",
       "    <tr>\n",
       "      <th>10923</th>\n",
       "      <td>Juniper Order Rootweaver</td>\n",
       "      <td>W</td>\n",
       "      <td>\"What Phyrexia takes, the grace of Freyalise s...</td>\n",
       "    </tr>\n",
       "    <tr>\n",
       "      <th>...</th>\n",
       "      <td>...</td>\n",
       "      <td>...</td>\n",
       "      <td>...</td>\n",
       "    </tr>\n",
       "    <tr>\n",
       "      <th>20088</th>\n",
       "      <td>Hungry Spriggan</td>\n",
       "      <td>G</td>\n",
       "      <td>If a spriggan's eyes are larger than its stoma...</td>\n",
       "    </tr>\n",
       "    <tr>\n",
       "      <th>34455</th>\n",
       "      <td>Meandering Towershell</td>\n",
       "      <td>G</td>\n",
       "      <td>The wait is proportional to the weight.</td>\n",
       "    </tr>\n",
       "    <tr>\n",
       "      <th>11145</th>\n",
       "      <td>Kraul Warrior</td>\n",
       "      <td>G</td>\n",
       "      <td>The insectile kraul lurk in the tunnels below ...</td>\n",
       "    </tr>\n",
       "    <tr>\n",
       "      <th>20093</th>\n",
       "      <td>Hunter's Ambush</td>\n",
       "      <td>G</td>\n",
       "      <td>First you lose your enemy's trail. Then you lo...</td>\n",
       "    </tr>\n",
       "    <tr>\n",
       "      <th>20739</th>\n",
       "      <td>Leatherback Baloth</td>\n",
       "      <td>G</td>\n",
       "      <td>Heavy enough to withstand the Roil, leatherbac...</td>\n",
       "    </tr>\n",
       "  </tbody>\n",
       "</table>\n",
       "<p>16007 rows × 3 columns</p>\n",
       "</div>"
      ],
      "text/plain": [
       "                           name colors  \\\n",
       "14283                    Squire      W   \n",
       "34523       Miraculous Recovery      W   \n",
       "10950       Kami of Ancient Law      W   \n",
       "10933        Justiciar's Portal      W   \n",
       "10923  Juniper Order Rootweaver      W   \n",
       "...                         ...    ...   \n",
       "20088           Hungry Spriggan      G   \n",
       "34455     Meandering Towershell      G   \n",
       "11145             Kraul Warrior      G   \n",
       "20093           Hunter's Ambush      G   \n",
       "20739        Leatherback Baloth      G   \n",
       "\n",
       "                                             flavor_text  \n",
       "14283  \"Of twenty yeer of age he was, I gesse.\\nOf hi...  \n",
       "34523  \"You stop breathing for just a few minutes and...  \n",
       "10950  \"Duty and law are the foundation on which civi...  \n",
       "10933  With the new guildmaster's innovations, arrest...  \n",
       "10923  \"What Phyrexia takes, the grace of Freyalise s...  \n",
       "...                                                  ...  \n",
       "20088  If a spriggan's eyes are larger than its stoma...  \n",
       "34455            The wait is proportional to the weight.  \n",
       "11145  The insectile kraul lurk in the tunnels below ...  \n",
       "20093  First you lose your enemy's trail. Then you lo...  \n",
       "20739  Heavy enough to withstand the Roil, leatherbac...  \n",
       "\n",
       "[16007 rows x 3 columns]"
      ]
     },
     "execution_count": 4,
     "metadata": {},
     "output_type": "execute_result"
    }
   ],
   "source": [
    "data = pd.DataFrame(data)\n",
    "data.drop_duplicates(subset='flavor_text',inplace=True)\n",
    "\n",
    "for c in ['W','U','B','R','G']:\n",
    "    tf = data.colors.apply(lambda x : np.shape(x) != (0,) and np.any(np.isin(x,c)))\n",
    "    data['is_'+c] = tf\n",
    "\n",
    "tf = np.sum(data.loc[:][['is_W','is_U','is_B','is_R','is_G']],axis=1) == 1\n",
    "data['is_monocolor'] = tf\n",
    "\n",
    "data_monocolor = data.loc[data.is_monocolor][['name','colors','flavor_text']].copy()\n",
    "data_monocolor['colors'] = data_monocolor.colors.apply(lambda x: ''.join(x)) # Convert from list to string\n",
    "\n",
    "data_monocolor['colors'] = pd.Categorical(data_monocolor['colors'],ordered=True)\n",
    "data_monocolor['colors'] = data_monocolor['colors'].cat.reorder_categories(['W','U','B','R','G'])\n",
    "data_monocolor.sort_values('colors',ascending=True,inplace=True)\n",
    "data_monocolor\n",
    "#print(f\"Post-trimming: {data_monocolor.shape[0]} unique instances of flavor text on monocolor cards\")"
   ]
  },
  {
   "cell_type": "markdown",
   "id": "23b594d7",
   "metadata": {},
   "source": [
    "### Prepare data for classification\n",
    "\n",
    "For our classifier we need numeric groups, so we will make numeric categories for the colors."
   ]
  },
  {
   "cell_type": "code",
   "execution_count": 21,
   "id": "ad1e0fcf",
   "metadata": {},
   "outputs": [
    {
     "data": {
      "text/html": [
       "<div>\n",
       "<style scoped>\n",
       "    .dataframe tbody tr th:only-of-type {\n",
       "        vertical-align: middle;\n",
       "    }\n",
       "\n",
       "    .dataframe tbody tr th {\n",
       "        vertical-align: top;\n",
       "    }\n",
       "\n",
       "    .dataframe thead th {\n",
       "        text-align: right;\n",
       "    }\n",
       "</style>\n",
       "<table border=\"1\" class=\"dataframe\">\n",
       "  <thead>\n",
       "    <tr style=\"text-align: right;\">\n",
       "      <th></th>\n",
       "      <th>name</th>\n",
       "      <th>colors</th>\n",
       "      <th>flavor_text</th>\n",
       "      <th>label</th>\n",
       "    </tr>\n",
       "  </thead>\n",
       "  <tbody>\n",
       "    <tr>\n",
       "      <th>2922</th>\n",
       "      <td>Coming In Hot</td>\n",
       "      <td>R</td>\n",
       "      <td>\"I have a reckless idea,\" Koth offered. Chandr...</td>\n",
       "      <td>3</td>\n",
       "    </tr>\n",
       "    <tr>\n",
       "      <th>15375</th>\n",
       "      <td>Vedalken Mastermind</td>\n",
       "      <td>U</td>\n",
       "      <td>The vedalken see other beings from a cold dist...</td>\n",
       "      <td>1</td>\n",
       "    </tr>\n",
       "    <tr>\n",
       "      <th>14098</th>\n",
       "      <td>Soldevi Sage</td>\n",
       "      <td>U</td>\n",
       "      <td>\"To hide the truth is more than folly—it is fa...</td>\n",
       "      <td>1</td>\n",
       "    </tr>\n",
       "    <tr>\n",
       "      <th>6231</th>\n",
       "      <td>Surge of Zeal</td>\n",
       "      <td>R</td>\n",
       "      <td>\"If only my poxes were as infectious as their ...</td>\n",
       "      <td>3</td>\n",
       "    </tr>\n",
       "    <tr>\n",
       "      <th>29721</th>\n",
       "      <td>Novice Dissector</td>\n",
       "      <td>B</td>\n",
       "      <td>\"The professor said to first extract the venom...</td>\n",
       "      <td>2</td>\n",
       "    </tr>\n",
       "  </tbody>\n",
       "</table>\n",
       "</div>"
      ],
      "text/plain": [
       "                      name colors  \\\n",
       "2922         Coming In Hot      R   \n",
       "15375  Vedalken Mastermind      U   \n",
       "14098         Soldevi Sage      U   \n",
       "6231         Surge of Zeal      R   \n",
       "29721     Novice Dissector      B   \n",
       "\n",
       "                                             flavor_text label  \n",
       "2922   \"I have a reckless idea,\" Koth offered. Chandr...     3  \n",
       "15375  The vedalken see other beings from a cold dist...     1  \n",
       "14098  \"To hide the truth is more than folly—it is fa...     1  \n",
       "6231   \"If only my poxes were as infectious as their ...     3  \n",
       "29721  \"The professor said to first extract the venom...     2  "
      ]
     },
     "execution_count": 21,
     "metadata": {},
     "output_type": "execute_result"
    }
   ],
   "source": [
    "label_map = {'W':0,\n",
    "             'U':1,\n",
    "             'B':2,\n",
    "             'R':3,\n",
    "             'G':4}\n",
    "data_monocolor['label'] = data_monocolor['colors'].map(label_map)\n",
    "data_monocolor.sample(5)"
   ]
  },
  {
   "cell_type": "markdown",
   "id": "15d84020-6930-4a94-9253-1218b9081dcb",
   "metadata": {},
   "source": [
    "### Split data into train and test sets"
   ]
  },
  {
   "cell_type": "code",
   "execution_count": 22,
   "id": "9d4a4160-4cd4-4204-b0b6-8353567287ed",
   "metadata": {},
   "outputs": [
    {
     "name": "stdout",
     "output_type": "stream",
     "text": [
      "Training set consists of 12005 cards.\n",
      "Test set consists of 4002 cards.\n"
     ]
    }
   ],
   "source": [
    "from sklearn.model_selection import train_test_split\n",
    "\n",
    "flavor_train, flavor_test, label_train, label_test = train_test_split(\n",
    "        data_monocolor['flavor_text'], data_monocolor['label'], test_size=0.25, random_state=1)\n",
    "\n",
    "print('Training set consists of',flavor_train.shape[0],'cards.')\n",
    "print('Test set consists of',flavor_test.shape[0],'cards.')\n"
   ]
  },
  {
   "cell_type": "markdown",
   "id": "b97d59c9-e900-4319-83f1-708cc3a5b48b",
   "metadata": {},
   "source": [
    "## Design our Model!\n",
    "- Tokenize the words in flavor text, ignoring terms that are extremeley common and those that only appear 3 or fewer times in the training set.\n",
    "- Classify the text using an SVM."
   ]
  },
  {
   "cell_type": "code",
   "execution_count": 23,
   "id": "5da7b01e-0bb1-4fcc-956e-96b1cf7fcf8a",
   "metadata": {},
   "outputs": [
    {
     "data": {
      "text/plain": [
       "Pipeline(steps=[('vect', TfidfVectorizer(max_df=0.95, min_df=3)),\n",
       "                ('clf', LinearSVC())])"
      ]
     },
     "execution_count": 23,
     "metadata": {},
     "output_type": "execute_result"
    }
   ],
   "source": [
    "from sklearn.feature_extraction.text import TfidfVectorizer\n",
    "from sklearn.svm import LinearSVC\n",
    "from sklearn.pipeline import Pipeline\n",
    "my_vectorizer = TfidfVectorizer(max_df = 0.95 , min_df = 3)\n",
    "pipe = Pipeline([('vect',my_vectorizer),\n",
    "               ('clf',LinearSVC())])\n",
    "\n",
    "pipe.fit(X=flavor_train,y=label_train)"
   ]
  },
  {
   "cell_type": "code",
   "execution_count": 24,
   "id": "1f3aaa8b-5acb-4d91-8915-e4b12eb8468a",
   "metadata": {},
   "outputs": [
    {
     "name": "stdout",
     "output_type": "stream",
     "text": [
      "Classifier hit rate is 50.6%\n"
     ]
    }
   ],
   "source": [
    "label_predict = pipe.predict(flavor_test)\n",
    "performance = np.round(sum(label_predict == label_test) / len(label_test) , 3)*100\n",
    "print('Classifier hit rate is %s%%' % performance)\n"
   ]
  },
  {
   "cell_type": "markdown",
   "id": "7a4b3be7-7c69-4854-b678-86984ae4f028",
   "metadata": {},
   "source": [
    "**Measure performance with a confusion matrix:**"
   ]
  },
  {
   "cell_type": "code",
   "execution_count": 60,
   "id": "ce624424-2750-460a-830a-1b57bedbdcb0",
   "metadata": {
    "tags": []
   },
   "outputs": [
    {
     "name": "stdout",
     "output_type": "stream",
     "text": [
      "              precision    recall  f1-score   support\n",
      "\n",
      "           W       0.48      0.50      0.49       847\n",
      "           U       0.47      0.53      0.50       729\n",
      "           B       0.50      0.52      0.51       773\n",
      "           R       0.55      0.49      0.52       851\n",
      "           G       0.53      0.50      0.51       802\n",
      "\n",
      "    accuracy                           0.51      4002\n",
      "   macro avg       0.51      0.51      0.51      4002\n",
      "weighted avg       0.51      0.51      0.51      4002\n",
      "\n"
     ]
    },
    {
     "data": {
      "image/png": "[encoded data removed]",
      "text/plain": [
       "<Figure size 720x720 with 2 Axes>"
      ]
     },
     "metadata": {
      "needs_background": "light"
     },
     "output_type": "display_data"
    }
   ],
   "source": [
    "from sklearn import metrics\n",
    "import seaborn as sns\n",
    "\n",
    "print(metrics.classification_report(label_test, label_predict,target_names = [str(i) for i in label_map]))\n",
    "\n",
    "cm = metrics.confusion_matrix(label_test, label_predict,normalize='true',\n",
    "                              labels=list(label_map.values()))\n",
    "\n",
    "fig, ax = plt.subplots(figsize=(10,10))\n",
    "sns.heatmap(cm, annot=True, fmt='.2f',xticklabels=[str(i) for i in label_map],yticklabels=[str(i) for i in label_map])\n",
    "plt.ylabel('Actual')\n",
    "plt.xlabel('Predicted')\n",
    "plt.show(block=False)\n"
   ]
  },
  {
   "cell_type": "markdown",
   "id": "9353294c-ebc1-4642-aae5-11507965fa47",
   "metadata": {},
   "source": [
    "**Not too shabby!** \\\n",
    "We can now write our own flavor text and see what color our model thinks it belongs to."
   ]
  },
  {
   "cell_type": "code",
   "execution_count": 64,
   "id": "d5d747a1-64f6-4016-a586-0e26670d6ecb",
   "metadata": {
    "tags": []
   },
   "outputs": [
    {
     "name": "stdout",
     "output_type": "stream",
     "text": [
      "Goblins sure do smell bad --> R\n",
      "Your spell was a mistake and now it is gone --> U\n",
      "Trees are the most beautiful thing --> G\n",
      "Death cannot stop the wicked --> B\n",
      "The angelic choir sings loftily over the clouds --> W\n",
      "\"Some like it hot\" -Chandra Nalaar --> R\n"
     ]
    }
   ],
   "source": [
    "new_flavor_text = ['Goblins sure do smell bad',\n",
    "              'Your spell was a mistake and now it is gone',\n",
    "              'Trees are the most beautiful thing',\n",
    "              'Death cannot stop the wicked',\n",
    "              'The angelic choir sings loftily over the clouds',\n",
    "              '\"Some like it hot\" -Chandra Nalaar']\n",
    "\n",
    "new_color_predictions = pipe.predict(new_flavor_text)\n",
    "# Reverse-lookup color mapping    \n",
    "for txt,col in zip(new_flavor_text,new_color_predictions):\n",
    "    print(f\"{txt} --> {[str(i) for i in label_map][col]}\")"
   ]
  },
  {
   "cell_type": "markdown",
   "id": "265c1e75-9709-4713-a4ae-5e045362c103",
   "metadata": {},
   "source": [
    "**Lets see if we can do better by tokenizing word pairs as well as individual words**"
   ]
  },
  {
   "cell_type": "code",
   "execution_count": 68,
   "id": "24972038-4394-4223-b349-bd37abd3f42d",
   "metadata": {
    "tags": []
   },
   "outputs": [
    {
     "name": "stdout",
     "output_type": "stream",
     "text": [
      "Classifier hit rate is 50.6%\n",
      "              precision    recall  f1-score   support\n",
      "\n",
      "           W       0.48      0.50      0.49       847\n",
      "           U       0.47      0.53      0.50       729\n",
      "           B       0.50      0.52      0.51       773\n",
      "           R       0.55      0.49      0.52       851\n",
      "           G       0.53      0.50      0.51       802\n",
      "\n",
      "    accuracy                           0.51      4002\n",
      "   macro avg       0.51      0.51      0.51      4002\n",
      "weighted avg       0.51      0.51      0.51      4002\n",
      "\n"
     ]
    }
   ],
   "source": [
    "performance = np.round(sum(label_predict == label_test) / len(label_test) , 3)*100\n",
    "print('Classifier hit rate is %s%%' % performance)\n",
    "pipe.set_params(vect__ngram_range = (1,2))\n",
    "pipe.fit(flavor_train,label_train)\n",
    "color_predict = pipe.predict(flavor_test)\n",
    "print(metrics.classification_report(label_test, label_predict,\n",
    "                                    target_names=[str(i) for i in label_map]))\n"
   ]
  }
 ],
 "metadata": {
  "kernelspec": {
   "display_name": "Python 3",
   "language": "python",
   "name": "python3"
  },
  "language_info": {
   "codemirror_mode": {
    "name": "ipython",
    "version": 3
   },
   "file_extension": ".py",
   "mimetype": "text/x-python",
   "name": "python",
   "nbconvert_exporter": "python",
   "pygments_lexer": "ipython3",
   "version": "3.8.8"
  },
  "varInspector": {
   "cols": {
    "lenName": 16,
    "lenType": 16,
    "lenVar": 40
   },
   "kernels_config": {
    "python": {
     "delete_cmd_postfix": "",
     "delete_cmd_prefix": "del ",
     "library": "var_list.py",
     "varRefreshCmd": "print(var_dic_list())"
    },
    "r": {
     "delete_cmd_postfix": ") ",
     "delete_cmd_prefix": "rm(",
     "library": "var_list.r",
     "varRefreshCmd": "cat(var_dic_list()) "
    }
   },
   "types_to_exclude": [
    "module",
    "function",
    "builtin_function_or_method",
    "instance",
    "_Feature"
   ],
   "window_display": false
  }
 },
 "nbformat": 4,
 "nbformat_minor": 5
}
