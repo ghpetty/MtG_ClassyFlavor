{
 "cells": [
  {
   "cell_type": "code",
   "execution_count": 28,
   "id": "9d7526e1",
   "metadata": {},
   "outputs": [],
   "source": [
    "import requests\n",
    "import time\n",
    "import pickle\n",
    "import os\n",
    "import CF_standard_functions as cf_sf"
   ]
  },
  {
   "cell_type": "code",
   "execution_count": 29,
   "id": "d0cab7cc",
   "metadata": {},
   "outputs": [],
   "source": [
    "# Set these parameters for saving and loading data\n",
    "output_dir = os.getcwd()\n",
    "file_name = 'CardData.pkl'\n",
    "full_file = output_dir+\"\\\\\"+file_name"
   ]
  },
  {
   "cell_type": "markdown",
   "id": "405fa5c7",
   "metadata": {},
   "source": [
    "**Get Data from Scryfall**\n",
    "\n",
    "https://scryfall.com/\n",
    "\n",
    "For Scryfall we put the search query in as plain text as though it were the search\n",
    "bar of the website. However we have to use some ASCII encoding of special \n",
    "characters (like =, <) as they have specific meanings used in an html string.\n",
    "For example, %3D represents an equals sign , %3A represents a colon.\n",
    "Look these up here: \n",
    "\n",
    "https://www.w3schools.com/tags/ref_urlencode.ASP\n",
    "\n",
    "Separate clauses of the search are split with a plus sign.\n",
    "You can use f-string interpolation to make it easier to edit the query."
   ]
  },
  {
   "cell_type": "code",
   "execution_count": 30,
   "id": "618d9d99",
   "metadata": {},
   "outputs": [],
   "source": [
    "# Scryfall query parameters:\n",
    "order = \"cmc\"\n",
    "# Unique printings of cards that have flavor text\n",
    "querystring = \"%28-is%3Afirstprint+-is%3Aunique%29+unique%3Aprints+has%3Aflavor&unique=cards\"\n",
    "url = f\"https://api.scryfall.com/cards/search?order={order}&q={querystring}\""
   ]
  },
  {
   "cell_type": "code",
   "execution_count": 34,
   "id": "d7f01e66",
   "metadata": {},
   "outputs": [
    {
     "name": "stdout",
     "output_type": "stream",
     "text": [
      "0.04193280637264252\n",
      "True\n",
      "0.04193280637264252\n",
      "23365\n"
     ]
    }
   ],
   "source": [
    "print(cf_sf.file_age_in_hours(full_file))\n",
    "print(os.path.isfile(full_file))\n",
    "print(cf_sf.file_age_in_hours(full_file))\n",
    "print(len(data))"
   ]
  },
  {
   "cell_type": "code",
   "execution_count": 35,
   "id": "5f97ce18",
   "metadata": {},
   "outputs": [
    {
     "name": "stdout",
     "output_type": "stream",
     "text": [
      "Loading data from disk...\n",
      "Done!\n",
      "23365 cards in data set\n"
     ]
    }
   ],
   "source": [
    "# First check if data already exists and is \"fresh\". If so, load it in:\n",
    "# Here defining fresh as newer than a week\n",
    "if os.path.isfile(full_file) and cf_sf.file_age_in_hours(full_file) < 24*7 :\n",
    "    print('Loading data from disk...')\n",
    "    file = open(full_file, 'rb')\n",
    "    card_data = pickle.load(file)\n",
    "    file.close()\n",
    "    print('Done!')\n",
    "else:# Otherwise get the data from Scryfall. This can take a while \n",
    "    sf_response = requests.get(url).json()\n",
    "    data = sf_response['data']\n",
    "    curr_page = 1;\n",
    "    print(f\"Page {curr_page}\",end='\\r')\n",
    "    while sf_response['has_more']:  \n",
    "        time.sleep(0.2)\n",
    "        url_next = sf_response['next_page']\n",
    "        sf_response = requests.get(url_next).json()\n",
    "        data_new = sf_response['data']\n",
    "        data = data + data_new\n",
    "        curr_page += 1 \n",
    "        print(f\"Page {curr_page}\",end='\\r')\n",
    "    print(f\"Loaded {curr_page} pages of cards\")\n",
    "    \n",
    "    print(\"Saving...\")\n",
    "    file = open(full_file,'wb')    \n",
    "    pickle.dump(data, file)\n",
    "    file.close()\n",
    "    print(\"Done!\")\n",
    "    \n",
    "nCards = len(data)\n",
    "print(nCards,\"cards in data set\")"
   ]
  }
 ],
 "metadata": {
  "kernelspec": {
   "display_name": "Python 3",
   "language": "python",
   "name": "python3"
  },
  "language_info": {
   "codemirror_mode": {
    "name": "ipython",
    "version": 3
   },
   "file_extension": ".py",
   "mimetype": "text/x-python",
   "name": "python",
   "nbconvert_exporter": "python",
   "pygments_lexer": "ipython3",
   "version": "3.8.8"
  },
  "varInspector": {
   "cols": {
    "lenName": 16,
    "lenType": 16,
    "lenVar": 40
   },
   "kernels_config": {
    "python": {
     "delete_cmd_postfix": "",
     "delete_cmd_prefix": "del ",
     "library": "var_list.py",
     "varRefreshCmd": "print(var_dic_list())"
    },
    "r": {
     "delete_cmd_postfix": ") ",
     "delete_cmd_prefix": "rm(",
     "library": "var_list.r",
     "varRefreshCmd": "cat(var_dic_list()) "
    }
   },
   "types_to_exclude": [
    "module",
    "function",
    "builtin_function_or_method",
    "instance",
    "_Feature"
   ],
   "window_display": false
  }
 },
 "nbformat": 4,
 "nbformat_minor": 5
}
