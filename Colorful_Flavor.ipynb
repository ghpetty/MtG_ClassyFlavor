{
 "cells": [
  {
   "cell_type": "markdown",
   "id": "704d84dd-9670-490e-a975-053e28375431",
   "metadata": {},
   "source": [
    "# Welcome to Colorful Flavor!\n",
    "This is the first part of the **MtG Classy Flavor** project. Here we will be classifying a card's color from its flavor text. We will go over getting cards from the Scryfall API, parsing the card data with Pandas, and fitting a classifier with Scikit-Learn.  "
   ]
  },
  {
   "cell_type": "markdown",
   "id": "405fa5c7",
   "metadata": {},
   "source": [
    "## Get Card Data from Scryfall using the Scryfall API\n",
    "**Scryfall** is a powerful database and search engine for Magic: The Gathering cards. \n",
    "We will use their API to download the card data as a JSON file. We then convert the data to a pandas dataframe and isolate unique instances of flavor text.\n",
    "\n",
    "https://scryfall.com/docs/api \\\n",
    "https://scryfall.com/docs/api/bulk-data\n"
   ]
  },
  {
   "cell_type": "code",
   "execution_count": 1,
   "id": "fc17a3fb-47b9-4bbf-adc0-94f7fd25e6fc",
   "metadata": {
    "tags": []
   },
   "outputs": [
    {
     "name": "stdout",
     "output_type": "stream",
     "text": [
      "Intel MKL WARNING: Support of Intel(R) Streaming SIMD Extensions 4.2 (Intel(R) SSE4.2) enabled only processors has been deprecated. Intel oneAPI Math Kernel Library 2025.0 will require Intel(R) Advanced Vector Extensions (Intel(R) AVX) instructions.\n",
      "Intel MKL WARNING: Support of Intel(R) Streaming SIMD Extensions 4.2 (Intel(R) SSE4.2) enabled only processors has been deprecated. Intel oneAPI Math Kernel Library 2025.0 will require Intel(R) Advanced Vector Extensions (Intel(R) AVX) instructions.\n"
     ]
    }
   ],
   "source": [
    "import requests,time,os\n",
    "import numpy as np\n",
    "import pandas as pd\n",
    "import CF_standard_functions as cf# Custom functions\n",
    "import pickle as pkl\n",
    "from pathlib import Path"
   ]
  },
  {
   "cell_type": "markdown",
   "id": "548f20dc-ac5a-4d14-b564-ed4fd635df0b",
   "metadata": {},
   "source": [
    "First we query Scryfall to find the URI of the most up-to-date batch of card data. We want the address of the 'default_cards' dataset, which contains all unique prints of all cards. Once we have this address, we use it to download the raw card data.\n",
    "\n",
    "We then save the data locally with Pickle, so we can reload it without bothering Scryfall."
   ]
  },
  {
   "cell_type": "code",
   "execution_count": 2,
   "id": "6cccdeb1-52e7-45c2-8160-5edd808809e4",
   "metadata": {},
   "outputs": [
    {
     "name": "stdout",
     "output_type": "stream",
     "text": [
      "Downloading data from Scryfall\n",
      "Downloading 482.9 MB of card data...\n",
      "Download complete!\n",
      "Saving data to local file...\n",
      "Done!\n",
      "22867 cards with unique flavor text in data set\n"
     ]
    }
   ],
   "source": [
    "# Set these directories to determine where to save/load the data from:\n",
    "savepath = \"card_data\"\n",
    "filename = \"CardData.pkl\"\n",
    "fullpath = Path(savepath,filename)\n",
    "# Directory for getting data from Scryfall:\n",
    "sf_bulk_url = \"https://api.scryfall.com/bulk-data\"\n",
    "\n",
    "if (fullpath.is_file()) and (cf.file_age_in_hours(fullpath) < 24):\n",
    "    print('Loading card data from file...')\n",
    "    with open(fullpath,'rb') as datafile:\n",
    "        data = pkl.load(datafile)\n",
    "    print('Done!')\n",
    "else:\n",
    "    # Load raw data file and parse into dictionary\n",
    "    print('Downloading data from Scryfall')\n",
    "    sf_response = requests.get(sf_bulk_url).json()\n",
    "    download_dict = [d for d in sf_response['data'] if d['type'] == 'default_cards'][0]\n",
    "    data_size = np.round(download_dict['size'] / 1e6,1)\n",
    "    print(f\"Downloading {data_size} MB of card data...\")\n",
    "    card_data_raw = requests.get(download_dict['download_uri']).json()\n",
    "    print(\"Download complete!\")\n",
    "    # Convert to dataframe and trim to English cards from \"normal\" sets\n",
    "    data = pd.DataFrame(card_data_raw)\n",
    "    data.drop(data.index[data['set_type'] == 'funny'],inplace=True)\n",
    "    data.drop(data.index[data['lang']!='en'],inplace=True)\n",
    "    data.drop(data.index[data['flavor_text'].isnull()],inplace=True)\n",
    "    data['flavor_text'] = data.flavor_text.apply(lambda x : x.lower())\n",
    "    data.drop_duplicates(subset ='flavor_text',inplace=True)\n",
    "    print(\"Saving data to local file...\")\n",
    "    if not Path(savepath).is_dir():\n",
    "        Path(savepath).mkdir()\n",
    "    with open(fullpath,'wb') as datafile:\n",
    "        pkl.dump(data,datafile)\n",
    "    print('Done!')\n",
    "    \n",
    "nCards = data.shape[0]\n",
    "print(f\"{nCards} cards with unique flavor text in data set\")"
   ]
  },
  {
   "cell_type": "markdown",
   "id": "55cc9d84",
   "metadata": {},
   "source": [
    "### Organize cards by color\n",
    "In our first task we will classify flavor text by color. For convenience, we will make a new dataframe subsetting only the name, flavortext, and color of monocolored cards (i.e. excluding cards that have no color or are multiple colors).\\\n",
    "To make separating cards by colors easier, we add a Boolean variable to the dataframe for each color. We also add a Boolean for whether or not a card is monocolored. \\\n",
    "Finally, sort our cards in traditional **WUBRG** order (**W**hite, Bl**u**E, **B**lack, **R**ed, **G**reen) by setting the _colors_ variable to a categorical value.\n"
   ]
  },
  {
   "cell_type": "code",
   "execution_count": 3,
   "id": "3cadf824-4957-4064-ad9b-71be8577124d",
   "metadata": {
    "scrolled": true,
    "tags": []
   },
   "outputs": [
    {
     "data": {
      "text/html": [
       "<div>\n",
       "<style scoped>\n",
       "    .dataframe tbody tr th:only-of-type {\n",
       "        vertical-align: middle;\n",
       "    }\n",
       "\n",
       "    .dataframe tbody tr th {\n",
       "        vertical-align: top;\n",
       "    }\n",
       "\n",
       "    .dataframe thead th {\n",
       "        text-align: right;\n",
       "    }\n",
       "</style>\n",
       "<table border=\"1\" class=\"dataframe\">\n",
       "  <thead>\n",
       "    <tr style=\"text-align: right;\">\n",
       "      <th></th>\n",
       "      <th>name</th>\n",
       "      <th>colors</th>\n",
       "      <th>flavor_text</th>\n",
       "    </tr>\n",
       "  </thead>\n",
       "  <tbody>\n",
       "    <tr>\n",
       "      <th>8375</th>\n",
       "      <td>Phyrexian Denouncer</td>\n",
       "      <td>B</td>\n",
       "      <td>\"the first stage of the illness: rash and naus...</td>\n",
       "    </tr>\n",
       "    <tr>\n",
       "      <th>34116</th>\n",
       "      <td>Moat Piranhas</td>\n",
       "      <td>U</td>\n",
       "      <td>\"come on, it's not even that deep!\"\\n—gorin th...</td>\n",
       "    </tr>\n",
       "    <tr>\n",
       "      <th>21502</th>\n",
       "      <td>Vigilant Baloth</td>\n",
       "      <td>G</td>\n",
       "      <td>villagers employ watchdogs as guardians and co...</td>\n",
       "    </tr>\n",
       "    <tr>\n",
       "      <th>13317</th>\n",
       "      <td>Savannah Lions</td>\n",
       "      <td>W</td>\n",
       "      <td>the traditional kings of the jungle command a ...</td>\n",
       "    </tr>\n",
       "    <tr>\n",
       "      <th>6056</th>\n",
       "      <td>Mardu Scout</td>\n",
       "      <td>R</td>\n",
       "      <td>the mardu all enjoy war, but only the goblins ...</td>\n",
       "    </tr>\n",
       "  </tbody>\n",
       "</table>\n",
       "</div>"
      ],
      "text/plain": [
       "                      name colors  \\\n",
       "8375   Phyrexian Denouncer      B   \n",
       "34116        Moat Piranhas      U   \n",
       "21502      Vigilant Baloth      G   \n",
       "13317       Savannah Lions      W   \n",
       "6056           Mardu Scout      R   \n",
       "\n",
       "                                             flavor_text  \n",
       "8375   \"the first stage of the illness: rash and naus...  \n",
       "34116  \"come on, it's not even that deep!\"\\n—gorin th...  \n",
       "21502  villagers employ watchdogs as guardians and co...  \n",
       "13317  the traditional kings of the jungle command a ...  \n",
       "6056   the mardu all enjoy war, but only the goblins ...  "
      ]
     },
     "execution_count": 3,
     "metadata": {},
     "output_type": "execute_result"
    }
   ],
   "source": [
    "for c in ['W','U','B','R','G']:\n",
    "    tf = data.colors.apply(lambda x : np.shape(x) != (0,) and np.any(np.isin(x,c)))\n",
    "    data['is_'+c] = tf\n",
    "\n",
    "data['is_monocolor'] = np.sum(data.loc[:][['is_W','is_U','is_B','is_R','is_G']],axis=1) == 1\n",
    "\n",
    "data_monocolor = data.loc[data.is_monocolor][['name','colors','flavor_text']].copy()\n",
    "data_monocolor['colors'] = data_monocolor.colors.apply(lambda x: ''.join(x)) # Convert from list to string\n",
    "\n",
    "data_monocolor['colors'] = pd.Categorical(data_monocolor['colors'],ordered=True)\n",
    "data_monocolor['colors'] = data_monocolor['colors'].cat.reorder_categories(['W','U','B','R','G'])\n",
    "data_monocolor.sort_values('colors',ascending=True,inplace=True)\n",
    "data_monocolor.sample(5)"
   ]
  },
  {
   "cell_type": "markdown",
   "id": "23b594d7",
   "metadata": {},
   "source": [
    "### Prepare data for classification\n",
    "\n",
    "We will be classifying our cards with **Scikit-Learn**. Sckit-Learn needs numerical categories, not strings. So we will map each color string to a number:"
   ]
  },
  {
   "cell_type": "code",
   "execution_count": 4,
   "id": "ad1e0fcf",
   "metadata": {
    "tags": []
   },
   "outputs": [
    {
     "data": {
      "text/html": [
       "<div>\n",
       "<style scoped>\n",
       "    .dataframe tbody tr th:only-of-type {\n",
       "        vertical-align: middle;\n",
       "    }\n",
       "\n",
       "    .dataframe tbody tr th {\n",
       "        vertical-align: top;\n",
       "    }\n",
       "\n",
       "    .dataframe thead th {\n",
       "        text-align: right;\n",
       "    }\n",
       "</style>\n",
       "<table border=\"1\" class=\"dataframe\">\n",
       "  <thead>\n",
       "    <tr style=\"text-align: right;\">\n",
       "      <th></th>\n",
       "      <th>name</th>\n",
       "      <th>colors</th>\n",
       "      <th>flavor_text</th>\n",
       "      <th>label</th>\n",
       "    </tr>\n",
       "  </thead>\n",
       "  <tbody>\n",
       "    <tr>\n",
       "      <th>26691</th>\n",
       "      <td>Blight Mound</td>\n",
       "      <td>B</td>\n",
       "      <td>pests feed on carrion, mud, and one another.</td>\n",
       "      <td>2</td>\n",
       "    </tr>\n",
       "    <tr>\n",
       "      <th>15431</th>\n",
       "      <td>Kamahl's Druidic Vow</td>\n",
       "      <td>G</td>\n",
       "      <td>centuries ago, a barbarian laid his rage to rest.</td>\n",
       "      <td>4</td>\n",
       "    </tr>\n",
       "    <tr>\n",
       "      <th>59189</th>\n",
       "      <td>Magus of the Arena</td>\n",
       "      <td>R</td>\n",
       "      <td>the magus still hears the roar of the crowds. ...</td>\n",
       "      <td>3</td>\n",
       "    </tr>\n",
       "    <tr>\n",
       "      <th>13158</th>\n",
       "      <td>Drooling Ogre</td>\n",
       "      <td>R</td>\n",
       "      <td>\"is it the stomping kind or the munching kind?...</td>\n",
       "      <td>3</td>\n",
       "    </tr>\n",
       "    <tr>\n",
       "      <th>50912</th>\n",
       "      <td>Graven Lore</td>\n",
       "      <td>U</td>\n",
       "      <td>the runes glow beneath the snow, bearing memor...</td>\n",
       "      <td>1</td>\n",
       "    </tr>\n",
       "  </tbody>\n",
       "</table>\n",
       "</div>"
      ],
      "text/plain": [
       "                       name colors  \\\n",
       "26691          Blight Mound      B   \n",
       "15431  Kamahl's Druidic Vow      G   \n",
       "59189    Magus of the Arena      R   \n",
       "13158         Drooling Ogre      R   \n",
       "50912           Graven Lore      U   \n",
       "\n",
       "                                             flavor_text label  \n",
       "26691       pests feed on carrion, mud, and one another.     2  \n",
       "15431  centuries ago, a barbarian laid his rage to rest.     4  \n",
       "59189  the magus still hears the roar of the crowds. ...     3  \n",
       "13158  \"is it the stomping kind or the munching kind?...     3  \n",
       "50912  the runes glow beneath the snow, bearing memor...     1  "
      ]
     },
     "execution_count": 4,
     "metadata": {},
     "output_type": "execute_result"
    }
   ],
   "source": [
    "label_map = {'W':0,\n",
    "             'U':1,\n",
    "             'B':2,\n",
    "             'R':3,\n",
    "             'G':4}\n",
    "data_monocolor['label'] = data_monocolor['colors'].map(label_map)\n",
    "data_monocolor.sample(5)"
   ]
  },
  {
   "cell_type": "markdown",
   "id": "15d84020-6930-4a94-9253-1218b9081dcb",
   "metadata": {},
   "source": [
    "### Split data into train and test sets\n",
    "\n",
    "Using ScikitLearn's train_test_split, split our ~16,000 cards into a training set (75%) and a test set (25%). "
   ]
  },
  {
   "cell_type": "code",
   "execution_count": 5,
   "id": "9d4a4160-4cd4-4204-b0b6-8353567287ed",
   "metadata": {},
   "outputs": [
    {
     "name": "stdout",
     "output_type": "stream",
     "text": [
      "Training set consists of 13015 cards.\n",
      "Test set consists of 4339 cards.\n"
     ]
    }
   ],
   "source": [
    "from sklearn.model_selection import train_test_split\n",
    "\n",
    "flavor_train, flavor_test, label_train, label_test = train_test_split(\n",
    "        data_monocolor['flavor_text'], data_monocolor['label'], test_size=0.25, random_state=42)\n",
    "\n",
    "print('Training set consists of',flavor_train.shape[0],'cards.')\n",
    "print('Test set consists of',flavor_test.shape[0],'cards.')\n"
   ]
  },
  {
   "cell_type": "markdown",
   "id": "b97d59c9-e900-4319-83f1-708cc3a5b48b",
   "metadata": {},
   "source": [
    "## Design our Model!\n",
    "First we _tokenize_ the words in flavor text and convert them to numeric values, ignoring terms that are extremely common and those that only appear 3 or fewer times in the training set. \\\n",
    "Then, we fit a Linear Support Vector Classifier on our training data. \\\n",
    "These two steps can be wrapped up together in a ScikitLearn Pipeline object."
   ]
  },
  {
   "cell_type": "code",
   "execution_count": 6,
   "id": "ca31d8b8-96c8-47db-bf4a-f8fd07273c48",
   "metadata": {},
   "outputs": [],
   "source": [
    "from sklearn.feature_extraction.text import TfidfVectorizer\n",
    "from sklearn.svm import LinearSVC\n",
    "from sklearn.pipeline import Pipeline\n",
    "my_vectorizer = TfidfVectorizer(min_df = 3,max_df=0.95)\n",
    "my_linSVC = LinearSVC(C=1)\n",
    "pipe = Pipeline([('vect',my_vectorizer),\n",
    "               ('clf',my_linSVC)])\n",
    "\n",
    "pipe = pipe.fit(flavor_train,label_train)"
   ]
  },
  {
   "cell_type": "markdown",
   "id": "64241c06-bb32-40a2-8881-8d2c7fe5e06a",
   "metadata": {},
   "source": [
    "#### Measure model accuracy on test data"
   ]
  },
  {
   "cell_type": "code",
   "execution_count": 7,
   "id": "eedd2e1c-f391-41d2-b0fe-b19aee42e966",
   "metadata": {
    "tags": []
   },
   "outputs": [
    {
     "name": "stdout",
     "output_type": "stream",
     "text": [
      "Classifier accuracy is 50.1%\n"
     ]
    }
   ],
   "source": [
    "label_predict = pipe.predict(flavor_test)\n",
    "performance = sum(label_predict == label_test) / len(label_test) * 100\n",
    "print(f\"Classifier accuracy is {np.round(performance,1)}%\")"
   ]
  },
  {
   "cell_type": "markdown",
   "id": "7a4b3be7-7c69-4854-b678-86984ae4f028",
   "metadata": {},
   "source": [
    "#### Visualize model performance with a confusion matrix"
   ]
  },
  {
   "cell_type": "code",
   "execution_count": 8,
   "id": "ce624424-2750-460a-830a-1b57bedbdcb0",
   "metadata": {
    "tags": []
   },
   "outputs": [
    {
     "name": "stdout",
     "output_type": "stream",
     "text": [
      "              precision    recall  f1-score   support\n",
      "\n",
      "           W       0.48      0.50      0.49       898\n",
      "           U       0.48      0.50      0.49       825\n",
      "           B       0.54      0.49      0.51       899\n",
      "           R       0.50      0.50      0.50       870\n",
      "           G       0.52      0.53      0.52       847\n",
      "\n",
      "    accuracy                           0.50      4339\n",
      "   macro avg       0.50      0.50      0.50      4339\n",
      "weighted avg       0.50      0.50      0.50      4339\n",
      "\n"
     ]
    },
    {
     "data": {
      "image/png": "[encoded data removed]",
      "text/plain": [
       "<Figure size 1000x1000 with 2 Axes>"
      ]
     },
     "metadata": {},
     "output_type": "display_data"
    }
   ],
   "source": [
    "from sklearn import metrics\n",
    "import seaborn as sns\n",
    "from matplotlib import pyplot as plt\n",
    "\n",
    "print(metrics.classification_report(label_test, label_predict,target_names = [str(i) for i in label_map]))\n",
    "\n",
    "cm = metrics.confusion_matrix(label_test, label_predict,normalize='true',\n",
    "                              labels=list(label_map.values()))\n",
    "\n",
    "fig, ax = plt.subplots(figsize=(10,10))\n",
    "sns.heatmap(cm, annot=True, fmt='.2f',xticklabels=[str(i) for i in label_map],yticklabels=[str(i) for i in label_map])\n",
    "plt.ylabel('Actual')\n",
    "plt.xlabel('Predicted')\n",
    "plt.show(block=False)\n"
   ]
  },
  {
   "cell_type": "markdown",
   "id": "9353294c-ebc1-4642-aae5-11507965fa47",
   "metadata": {},
   "source": [
    "**Not too shabby!** \\\n",
    "Our classifier gets the correct color a hair over 50% of the time. This might not seem very accurate, but remember that there are five colors, so we would only have about a 20% hit rate by randomly guessing. \n",
    "\n",
    "We can also write our own flavor text and see what color our model thinks it belongs to!"
   ]
  },
  {
   "cell_type": "code",
   "execution_count": 9,
   "id": "d5d747a1-64f6-4016-a586-0e26670d6ecb",
   "metadata": {
    "tags": []
   },
   "outputs": [
    {
     "name": "stdout",
     "output_type": "stream",
     "text": [
      "Goblins sure do smell bad --> R\n",
      "Your spell was a mistake and now it is gone --> U\n",
      "Trees are the most beautiful thing --> G\n",
      "Death cannot stop the wicked --> B\n",
      "The angelic choir sings loftily over the clouds --> W\n",
      "\"Some like it hot\" -Chandra Nalaar --> R\n"
     ]
    }
   ],
   "source": [
    "new_flavor_text = ['Goblins sure do smell bad',\n",
    "              'Your spell was a mistake and now it is gone',\n",
    "              'Trees are the most beautiful thing',\n",
    "              'Death cannot stop the wicked',\n",
    "              'The angelic choir sings loftily over the clouds',\n",
    "              '\"Some like it hot\" -Chandra Nalaar']\n",
    "\n",
    "new_color_predictions = pipe.predict(new_flavor_text)\n",
    "# Reverse-lookup color mapping    \n",
    "for txt,col in zip(new_flavor_text,new_color_predictions):\n",
    "    print(f\"{txt} --> {[str(i) for i in label_map][col]}\")"
   ]
  },
  {
   "cell_type": "markdown",
   "id": "265c1e75-9709-4713-a4ae-5e045362c103",
   "metadata": {},
   "source": [
    "**Lets see if we can do better by tokenizing word pairs as well as individual words**"
   ]
  },
  {
   "cell_type": "code",
   "execution_count": 10,
   "id": "24972038-4394-4223-b349-bd37abd3f42d",
   "metadata": {
    "tags": []
   },
   "outputs": [
    {
     "name": "stdout",
     "output_type": "stream",
     "text": [
      "Classifier hit rate is 50.1%\n"
     ]
    }
   ],
   "source": [
    "performance = sum(label_predict == label_test) / len(label_test)*100\n",
    "print(f'Classifier hit rate is {np.round(performance,1)}%')\n",
    "pipe.set_params(vect__ngram_range = (1,2))\n",
    "pipe.fit(flavor_train,label_train)\n",
    "color_predict = pipe.predict(flavor_test)\n"
   ]
  },
  {
   "cell_type": "markdown",
   "id": "2af4e8a2-c5bb-4adb-bb4a-0f9589aefb95",
   "metadata": {},
   "source": [
    "Looks like that didn't make a difference. Lets do a more thorough optimization using a parameter grid search:\n",
    "(this takes a long time to run, check the Python kernal for progress updates)"
   ]
  },
  {
   "cell_type": "code",
   "execution_count": 11,
   "id": "385d1f45-ae6c-4fbf-8538-db23c8927d59",
   "metadata": {},
   "outputs": [
    {
     "name": "stdout",
     "output_type": "stream",
     "text": [
      "Fitting 5 folds for each of 72 candidates, totalling 360 fits\n",
      "0.5041874759892432\n",
      "{'clf__C': 0.1, 'vect__max_df': 0.8, 'vect__min_df': 1, 'vect__ngram_range': (1, 1)}\n"
     ]
    },
    {
     "data": {
      "text/html": [
       "<div>\n",
       "<style scoped>\n",
       "    .dataframe tbody tr th:only-of-type {\n",
       "        vertical-align: middle;\n",
       "    }\n",
       "\n",
       "    .dataframe tbody tr th {\n",
       "        vertical-align: top;\n",
       "    }\n",
       "\n",
       "    .dataframe thead th {\n",
       "        text-align: right;\n",
       "    }\n",
       "</style>\n",
       "<table border=\"1\" class=\"dataframe\">\n",
       "  <thead>\n",
       "    <tr style=\"text-align: right;\">\n",
       "      <th></th>\n",
       "      <th>mean_fit_time</th>\n",
       "      <th>std_fit_time</th>\n",
       "      <th>mean_score_time</th>\n",
       "      <th>std_score_time</th>\n",
       "      <th>param_clf__C</th>\n",
       "      <th>param_vect__max_df</th>\n",
       "      <th>param_vect__min_df</th>\n",
       "      <th>param_vect__ngram_range</th>\n",
       "      <th>params</th>\n",
       "      <th>split0_test_score</th>\n",
       "      <th>split1_test_score</th>\n",
       "      <th>split2_test_score</th>\n",
       "      <th>split3_test_score</th>\n",
       "      <th>split4_test_score</th>\n",
       "      <th>mean_test_score</th>\n",
       "      <th>std_test_score</th>\n",
       "      <th>rank_test_score</th>\n",
       "    </tr>\n",
       "  </thead>\n",
       "  <tbody>\n",
       "    <tr>\n",
       "      <th>0</th>\n",
       "      <td>0.193324</td>\n",
       "      <td>0.016006</td>\n",
       "      <td>0.035667</td>\n",
       "      <td>0.004035</td>\n",
       "      <td>0.01</td>\n",
       "      <td>0.8</td>\n",
       "      <td>1</td>\n",
       "      <td>(1, 1)</td>\n",
       "      <td>{'clf__C': 0.01, 'vect__max_df': 0.8, 'vect__m...</td>\n",
       "      <td>0.462927</td>\n",
       "      <td>0.451402</td>\n",
       "      <td>0.452171</td>\n",
       "      <td>0.447561</td>\n",
       "      <td>0.434883</td>\n",
       "      <td>0.449789</td>\n",
       "      <td>0.009034</td>\n",
       "      <td>57</td>\n",
       "    </tr>\n",
       "    <tr>\n",
       "      <th>1</th>\n",
       "      <td>0.598050</td>\n",
       "      <td>0.013588</td>\n",
       "      <td>0.072708</td>\n",
       "      <td>0.002367</td>\n",
       "      <td>0.01</td>\n",
       "      <td>0.8</td>\n",
       "      <td>1</td>\n",
       "      <td>(1, 2)</td>\n",
       "      <td>{'clf__C': 0.01, 'vect__max_df': 0.8, 'vect__m...</td>\n",
       "      <td>0.440261</td>\n",
       "      <td>0.429120</td>\n",
       "      <td>0.429504</td>\n",
       "      <td>0.429889</td>\n",
       "      <td>0.416443</td>\n",
       "      <td>0.429043</td>\n",
       "      <td>0.007557</td>\n",
       "      <td>69</td>\n",
       "    </tr>\n",
       "    <tr>\n",
       "      <th>2</th>\n",
       "      <td>0.378064</td>\n",
       "      <td>0.024719</td>\n",
       "      <td>0.036672</td>\n",
       "      <td>0.003216</td>\n",
       "      <td>0.01</td>\n",
       "      <td>0.8</td>\n",
       "      <td>2</td>\n",
       "      <td>(1, 1)</td>\n",
       "      <td>{'clf__C': 0.01, 'vect__max_df': 0.8, 'vect__m...</td>\n",
       "      <td>0.458317</td>\n",
       "      <td>0.452171</td>\n",
       "      <td>0.450634</td>\n",
       "      <td>0.453323</td>\n",
       "      <td>0.438340</td>\n",
       "      <td>0.450557</td>\n",
       "      <td>0.006629</td>\n",
       "      <td>49</td>\n",
       "    </tr>\n",
       "    <tr>\n",
       "      <th>3</th>\n",
       "      <td>0.406985</td>\n",
       "      <td>0.009893</td>\n",
       "      <td>0.063596</td>\n",
       "      <td>0.009056</td>\n",
       "      <td>0.01</td>\n",
       "      <td>0.8</td>\n",
       "      <td>2</td>\n",
       "      <td>(1, 2)</td>\n",
       "      <td>{'clf__C': 0.01, 'vect__max_df': 0.8, 'vect__m...</td>\n",
       "      <td>0.451018</td>\n",
       "      <td>0.446792</td>\n",
       "      <td>0.445255</td>\n",
       "      <td>0.444487</td>\n",
       "      <td>0.422589</td>\n",
       "      <td>0.442028</td>\n",
       "      <td>0.009978</td>\n",
       "      <td>65</td>\n",
       "    </tr>\n",
       "    <tr>\n",
       "      <th>4</th>\n",
       "      <td>0.324524</td>\n",
       "      <td>0.013837</td>\n",
       "      <td>0.032858</td>\n",
       "      <td>0.003311</td>\n",
       "      <td>0.01</td>\n",
       "      <td>0.8</td>\n",
       "      <td>3</td>\n",
       "      <td>(1, 1)</td>\n",
       "      <td>{'clf__C': 0.01, 'vect__max_df': 0.8, 'vect__m...</td>\n",
       "      <td>0.459086</td>\n",
       "      <td>0.452939</td>\n",
       "      <td>0.451402</td>\n",
       "      <td>0.453707</td>\n",
       "      <td>0.434883</td>\n",
       "      <td>0.450403</td>\n",
       "      <td>0.008181</td>\n",
       "      <td>53</td>\n",
       "    </tr>\n",
       "  </tbody>\n",
       "</table>\n",
       "</div>"
      ],
      "text/plain": [
       "   mean_fit_time  std_fit_time  mean_score_time  std_score_time  param_clf__C  \\\n",
       "0       0.193324      0.016006         0.035667        0.004035          0.01   \n",
       "1       0.598050      0.013588         0.072708        0.002367          0.01   \n",
       "2       0.378064      0.024719         0.036672        0.003216          0.01   \n",
       "3       0.406985      0.009893         0.063596        0.009056          0.01   \n",
       "4       0.324524      0.013837         0.032858        0.003311          0.01   \n",
       "\n",
       "   param_vect__max_df  param_vect__min_df param_vect__ngram_range  \\\n",
       "0                 0.8                   1                  (1, 1)   \n",
       "1                 0.8                   1                  (1, 2)   \n",
       "2                 0.8                   2                  (1, 1)   \n",
       "3                 0.8                   2                  (1, 2)   \n",
       "4                 0.8                   3                  (1, 1)   \n",
       "\n",
       "                                              params  split0_test_score  \\\n",
       "0  {'clf__C': 0.01, 'vect__max_df': 0.8, 'vect__m...           0.462927   \n",
       "1  {'clf__C': 0.01, 'vect__max_df': 0.8, 'vect__m...           0.440261   \n",
       "2  {'clf__C': 0.01, 'vect__max_df': 0.8, 'vect__m...           0.458317   \n",
       "3  {'clf__C': 0.01, 'vect__max_df': 0.8, 'vect__m...           0.451018   \n",
       "4  {'clf__C': 0.01, 'vect__max_df': 0.8, 'vect__m...           0.459086   \n",
       "\n",
       "   split1_test_score  split2_test_score  split3_test_score  split4_test_score  \\\n",
       "0           0.451402           0.452171           0.447561           0.434883   \n",
       "1           0.429120           0.429504           0.429889           0.416443   \n",
       "2           0.452171           0.450634           0.453323           0.438340   \n",
       "3           0.446792           0.445255           0.444487           0.422589   \n",
       "4           0.452939           0.451402           0.453707           0.434883   \n",
       "\n",
       "   mean_test_score  std_test_score  rank_test_score  \n",
       "0         0.449789        0.009034               57  \n",
       "1         0.429043        0.007557               69  \n",
       "2         0.450557        0.006629               49  \n",
       "3         0.442028        0.009978               65  \n",
       "4         0.450403        0.008181               53  "
      ]
     },
     "execution_count": 11,
     "metadata": {},
     "output_type": "execute_result"
    }
   ],
   "source": [
    "from sklearn.model_selection import GridSearchCV \n",
    "\n",
    "parameters = {\n",
    "    'vect__ngram_range': [(1, 1), (1, 2)] ,\n",
    "    'vect__max_df': [0.8,0.9,0.95,0.99],\n",
    "    'vect__min_df': [1,2,3],\n",
    "    'clf__C':       [0.01,0.1,1]}\n",
    "gs = GridSearchCV(pipe, parameters, n_jobs=-1,verbose=3)\n",
    "gs.fit(flavor_train,label_train)\n",
    "\n",
    "gs_df = pd.DataFrame.from_dict(gs.cv_results_)\n",
    "\n",
    "print(gs.best_score_)\n",
    "print(gs.best_params_)\n",
    "gs_df.head()"
   ]
  },
  {
   "cell_type": "markdown",
   "id": "b47fda89-4b37-428f-bb38-e52174ffb81f",
   "metadata": {},
   "source": [
    "**Plot the relationships between model parameters and model score**"
   ]
  },
  {
   "cell_type": "code",
   "execution_count": 12,
   "id": "b3cecb98-9558-4b21-8355-78a3efd6bf82",
   "metadata": {},
   "outputs": [
    {
     "data": {
      "image/png": "[encoded data removed]",
      "text/plain": [
       "<Figure size 1000x700 with 4 Axes>"
      ]
     },
     "metadata": {},
     "output_type": "display_data"
    }
   ],
   "source": [
    "fig,ax = plt.subplots(2,2,sharey=True,figsize=[10,7])\n",
    "sns.scatterplot(data=gs_df,ax=ax[0][0],x='param_clf__C',y='mean_test_score')\n",
    "sns.scatterplot(data=gs_df,ax=ax[0][1],x='param_vect__max_df',y='mean_test_score')\n",
    "ngram_range_max = [i[1] for i in gs_df.loc[:,'param_vect__ngram_range']]\n",
    "sns.scatterplot(data=gs_df,ax=ax[1][0],x=ngram_range_max,y='mean_test_score')\n",
    "ax[1][0].set_xlabel('vect_ngram_range')\n",
    "sns.scatterplot(data=gs_df,ax=ax[1][1],x='param_vect__min_df',y='mean_test_score')\n",
    "ax[0][0].set_xscale('log')"
   ]
  },
  {
   "cell_type": "markdown",
   "id": "eebe800b-a7b3-46b6-81e4-b3d00d3efa77",
   "metadata": {},
   "source": [
    "From these plots, it looks like the C parameter of the LinearSVC is the most important parameter to adjust, though differences in how we vectorize the text can help a bit.\\\n",
    "_max_cf_ has little effect, and a higher _max_cf_ value means we are removing more words from our lexicon, so let's leave that at 0.95 to keep more words in our model without hurting performance.\n",
    "\n",
    "**Retrain the model with these new parameters**"
   ]
  },
  {
   "cell_type": "code",
   "execution_count": 13,
   "id": "c8a8deb4-685d-431a-9f62-f099fc93db4e",
   "metadata": {},
   "outputs": [
    {
     "name": "stdout",
     "output_type": "stream",
     "text": [
      "Optimized classifier hit rate is 51.2%\n"
     ]
    }
   ],
   "source": [
    "pipe.set_params(vect__max_df = 0.95,\n",
    "                vect__min_df=1,\n",
    "                vect__ngram_range=(1,1),\n",
    "                clf__C = 0.1)\n",
    "pipe.fit(flavor_train,label_train)\n",
    "label_predict = pipe.predict(flavor_test)\n",
    "performance = np.round(sum(label_predict == label_test) / len(label_test) , 4)*100\n",
    "print('Optimized classifier hit rate is %s%%' % np.round(performance,1))"
   ]
  },
  {
   "cell_type": "markdown",
   "id": "730ce85c-e283-47ea-914e-ddd43ac45be1",
   "metadata": {
    "tags": []
   },
   "source": [
    "## Investigate the Model\n",
    "Now that we have an optimized model, lets look into what types of text the model does well or poorly on. \\\n",
    "For now, we will only look at cards in our test set (to avoid re-running the model several times). \n",
    "\n",
    "One likely cause of misclassification is from cards with very short flavor text. We can check this by plotting the portion of correct classifications as a function of flavor text length.\n",
    "\n",
    "First, let's look at the distribution of the number of words in flavor text, binning by 5 words:"
   ]
  },
  {
   "cell_type": "code",
   "execution_count": 14,
   "id": "97e1c171-3483-46ed-83e6-cca2c26f1407",
   "metadata": {
    "tags": []
   },
   "outputs": [
    {
     "data": {
      "text/plain": [
       "[Text(0, 0.5, 'Count of Cards'),\n",
       " Text(0.5, 0, 'Number of Words in Flavor Text')]"
      ]
     },
     "execution_count": 14,
     "metadata": {},
     "output_type": "execute_result"
    },
    {
     "data": {
      "image/png": "[encoded data removed]",
      "text/plain": [
       "<Figure size 640x480 with 1 Axes>"
      ]
     },
     "metadata": {},
     "output_type": "display_data"
    }
   ],
   "source": [
    "# Put test data into a dataframe for easier plotting and indexing\n",
    "test_df = pd.DataFrame(data={'flavor_text':flavor_test,'label':label_test})\n",
    "test_df['word_count'] = test_df.flavor_text.apply(lambda x : len(x.split()))\n",
    "test_df['predicted'] = pipe.predict(test_df['flavor_text'])\n",
    "test_df['correct'] = np.equal(test_df['label'],test_df['predicted'])\n",
    "test_df = pd.concat([test_df,data_monocolor['name']],axis=1,join='inner')\n",
    "test_df = test_df[['name','flavor_text','word_count','label','predicted','correct']]\n",
    "\n",
    "bins = np.arange(0,45,5)\n",
    "ax = plt.axes()\n",
    "sns.histplot(data=test_df,x='word_count',bins=bins,ax=ax)\n",
    "ax.set(ylabel='Count of Cards',xlabel='Number of Words in Flavor Text')"
   ]
  },
  {
   "cell_type": "markdown",
   "id": "f65a438c-0eba-487a-8b22-8522a7dde220",
   "metadata": {},
   "source": [
    "Now for each bin, find the proportion of cards in that bin that are correctly classified:"
   ]
  },
  {
   "cell_type": "code",
   "execution_count": 15,
   "id": "d03d78c8-9274-43df-adc0-39f099e04efa",
   "metadata": {
    "tags": []
   },
   "outputs": [
    {
     "data": {
      "text/plain": [
       "<matplotlib.legend.Legend at 0x17409d2b0>"
      ]
     },
     "execution_count": 15,
     "metadata": {},
     "output_type": "execute_result"
    },
    {
     "data": {
      "image/png": "[encoded data removed]",
      "text/plain": [
       "<Figure size 640x480 with 1 Axes>"
      ]
     },
     "metadata": {},
     "output_type": "display_data"
    }
   ],
   "source": [
    "# Preallocate arrays\n",
    "counts_correct = np.zeros(len(bins)-1)\n",
    "counts_all =   np.zeros(len(bins)-1)\n",
    "for i in range(len(bins)-1):\n",
    "    sub_data = test_df[(test_df.word_count > bins[i]) & (test_df.word_count <= bins[i+1])]\n",
    "    counts_correct[i] = sum(sub_data.correct)\n",
    "    counts_all[i] = sub_data.shape[0]\n",
    "plot_bin_width = (bins[1]-bins[0])*0.8\n",
    "    \n",
    "hit_rate = counts_correct / counts_all\n",
    "bar_x = [np.mean([y,z]) for y,z in zip(bins[:-1],bins[1:])]\n",
    "bar_df = pd.DataFrame({'Bin':bins[:-1],'Correct_Rate':hit_rate,'Incorrect_Rate':1-np.array(hit_rate)})\n",
    "miss_bar = plt.bar(bins[:-1],np.ones(np.size(hit_rate)),align='edge',width=plot_bin_width,\n",
    "                   edgecolor='k',color=[0.3,0,0.3])\n",
    "hit_bar = plt.bar(bins[:-1],hit_rate,align='edge',width=plot_bin_width,\n",
    "                  edgecolor='k',color=[0.9,0.7,0])\n",
    "plt.ylabel('Classification Rate')\n",
    "plt.xlabel('Word Count')\n",
    "miss_bar.set_label('Incorrect')\n",
    "hit_bar.set_label('Correct')\n",
    "plt.legend()"
   ]
  },
  {
   "cell_type": "markdown",
   "id": "1705d79d-6a82-46f4-ae40-f9d0db792b25",
   "metadata": {},
   "source": [
    "It looks like there might be a weak relationship between word count and classifier accuracy. We can test this hypothesis with a simple logistic regression:"
   ]
  },
  {
   "cell_type": "code",
   "execution_count": 16,
   "id": "fa17e7b7-df12-4489-9b22-468dcb8b6325",
   "metadata": {},
   "outputs": [
    {
     "ename": "ModuleNotFoundError",
     "evalue": "No module named 'statsmodels'",
     "output_type": "error",
     "traceback": [
      "\u001b[0;31m---------------------------------------------------------------------------\u001b[0m",
      "\u001b[0;31mModuleNotFoundError\u001b[0m                       Traceback (most recent call last)",
      "Cell \u001b[0;32mIn[16], line 2\u001b[0m\n\u001b[1;32m      1\u001b[0m \u001b[38;5;28;01mfrom\u001b[39;00m\u001b[38;5;250m \u001b[39m\u001b[38;5;21;01mscipy\u001b[39;00m\u001b[38;5;21;01m.\u001b[39;00m\u001b[38;5;21;01mspecial\u001b[39;00m\u001b[38;5;250m \u001b[39m\u001b[38;5;28;01mimport\u001b[39;00m expit \u001b[38;5;66;03m# Logistic sigmoid function\u001b[39;00m\n\u001b[0;32m----> 2\u001b[0m \u001b[38;5;28;01mimport\u001b[39;00m\u001b[38;5;250m \u001b[39m\u001b[38;5;21;01mstatsmodels\u001b[39;00m\u001b[38;5;21;01m.\u001b[39;00m\u001b[38;5;21;01mapi\u001b[39;00m\u001b[38;5;250m \u001b[39m\u001b[38;5;28;01mas\u001b[39;00m\u001b[38;5;250m \u001b[39m\u001b[38;5;21;01msm\u001b[39;00m\n\u001b[1;32m      3\u001b[0m \u001b[38;5;28;01mfrom\u001b[39;00m\u001b[38;5;250m \u001b[39m\u001b[38;5;21;01mscipy\u001b[39;00m\u001b[38;5;250m \u001b[39m\u001b[38;5;28;01mimport\u001b[39;00m stats\n\u001b[1;32m      5\u001b[0m X \u001b[38;5;241m=\u001b[39m np\u001b[38;5;241m.\u001b[39marray(test_df[\u001b[38;5;124m'\u001b[39m\u001b[38;5;124mword_count\u001b[39m\u001b[38;5;124m'\u001b[39m])\n",
      "\u001b[0;31mModuleNotFoundError\u001b[0m: No module named 'statsmodels'"
     ]
    },
    {
     "name": "stdout",
     "output_type": "stream",
     "text": [
      "[CV 4/5] END clf__C=0.01, vect__max_df=0.8, vect__min_df=1, vect__ngram_range=(1, 1);, score=0.448 total time=   0.2s\n",
      "[CV 1/5] END clf__C=0.01, vect__max_df=0.8, vect__min_df=2, vect__ngram_range=(1, 1);, score=0.458 total time=   0.4s\n",
      "[CV 4/5] END clf__C=0.01, vect__max_df=0.8, vect__min_df=2, vect__ngram_range=(1, 1);, score=0.453 total time=   0.4s\n",
      "[CV 2/5] END clf__C=0.01, vect__max_df=0.8, vect__min_df=3, vect__ngram_range=(1, 1);, score=0.453 total time=   0.4s\n",
      "[CV 5/5] END clf__C=0.01, vect__max_df=0.8, vect__min_df=3, vect__ngram_range=(1, 2);, score=0.424 total time=   0.4s\n",
      "[CV 1/5] END clf__C=0.01, vect__max_df=0.9, vect__min_df=2, vect__ngram_range=(1, 1);, score=0.458 total time=   0.5s\n",
      "[CV 5/5] END clf__C=0.01, vect__max_df=0.9, vect__min_df=2, vect__ngram_range=(1, 1);, score=0.438 total time=   0.4s\n",
      "[CV 3/5] END clf__C=0.01, vect__max_df=0.9, vect__min_df=3, vect__ngram_range=(1, 1);, score=0.451 total time=   0.3s\n",
      "[CV 1/5] END clf__C=0.01, vect__max_df=0.95, vect__min_df=1, vect__ngram_range=(1, 1);, score=0.463 total time=   0.3s\n",
      "[CV 4/5] END clf__C=0.01, vect__max_df=0.95, vect__min_df=1, vect__ngram_range=(1, 2);, score=0.430 total time=   0.7s\n",
      "[CV 3/5] END clf__C=0.01, vect__max_df=0.95, vect__min_df=2, vect__ngram_range=(1, 2);, score=0.445 total time=   0.5s\n",
      "[CV 1/5] END clf__C=0.01, vect__max_df=0.95, vect__min_df=3, vect__ngram_range=(1, 2);, score=0.456 total time=   0.4s\n",
      "[CV 1/5] END clf__C=0.01, vect__max_df=0.99, vect__min_df=1, vect__ngram_range=(1, 2);, score=0.440 total time=   0.7s\n",
      "[CV 1/5] END clf__C=0.01, vect__max_df=0.99, vect__min_df=2, vect__ngram_range=(1, 2);, score=0.451 total time=   0.4s\n",
      "[CV 4/5] END clf__C=0.01, vect__max_df=0.99, vect__min_df=3, vect__ngram_range=(1, 1);, score=0.454 total time=   0.4s\n",
      "[CV 2/5] END clf__C=0.1, vect__max_df=0.8, vect__min_df=1, vect__ngram_range=(1, 1);, score=0.513 total time=   0.4s\n",
      "[CV 2/5] END clf__C=0.1, vect__max_df=0.8, vect__min_df=2, vect__ngram_range=(1, 1);, score=0.513 total time=   0.5s\n",
      "[CV 2/5] END clf__C=0.1, vect__max_df=0.8, vect__min_df=2, vect__ngram_range=(1, 2);, score=0.503 total time=   0.4s\n",
      "[CV 2/5] END clf__C=0.1, vect__max_df=0.8, vect__min_df=3, vect__ngram_range=(1, 1);, score=0.509 total time=   0.5s\n",
      "[CV 5/5] END clf__C=0.1, vect__max_df=0.8, vect__min_df=3, vect__ngram_range=(1, 2);, score=0.461 total time=   0.5s\n",
      "[CV 3/5] END clf__C=0.1, vect__max_df=0.9, vect__min_df=2, vect__ngram_range=(1, 1);, score=0.510 total time=   0.6s\n",
      "[CV 5/5] END clf__C=0.1, vect__max_df=0.9, vect__min_df=2, vect__ngram_range=(1, 2);, score=0.463 total time=   0.5s\n",
      "[CV 1/5] END clf__C=0.1, vect__max_df=0.9, vect__min_df=3, vect__ngram_range=(1, 2);, score=0.507 total time=   0.7s\n",
      "[CV 3/5] END clf__C=0.1, vect__max_df=0.95, vect__min_df=1, vect__ngram_range=(1, 2);, score=0.493 total time=   0.7s\n",
      "[CV 2/5] END clf__C=0.1, vect__max_df=0.95, vect__min_df=2, vect__ngram_range=(1, 2);, score=0.503 total time=   0.6s\n",
      "[CV 4/5] END clf__C=0.1, vect__max_df=0.95, vect__min_df=3, vect__ngram_range=(1, 1);, score=0.487 total time=   0.5s\n",
      "[CV 5/5] END clf__C=0.1, vect__max_df=0.95, vect__min_df=3, vect__ngram_range=(1, 2);, score=0.461 total time=   0.5s\n",
      "[CV 3/5] END clf__C=0.1, vect__max_df=0.99, vect__min_df=2, vect__ngram_range=(1, 1);, score=0.510 total time=   0.6s\n",
      "[CV 1/5] END clf__C=0.1, vect__max_df=0.99, vect__min_df=3, vect__ngram_range=(1, 1);, score=0.501 total time=   0.5s\n",
      "[CV 2/5] END clf__C=0.1, vect__max_df=0.99, vect__min_df=3, vect__ngram_range=(1, 2);, score=0.502 total time=   0.5s\n",
      "[CV 5/5] END clf__C=0.1, vect__max_df=0.99, vect__min_df=3, vect__ngram_range=(1, 2);, score=0.461 total time=   0.5s\n",
      "[CV 1/5] END clf__C=1, vect__max_df=0.8, vect__min_df=2, vect__ngram_range=(1, 1);, score=0.489 total time=   1.1s\n",
      "[CV 5/5] END clf__C=1, vect__max_df=0.8, vect__min_df=2, vect__ngram_range=(1, 2);, score=0.468 total time=   0.6s\n",
      "[CV 2/5] END clf__C=1, vect__max_df=0.8, vect__min_df=3, vect__ngram_range=(1, 2);, score=0.476 total time=   0.6s\n",
      "[CV 2/5] END clf__C=1, vect__max_df=0.9, vect__min_df=1, vect__ngram_range=(1, 1);, score=0.501 total time=   0.4s\n",
      "[CV 2/5] END clf__C=1, vect__max_df=0.9, vect__min_df=2, vect__ngram_range=(1, 1);, score=0.493 total time=   1.1s\n",
      "[CV 4/5] END clf__C=1, vect__max_df=0.9, vect__min_df=2, vect__ngram_range=(1, 2);, score=0.473 total time=   0.6s\n",
      "[CV 5/5] END clf__C=1, vect__max_df=0.9, vect__min_df=3, vect__ngram_range=(1, 1);, score=0.466 total time=   0.9s\n",
      "[CV 2/5] END clf__C=1, vect__max_df=0.95, vect__min_df=1, vect__ngram_range=(1, 2);, score=0.506 total time=   0.9s\n",
      "[CV 5/5] END clf__C=1, vect__max_df=0.95, vect__min_df=2, vect__ngram_range=(1, 1);, score=0.463 total time=   1.0s\n",
      "[CV 3/5] END clf__C=1, vect__max_df=0.95, vect__min_df=3, vect__ngram_range=(1, 2);, score=0.471 total time=   0.6s\n",
      "[CV 4/5] END clf__C=1, vect__max_df=0.99, vect__min_df=1, vect__ngram_range=(1, 1);, score=0.483 total time=   0.3s\n",
      "[CV 1/5] END clf__C=1, vect__max_df=0.99, vect__min_df=2, vect__ngram_range=(1, 1);, score=0.489 total time=   1.1s\n",
      "[CV 4/5] END clf__C=1, vect__max_df=0.99, vect__min_df=2, vect__ngram_range=(1, 2);, score=0.473 total time=   0.6s\n",
      "[CV 1/5] END clf__C=1, vect__max_df=0.99, vect__min_df=3, vect__ngram_range=(1, 2);, score=0.484 total time=   0.6s\n",
      "[CV 5/5] END clf__C=0.01, vect__max_df=0.8, vect__min_df=1, vect__ngram_range=(1, 1);, score=0.435 total time=   0.2s\n",
      "[CV 3/5] END clf__C=0.01, vect__max_df=0.8, vect__min_df=2, vect__ngram_range=(1, 1);, score=0.451 total time=   0.4s\n",
      "[CV 2/5] END clf__C=0.01, vect__max_df=0.8, vect__min_df=2, vect__ngram_range=(1, 2);, score=0.447 total time=   0.5s\n",
      "[CV 5/5] END clf__C=0.01, vect__max_df=0.8, vect__min_df=3, vect__ngram_range=(1, 1);, score=0.435 total time=   0.3s\n",
      "[CV 3/5] END clf__C=0.01, vect__max_df=0.9, vect__min_df=1, vect__ngram_range=(1, 1);, score=0.452 total time=   0.2s\n",
      "[CV 5/5] END clf__C=0.01, vect__max_df=0.9, vect__min_df=1, vect__ngram_range=(1, 2);, score=0.416 total time=   0.7s\n",
      "[CV 1/5] END clf__C=0.01, vect__max_df=0.9, vect__min_df=3, vect__ngram_range=(1, 1);, score=0.459 total time=   0.4s\n",
      "[CV 4/5] END clf__C=0.01, vect__max_df=0.9, vect__min_df=3, vect__ngram_range=(1, 1);, score=0.454 total time=   0.4s\n",
      "[CV 2/5] END clf__C=0.01, vect__max_df=0.95, vect__min_df=1, vect__ngram_range=(1, 1);, score=0.451 total time=   0.2s\n",
      "[CV 3/5] END clf__C=0.01, vect__max_df=0.95, vect__min_df=1, vect__ngram_range=(1, 2);, score=0.430 total time=   0.8s\n",
      "[CV 1/5] END clf__C=0.01, vect__max_df=0.95, vect__min_df=3, vect__ngram_range=(1, 1);, score=0.459 total time=   0.4s\n",
      "[CV 2/5] END clf__C=0.01, vect__max_df=0.95, vect__min_df=3, vect__ngram_range=(1, 2);, score=0.448 total time=   0.4s\n",
      "[CV 5/5] END clf__C=0.01, vect__max_df=0.99, vect__min_df=1, vect__ngram_range=(1, 1);, score=0.435 total time=   0.2s\n",
      "[CV 3/5] END clf__C=0.01, vect__max_df=0.99, vect__min_df=2, vect__ngram_range=(1, 1);, score=0.451 total time=   0.4s\n",
      "[CV 5/5] END clf__C=0.01, vect__max_df=0.99, vect__min_df=2, vect__ngram_range=(1, 1);, score=0.438 total time=   0.4s\n",
      "[CV 3/5] END clf__C=0.01, vect__max_df=0.99, vect__min_df=3, vect__ngram_range=(1, 1);, score=0.451 total time=   0.3s\n",
      "[CV 1/5] END clf__C=0.1, vect__max_df=0.8, vect__min_df=1, vect__ngram_range=(1, 1);, score=0.514 total time=   0.3s\n",
      "[CV 3/5] END clf__C=0.1, vect__max_df=0.8, vect__min_df=1, vect__ngram_range=(1, 2);, score=0.493 total time=   0.7s\n",
      "[CV 1/5] END clf__C=0.1, vect__max_df=0.8, vect__min_df=2, vect__ngram_range=(1, 2);, score=0.507 total time=   0.5s\n",
      "[CV 3/5] END clf__C=0.1, vect__max_df=0.8, vect__min_df=3, vect__ngram_range=(1, 1);, score=0.507 total time=   0.5s\n",
      "[CV 1/5] END clf__C=0.1, vect__max_df=0.9, vect__min_df=1, vect__ngram_range=(1, 1);, score=0.514 total time=   0.2s\n",
      "[CV 3/5] END clf__C=0.1, vect__max_df=0.9, vect__min_df=1, vect__ngram_range=(1, 2);, score=0.493 total time=   0.7s\n",
      "[CV 1/5] END clf__C=0.1, vect__max_df=0.9, vect__min_df=2, vect__ngram_range=(1, 2);, score=0.507 total time=   0.5s\n",
      "[CV 3/5] END clf__C=0.1, vect__max_df=0.9, vect__min_df=3, vect__ngram_range=(1, 1);, score=0.507 total time=   0.4s\n",
      "[CV 1/5] END clf__C=0.1, vect__max_df=0.95, vect__min_df=1, vect__ngram_range=(1, 1);, score=0.514 total time=   0.3s\n",
      "[CV 2/5] END clf__C=0.1, vect__max_df=0.95, vect__min_df=1, vect__ngram_range=(1, 2);, score=0.501 total time=   0.7s\n",
      "[CV 5/5] END clf__C=0.1, vect__max_df=0.95, vect__min_df=2, vect__ngram_range=(1, 1);, score=0.481 total time=   0.6s\n",
      "[CV 5/5] END clf__C=0.1, vect__max_df=0.95, vect__min_df=3, vect__ngram_range=(1, 1);, score=0.478 total time=   0.5s\n",
      "[CV 3/5] END clf__C=0.1, vect__max_df=0.99, vect__min_df=1, vect__ngram_range=(1, 1);, score=0.512 total time=   0.3s\n",
      "[CV 5/5] END clf__C=0.1, vect__max_df=0.99, vect__min_df=1, vect__ngram_range=(1, 2);, score=0.464 total time=   0.7s\n",
      "[CV 5/5] END clf__C=0.1, vect__max_df=0.99, vect__min_df=2, vect__ngram_range=(1, 2);, score=0.463 total time=   0.5s\n",
      "[CV 3/5] END clf__C=0.1, vect__max_df=0.99, vect__min_df=3, vect__ngram_range=(1, 2);, score=0.491 total time=   0.6s\n",
      "[CV 5/5] END clf__C=1, vect__max_df=0.8, vect__min_df=1, vect__ngram_range=(1, 1);, score=0.475 total time=   0.4s\n",
      "[CV 3/5] END clf__C=1, vect__max_df=0.8, vect__min_df=2, vect__ngram_range=(1, 1);, score=0.491 total time=   1.1s\n",
      "[CV 4/5] END clf__C=1, vect__max_df=0.8, vect__min_df=2, vect__ngram_range=(1, 2);, score=0.473 total time=   0.6s\n",
      "[CV 3/5] END clf__C=1, vect__max_df=0.8, vect__min_df=3, vect__ngram_range=(1, 2);, score=0.471 total time=   0.6s\n",
      "[CV 3/5] END clf__C=1, vect__max_df=0.9, vect__min_df=1, vect__ngram_range=(1, 1);, score=0.497 total time=   0.4s\n",
      "[CV 1/5] END clf__C=1, vect__max_df=0.9, vect__min_df=2, vect__ngram_range=(1, 1);, score=0.489 total time=   1.1s\n",
      "[CV 5/5] END clf__C=1, vect__max_df=0.9, vect__min_df=2, vect__ngram_range=(1, 2);, score=0.468 total time=   0.6s\n",
      "[CV 2/5] END clf__C=1, vect__max_df=0.9, vect__min_df=3, vect__ngram_range=(1, 2);, score=0.476 total time=   0.6s\n",
      "[CV 2/5] END clf__C=1, vect__max_df=0.95, vect__min_df=1, vect__ngram_range=(1, 1);, score=0.501 total time=   0.4s\n",
      "[CV 4/5] END clf__C=1, vect__max_df=0.95, vect__min_df=1, vect__ngram_range=(1, 2);, score=0.488 total time=   0.9s\n",
      "[CV 1/5] END clf__C=1, vect__max_df=0.95, vect__min_df=2, vect__ngram_range=(1, 2);, score=0.489 total time=   0.7s\n",
      "[CV 4/5] END clf__C=1, vect__max_df=0.95, vect__min_df=3, vect__ngram_range=(1, 1);, score=0.474 total time=   0.8s\n",
      "[CV 5/5] END clf__C=1, vect__max_df=0.99, vect__min_df=1, vect__ngram_range=(1, 1);, score=0.475 total time=   0.4s\n",
      "[CV 2/5] END clf__C=1, vect__max_df=0.99, vect__min_df=2, vect__ngram_range=(1, 1);, score=0.493 total time=   1.1s\n",
      "[CV 5/5] END clf__C=1, vect__max_df=0.99, vect__min_df=2, vect__ngram_range=(1, 2);, score=0.468 total time=   0.6s\n",
      "[CV 3/5] END clf__C=1, vect__max_df=0.99, vect__min_df=3, vect__ngram_range=(1, 2);, score=0.471 total time=   0.5s\n",
      "[CV 1/5] END clf__C=0.01, vect__max_df=0.8, vect__min_df=1, vect__ngram_range=(1, 1);, score=0.463 total time=   0.2s\n",
      "[CV 5/5] END clf__C=0.01, vect__max_df=0.8, vect__min_df=1, vect__ngram_range=(1, 2);, score=0.416 total time=   0.7s\n",
      "[CV 1/5] END clf__C=0.01, vect__max_df=0.8, vect__min_df=3, vect__ngram_range=(1, 1);, score=0.459 total time=   0.4s\n",
      "[CV 1/5] END clf__C=0.01, vect__max_df=0.8, vect__min_df=3, vect__ngram_range=(1, 2);, score=0.456 total time=   0.4s\n",
      "[CV 4/5] END clf__C=0.01, vect__max_df=0.9, vect__min_df=1, vect__ngram_range=(1, 1);, score=0.448 total time=   0.3s\n",
      "[CV 3/5] END clf__C=0.01, vect__max_df=0.9, vect__min_df=2, vect__ngram_range=(1, 1);, score=0.451 total time=   0.4s\n",
      "[CV 2/5] END clf__C=0.01, vect__max_df=0.9, vect__min_df=2, vect__ngram_range=(1, 2);, score=0.447 total time=   0.5s\n",
      "[CV 5/5] END clf__C=0.01, vect__max_df=0.9, vect__min_df=3, vect__ngram_range=(1, 1);, score=0.435 total time=   0.4s\n",
      "[CV 3/5] END clf__C=0.01, vect__max_df=0.95, vect__min_df=1, vect__ngram_range=(1, 1);, score=0.452 total time=   0.2s\n",
      "[CV 5/5] END clf__C=0.01, vect__max_df=0.95, vect__min_df=1, vect__ngram_range=(1, 2);, score=0.416 total time=   0.7s\n",
      "[CV 5/5] END clf__C=0.01, vect__max_df=0.95, vect__min_df=2, vect__ngram_range=(1, 2);, score=0.423 total time=   0.5s\n",
      "[CV 3/5] END clf__C=0.01, vect__max_df=0.95, vect__min_df=3, vect__ngram_range=(1, 2);, score=0.453 total time=   0.5s\n",
      "[CV 2/5] END clf__C=0.01, vect__max_df=0.99, vect__min_df=1, vect__ngram_range=(1, 2);, score=0.429 total time=   0.7s\n",
      "[CV 3/5] END clf__C=0.01, vect__max_df=0.99, vect__min_df=2, vect__ngram_range=(1, 2);, score=0.445 total time=   0.5s\n",
      "[CV 1/5] END clf__C=0.01, vect__max_df=0.99, vect__min_df=3, vect__ngram_range=(1, 2);, score=0.456 total time=   0.4s\n",
      "[CV 4/5] END clf__C=0.1, vect__max_df=0.8, vect__min_df=1, vect__ngram_range=(1, 1);, score=0.501 total time=   0.2s\n",
      "[CV 1/5] END clf__C=0.1, vect__max_df=0.8, vect__min_df=2, vect__ngram_range=(1, 1);, score=0.510 total time=   0.6s\n",
      "[CV 5/5] END clf__C=0.1, vect__max_df=0.8, vect__min_df=2, vect__ngram_range=(1, 2);, score=0.463 total time=   0.5s\n",
      "[CV 2/5] END clf__C=0.1, vect__max_df=0.8, vect__min_df=3, vect__ngram_range=(1, 2);, score=0.502 total time=   0.5s\n",
      "[CV 5/5] END clf__C=0.1, vect__max_df=0.9, vect__min_df=1, vect__ngram_range=(1, 1);, score=0.481 total time=   0.2s\n",
      "[CV 1/5] END clf__C=0.1, vect__max_df=0.9, vect__min_df=2, vect__ngram_range=(1, 1);, score=0.510 total time=   0.6s\n",
      "[CV 2/5] END clf__C=0.1, vect__max_df=0.9, vect__min_df=2, vect__ngram_range=(1, 2);, score=0.503 total time=   0.5s\n",
      "[CV 4/5] END clf__C=0.1, vect__max_df=0.9, vect__min_df=3, vect__ngram_range=(1, 1);, score=0.487 total time=   0.5s\n",
      "[CV 2/5] END clf__C=0.1, vect__max_df=0.95, vect__min_df=1, vect__ngram_range=(1, 1);, score=0.513 total time=   0.3s\n",
      "[CV 5/5] END clf__C=0.1, vect__max_df=0.95, vect__min_df=1, vect__ngram_range=(1, 2);, score=0.464 total time=   0.7s\n",
      "[CV 4/5] END clf__C=0.1, vect__max_df=0.95, vect__min_df=2, vect__ngram_range=(1, 2);, score=0.487 total time=   0.6s\n",
      "[CV 1/5] END clf__C=0.1, vect__max_df=0.95, vect__min_df=3, vect__ngram_range=(1, 2);, score=0.507 total time=   0.6s\n",
      "[CV 1/5] END clf__C=0.1, vect__max_df=0.99, vect__min_df=1, vect__ngram_range=(1, 2);, score=0.499 total time=   0.7s\n",
      "[CV 4/5] END clf__C=0.1, vect__max_df=0.99, vect__min_df=2, vect__ngram_range=(1, 1);, score=0.499 total time=   0.6s\n",
      "[CV 2/5] END clf__C=0.1, vect__max_df=0.99, vect__min_df=3, vect__ngram_range=(1, 1);, score=0.509 total time=   0.6s\n",
      "[CV 1/5] END clf__C=1, vect__max_df=0.8, vect__min_df=1, vect__ngram_range=(1, 1);, score=0.501 total time=   0.4s\n",
      "[CV 3/5] END clf__C=1, vect__max_df=0.8, vect__min_df=1, vect__ngram_range=(1, 2);, score=0.495 total time=   0.8s\n",
      "[CV 1/5] END clf__C=1, vect__max_df=0.8, vect__min_df=2, vect__ngram_range=(1, 2);, score=0.489 total time=   0.5s\n",
      "[CV 2/5] END clf__C=1, vect__max_df=0.8, vect__min_df=3, vect__ngram_range=(1, 1);, score=0.490 total time=   0.8s\n",
      "[CV 5/5] END clf__C=1, vect__max_df=0.8, vect__min_df=3, vect__ngram_range=(1, 2);, score=0.463 total time=   0.6s\n",
      "[CV 4/5] END clf__C=1, vect__max_df=0.9, vect__min_df=1, vect__ngram_range=(1, 2);, score=0.488 total time=   0.9s\n",
      "[CV 2/5] END clf__C=1, vect__max_df=0.9, vect__min_df=2, vect__ngram_range=(1, 2);, score=0.478 total time=   0.6s\n",
      "[CV 3/5] END clf__C=1, vect__max_df=0.9, vect__min_df=3, vect__ngram_range=(1, 1);, score=0.487 total time=   0.8s\n",
      "[CV 5/5] END clf__C=1, vect__max_df=0.9, vect__min_df=3, vect__ngram_range=(1, 2);, score=0.463 total time=   0.5s\n",
      "[CV 3/5] END clf__C=1, vect__max_df=0.95, vect__min_df=2, vect__ngram_range=(1, 1);, score=0.491 total time=   1.1s\n",
      "[CV 1/5] END clf__C=1, vect__max_df=0.95, vect__min_df=3, vect__ngram_range=(1, 1);, score=0.478 total time=   0.8s\n",
      "[CV 4/5] END clf__C=1, vect__max_df=0.95, vect__min_df=3, vect__ngram_range=(1, 2);, score=0.467 total time=   0.6s\n",
      "[CV 2/5] END clf__C=1, vect__max_df=0.99, vect__min_df=1, vect__ngram_range=(1, 2);, score=0.506 total time=   0.9s\n",
      "[CV 5/5] END clf__C=1, vect__max_df=0.99, vect__min_df=2, vect__ngram_range=(1, 1);, score=0.463 total time=   1.1s\n",
      "[CV 2/5] END clf__C=1, vect__max_df=0.99, vect__min_df=3, vect__ngram_range=(1, 2);, score=0.476 total time=   0.6s\n",
      "[CV 2/5] END clf__C=0.01, vect__max_df=0.8, vect__min_df=1, vect__ngram_range=(1, 2);, score=0.429 total time=   0.7s\n",
      "[CV 4/5] END clf__C=0.01, vect__max_df=0.8, vect__min_df=2, vect__ngram_range=(1, 2);, score=0.444 total time=   0.5s\n",
      "[CV 3/5] END clf__C=0.01, vect__max_df=0.8, vect__min_df=3, vect__ngram_range=(1, 2);, score=0.453 total time=   0.4s\n",
      "[CV 1/5] END clf__C=0.01, vect__max_df=0.9, vect__min_df=1, vect__ngram_range=(1, 2);, score=0.440 total time=   0.7s\n",
      "[CV 3/5] END clf__C=0.01, vect__max_df=0.9, vect__min_df=2, vect__ngram_range=(1, 2);, score=0.445 total time=   0.5s\n",
      "[CV 3/5] END clf__C=0.01, vect__max_df=0.9, vect__min_df=3, vect__ngram_range=(1, 2);, score=0.453 total time=   0.4s\n",
      "[CV 5/5] END clf__C=0.01, vect__max_df=0.95, vect__min_df=1, vect__ngram_range=(1, 1);, score=0.435 total time=   0.2s\n",
      "[CV 3/5] END clf__C=0.01, vect__max_df=0.95, vect__min_df=2, vect__ngram_range=(1, 1);, score=0.451 total time=   0.3s\n",
      "[CV 4/5] END clf__C=0.01, vect__max_df=0.95, vect__min_df=2, vect__ngram_range=(1, 1);, score=0.453 total time=   0.4s\n",
      "[CV 2/5] END clf__C=0.01, vect__max_df=0.95, vect__min_df=3, vect__ngram_range=(1, 1);, score=0.453 total time=   0.4s\n",
      "[CV 5/5] END clf__C=0.01, vect__max_df=0.95, vect__min_df=3, vect__ngram_range=(1, 2);, score=0.424 total time=   0.4s\n",
      "[CV 1/5] END clf__C=0.01, vect__max_df=0.99, vect__min_df=2, vect__ngram_range=(1, 1);, score=0.458 total time=   0.4s\n",
      "[CV 4/5] END clf__C=0.01, vect__max_df=0.99, vect__min_df=2, vect__ngram_range=(1, 1);, score=0.453 total time=   0.3s\n",
      "[CV 2/5] END clf__C=0.01, vect__max_df=0.99, vect__min_df=3, vect__ngram_range=(1, 1);, score=0.453 total time=   0.3s\n",
      "[CV 3/5] END clf__C=0.01, vect__max_df=0.99, vect__min_df=3, vect__ngram_range=(1, 2);, score=0.453 total time=   0.4s\n",
      "[CV 1/5] END clf__C=0.1, vect__max_df=0.8, vect__min_df=1, vect__ngram_range=(1, 2);, score=0.499 total time=   0.7s\n",
      "[CV 4/5] END clf__C=0.1, vect__max_df=0.8, vect__min_df=2, vect__ngram_range=(1, 1);, score=0.499 total time=   0.6s\n",
      "[CV 4/5] END clf__C=0.1, vect__max_df=0.8, vect__min_df=3, vect__ngram_range=(1, 1);, score=0.487 total time=   0.5s\n",
      "[CV 3/5] END clf__C=0.1, vect__max_df=0.9, vect__min_df=1, vect__ngram_range=(1, 1);, score=0.512 total time=   0.3s\n",
      "[CV 5/5] END clf__C=0.1, vect__max_df=0.9, vect__min_df=1, vect__ngram_range=(1, 2);, score=0.464 total time=   0.7s\n",
      "[CV 3/5] END clf__C=0.1, vect__max_df=0.9, vect__min_df=2, vect__ngram_range=(1, 2);, score=0.490 total time=   0.5s\n",
      "[CV 2/5] END clf__C=0.1, vect__max_df=0.9, vect__min_df=3, vect__ngram_range=(1, 2);, score=0.502 total time=   0.5s\n",
      "[CV 3/5] END clf__C=0.1, vect__max_df=0.95, vect__min_df=1, vect__ngram_range=(1, 1);, score=0.512 total time=   0.3s\n",
      "[CV 1/5] END clf__C=0.1, vect__max_df=0.95, vect__min_df=2, vect__ngram_range=(1, 1);, score=0.510 total time=   0.6s\n",
      "[CV 1/5] END clf__C=0.1, vect__max_df=0.95, vect__min_df=2, vect__ngram_range=(1, 2);, score=0.507 total time=   0.6s\n",
      "[CV 2/5] END clf__C=0.1, vect__max_df=0.95, vect__min_df=3, vect__ngram_range=(1, 1);, score=0.509 total time=   0.5s\n",
      "[CV 1/5] END clf__C=0.1, vect__max_df=0.99, vect__min_df=1, vect__ngram_range=(1, 1);, score=0.514 total time=   0.3s\n",
      "[CV 4/5] END clf__C=0.1, vect__max_df=0.99, vect__min_df=1, vect__ngram_range=(1, 2);, score=0.492 total time=   0.7s\n",
      "[CV 1/5] END clf__C=0.1, vect__max_df=0.99, vect__min_df=2, vect__ngram_range=(1, 2);, score=0.507 total time=   0.5s\n",
      "[CV 3/5] END clf__C=0.1, vect__max_df=0.99, vect__min_df=3, vect__ngram_range=(1, 1);, score=0.507 total time=   0.6s\n",
      "[CV 2/5] END clf__C=1, vect__max_df=0.8, vect__min_df=1, vect__ngram_range=(1, 1);, score=0.501 total time=   0.3s\n",
      "[CV 5/5] END clf__C=1, vect__max_df=0.8, vect__min_df=1, vect__ngram_range=(1, 2);, score=0.479 total time=   0.9s\n",
      "[CV 2/5] END clf__C=1, vect__max_df=0.8, vect__min_df=2, vect__ngram_range=(1, 2);, score=0.478 total time=   0.6s\n",
      "[CV 3/5] END clf__C=1, vect__max_df=0.8, vect__min_df=3, vect__ngram_range=(1, 1);, score=0.487 total time=   0.8s\n",
      "[CV 4/5] END clf__C=1, vect__max_df=0.9, vect__min_df=1, vect__ngram_range=(1, 1);, score=0.483 total time=   0.3s\n",
      "[CV 5/5] END clf__C=1, vect__max_df=0.9, vect__min_df=1, vect__ngram_range=(1, 2);, score=0.479 total time=   0.9s\n",
      "[CV 3/5] END clf__C=1, vect__max_df=0.9, vect__min_df=2, vect__ngram_range=(1, 2);, score=0.485 total time=   0.6s\n",
      "[CV 4/5] END clf__C=1, vect__max_df=0.9, vect__min_df=3, vect__ngram_range=(1, 1);, score=0.474 total time=   0.8s\n",
      "[CV 4/5] END clf__C=1, vect__max_df=0.95, vect__min_df=1, vect__ngram_range=(1, 1);, score=0.483 total time=   0.3s\n",
      "[CV 5/5] END clf__C=1, vect__max_df=0.95, vect__min_df=1, vect__ngram_range=(1, 2);, score=0.479 total time=   0.9s\n",
      "[CV 3/5] END clf__C=1, vect__max_df=0.95, vect__min_df=2, vect__ngram_range=(1, 2);, score=0.485 total time=   0.6s\n",
      "[CV 3/5] END clf__C=1, vect__max_df=0.95, vect__min_df=3, vect__ngram_range=(1, 1);, score=0.487 total time=   0.8s\n",
      "[CV 2/5] END clf__C=1, vect__max_df=0.99, vect__min_df=1, vect__ngram_range=(1, 1);, score=0.501 total time=   0.3s\n",
      "[CV 4/5] END clf__C=1, vect__max_df=0.99, vect__min_df=1, vect__ngram_range=(1, 2);, score=0.488 total time=   0.9s\n",
      "[CV 2/5] END clf__C=1, vect__max_df=0.99, vect__min_df=2, vect__ngram_range=(1, 2);, score=0.478 total time=   0.6s\n",
      "[CV 3/5] END clf__C=1, vect__max_df=0.99, vect__min_df=3, vect__ngram_range=(1, 1);, score=0.487 total time=   0.8s\n",
      "[CV 1/5] END clf__C=0.01, vect__max_df=0.8, vect__min_df=1, vect__ngram_range=(1, 2);, score=0.440 total time=   0.7s\n",
      "[CV 1/5] END clf__C=0.01, vect__max_df=0.8, vect__min_df=2, vect__ngram_range=(1, 2);, score=0.451 total time=   0.5s\n",
      "[CV 4/5] END clf__C=0.01, vect__max_df=0.8, vect__min_df=3, vect__ngram_range=(1, 1);, score=0.454 total time=   0.3s\n",
      "[CV 2/5] END clf__C=0.01, vect__max_df=0.9, vect__min_df=1, vect__ngram_range=(1, 1);, score=0.451 total time=   0.2s\n",
      "[CV 4/5] END clf__C=0.01, vect__max_df=0.9, vect__min_df=1, vect__ngram_range=(1, 2);, score=0.430 total time=   0.6s\n",
      "[CV 1/5] END clf__C=0.01, vect__max_df=0.9, vect__min_df=2, vect__ngram_range=(1, 2);, score=0.451 total time=   0.6s\n",
      "[CV 4/5] END clf__C=0.01, vect__max_df=0.9, vect__min_df=3, vect__ngram_range=(1, 2);, score=0.444 total time=   0.5s\n",
      "[CV 2/5] END clf__C=0.01, vect__max_df=0.95, vect__min_df=1, vect__ngram_range=(1, 2);, score=0.429 total time=   0.7s\n",
      "[CV 4/5] END clf__C=0.01, vect__max_df=0.95, vect__min_df=2, vect__ngram_range=(1, 2);, score=0.444 total time=   0.6s\n",
      "[CV 4/5] END clf__C=0.01, vect__max_df=0.95, vect__min_df=3, vect__ngram_range=(1, 2);, score=0.444 total time=   0.4s\n",
      "[CV 3/5] END clf__C=0.01, vect__max_df=0.99, vect__min_df=1, vect__ngram_range=(1, 2);, score=0.430 total time=   0.7s\n",
      "[CV 4/5] END clf__C=0.01, vect__max_df=0.99, vect__min_df=2, vect__ngram_range=(1, 2);, score=0.444 total time=   0.5s\n",
      "[CV 4/5] END clf__C=0.01, vect__max_df=0.99, vect__min_df=3, vect__ngram_range=(1, 2);, score=0.444 total time=   0.4s\n",
      "[CV 2/5] END clf__C=0.1, vect__max_df=0.8, vect__min_df=1, vect__ngram_range=(1, 2);, score=0.501 total time=   0.7s\n",
      "[CV 5/5] END clf__C=0.1, vect__max_df=0.8, vect__min_df=2, vect__ngram_range=(1, 1);, score=0.481 total time=   0.6s\n",
      "[CV 1/5] END clf__C=0.1, vect__max_df=0.8, vect__min_df=3, vect__ngram_range=(1, 2);, score=0.507 total time=   0.5s\n",
      "[CV 4/5] END clf__C=0.1, vect__max_df=0.9, vect__min_df=1, vect__ngram_range=(1, 1);, score=0.501 total time=   0.3s\n",
      "[CV 2/5] END clf__C=0.1, vect__max_df=0.9, vect__min_df=2, vect__ngram_range=(1, 1);, score=0.513 total time=   0.7s\n",
      "[CV 1/5] END clf__C=0.1, vect__max_df=0.9, vect__min_df=3, vect__ngram_range=(1, 1);, score=0.501 total time=   0.5s\n",
      "[CV 4/5] END clf__C=0.1, vect__max_df=0.9, vect__min_df=3, vect__ngram_range=(1, 2);, score=0.485 total time=   0.5s\n",
      "[CV 4/5] END clf__C=0.1, vect__max_df=0.95, vect__min_df=1, vect__ngram_range=(1, 1);, score=0.501 total time=   0.3s\n",
      "[CV 2/5] END clf__C=0.1, vect__max_df=0.95, vect__min_df=2, vect__ngram_range=(1, 1);, score=0.513 total time=   0.6s\n",
      "[CV 3/5] END clf__C=0.1, vect__max_df=0.95, vect__min_df=2, vect__ngram_range=(1, 2);, score=0.490 total time=   0.6s\n",
      "[CV 2/5] END clf__C=0.1, vect__max_df=0.95, vect__min_df=3, vect__ngram_range=(1, 2);, score=0.502 total time=   0.5s\n",
      "[CV 4/5] END clf__C=0.1, vect__max_df=0.99, vect__min_df=1, vect__ngram_range=(1, 1);, score=0.501 total time=   0.3s\n",
      "[CV 1/5] END clf__C=0.1, vect__max_df=0.99, vect__min_df=2, vect__ngram_range=(1, 1);, score=0.510 total time=   0.6s\n",
      "[CV 2/5] END clf__C=0.1, vect__max_df=0.99, vect__min_df=2, vect__ngram_range=(1, 2);, score=0.503 total time=   0.5s\n",
      "[CV 1/5] END clf__C=0.1, vect__max_df=0.99, vect__min_df=3, vect__ngram_range=(1, 2);, score=0.507 total time=   0.6s\n",
      "[CV 3/5] END clf__C=1, vect__max_df=0.8, vect__min_df=1, vect__ngram_range=(1, 1);, score=0.497 total time=   0.4s\n",
      "[CV 2/5] END clf__C=1, vect__max_df=0.8, vect__min_df=2, vect__ngram_range=(1, 1);, score=0.493 total time=   1.1s\n",
      "[CV 1/5] END clf__C=1, vect__max_df=0.8, vect__min_df=3, vect__ngram_range=(1, 1);, score=0.478 total time=   0.9s\n",
      "[CV 4/5] END clf__C=1, vect__max_df=0.8, vect__min_df=3, vect__ngram_range=(1, 2);, score=0.467 total time=   0.6s\n",
      "[CV 2/5] END clf__C=1, vect__max_df=0.9, vect__min_df=1, vect__ngram_range=(1, 2);, score=0.506 total time=   0.9s\n",
      "[CV 1/5] END clf__C=1, vect__max_df=0.9, vect__min_df=2, vect__ngram_range=(1, 2);, score=0.489 total time=   0.6s\n",
      "[CV 2/5] END clf__C=1, vect__max_df=0.9, vect__min_df=3, vect__ngram_range=(1, 1);, score=0.490 total time=   0.9s\n",
      "[CV 1/5] END clf__C=1, vect__max_df=0.95, vect__min_df=1, vect__ngram_range=(1, 1);, score=0.501 total time=   0.4s\n",
      "[CV 3/5] END clf__C=1, vect__max_df=0.95, vect__min_df=1, vect__ngram_range=(1, 2);, score=0.495 total time=   0.9s\n",
      "[CV 2/5] END clf__C=1, vect__max_df=0.95, vect__min_df=2, vect__ngram_range=(1, 2);, score=0.478 total time=   0.6s\n",
      "[CV 2/5] END clf__C=1, vect__max_df=0.95, vect__min_df=3, vect__ngram_range=(1, 1);, score=0.490 total time=   0.9s\n",
      "[CV 3/5] END clf__C=1, vect__max_df=0.99, vect__min_df=1, vect__ngram_range=(1, 1);, score=0.497 total time=   0.4s\n",
      "[CV 5/5] END clf__C=1, vect__max_df=0.99, vect__min_df=1, vect__ngram_range=(1, 2);, score=0.479 total time=   0.9s\n",
      "[CV 3/5] END clf__C=1, vect__max_df=0.99, vect__min_df=2, vect__ngram_range=(1, 2);, score=0.485 total time=   0.7s\n",
      "[CV 4/5] END clf__C=1, vect__max_df=0.99, vect__min_df=3, vect__ngram_range=(1, 1);, score=0.474 total time=   0.8s\n",
      "[CV 2/5] END clf__C=0.01, vect__max_df=0.8, vect__min_df=1, vect__ngram_range=(1, 1);, score=0.451 total time=   0.2s\n",
      "[CV 4/5] END clf__C=0.01, vect__max_df=0.8, vect__min_df=1, vect__ngram_range=(1, 2);, score=0.430 total time=   0.7s\n",
      "[CV 5/5] END clf__C=0.01, vect__max_df=0.8, vect__min_df=2, vect__ngram_range=(1, 2);, score=0.423 total time=   0.5s\n",
      "[CV 4/5] END clf__C=0.01, vect__max_df=0.8, vect__min_df=3, vect__ngram_range=(1, 2);, score=0.444 total time=   0.4s\n",
      "[CV 3/5] END clf__C=0.01, vect__max_df=0.9, vect__min_df=1, vect__ngram_range=(1, 2);, score=0.430 total time=   0.7s\n",
      "[CV 4/5] END clf__C=0.01, vect__max_df=0.9, vect__min_df=2, vect__ngram_range=(1, 2);, score=0.444 total time=   0.5s\n",
      "[CV 1/5] END clf__C=0.01, vect__max_df=0.9, vect__min_df=3, vect__ngram_range=(1, 2);, score=0.456 total time=   0.5s\n",
      "[CV 4/5] END clf__C=0.01, vect__max_df=0.95, vect__min_df=1, vect__ngram_range=(1, 1);, score=0.448 total time=   0.2s\n",
      "[CV 2/5] END clf__C=0.01, vect__max_df=0.95, vect__min_df=2, vect__ngram_range=(1, 1);, score=0.452 total time=   0.4s\n",
      "[CV 1/5] END clf__C=0.01, vect__max_df=0.95, vect__min_df=2, vect__ngram_range=(1, 2);, score=0.451 total time=   0.5s\n",
      "[CV 4/5] END clf__C=0.01, vect__max_df=0.95, vect__min_df=3, vect__ngram_range=(1, 1);, score=0.454 total time=   0.4s\n",
      "[CV 2/5] END clf__C=0.01, vect__max_df=0.99, vect__min_df=1, vect__ngram_range=(1, 1);, score=0.451 total time=   0.2s\n",
      "[CV 4/5] END clf__C=0.01, vect__max_df=0.99, vect__min_df=1, vect__ngram_range=(1, 2);, score=0.430 total time=   0.7s\n",
      "[CV 5/5] END clf__C=0.01, vect__max_df=0.99, vect__min_df=2, vect__ngram_range=(1, 2);, score=0.423 total time=   0.5s\n",
      "[CV 5/5] END clf__C=0.01, vect__max_df=0.99, vect__min_df=3, vect__ngram_range=(1, 2);, score=0.424 total time=   0.4s\n",
      "[CV 4/5] END clf__C=0.1, vect__max_df=0.8, vect__min_df=1, vect__ngram_range=(1, 2);, score=0.492 total time=   0.7s\n",
      "[CV 3/5] END clf__C=0.1, vect__max_df=0.8, vect__min_df=2, vect__ngram_range=(1, 2);, score=0.490 total time=   0.7s\n",
      "[CV 3/5] END clf__C=0.1, vect__max_df=0.8, vect__min_df=3, vect__ngram_range=(1, 2);, score=0.491 total time=   0.5s\n",
      "[CV 1/5] END clf__C=0.1, vect__max_df=0.9, vect__min_df=1, vect__ngram_range=(1, 2);, score=0.499 total time=   0.5s\n",
      "[CV 4/5] END clf__C=0.1, vect__max_df=0.9, vect__min_df=2, vect__ngram_range=(1, 1);, score=0.499 total time=   0.6s\n",
      "[CV 2/5] END clf__C=0.1, vect__max_df=0.9, vect__min_df=3, vect__ngram_range=(1, 1);, score=0.509 total time=   0.5s\n",
      "[CV 5/5] END clf__C=0.1, vect__max_df=0.9, vect__min_df=3, vect__ngram_range=(1, 2);, score=0.461 total time=   0.5s\n",
      "[CV 4/5] END clf__C=0.1, vect__max_df=0.95, vect__min_df=1, vect__ngram_range=(1, 2);, score=0.492 total time=   0.7s\n",
      "[CV 5/5] END clf__C=0.1, vect__max_df=0.95, vect__min_df=2, vect__ngram_range=(1, 2);, score=0.463 total time=   0.6s\n",
      "[CV 3/5] END clf__C=0.1, vect__max_df=0.95, vect__min_df=3, vect__ngram_range=(1, 2);, score=0.491 total time=   0.5s\n",
      "[CV 5/5] END clf__C=0.1, vect__max_df=0.99, vect__min_df=1, vect__ngram_range=(1, 1);, score=0.481 total time=   0.3s\n",
      "[CV 2/5] END clf__C=0.1, vect__max_df=0.99, vect__min_df=2, vect__ngram_range=(1, 1);, score=0.513 total time=   0.6s\n",
      "[CV 4/5] END clf__C=0.1, vect__max_df=0.99, vect__min_df=2, vect__ngram_range=(1, 2);, score=0.487 total time=   0.5s\n",
      "[CV 5/5] END clf__C=0.1, vect__max_df=0.99, vect__min_df=3, vect__ngram_range=(1, 1);, score=0.478 total time=   0.6s\n",
      "[CV 4/5] END clf__C=1, vect__max_df=0.8, vect__min_df=1, vect__ngram_range=(1, 1);, score=0.483 total time=   0.3s\n",
      "[CV 4/5] END clf__C=1, vect__max_df=0.8, vect__min_df=1, vect__ngram_range=(1, 2);, score=0.488 total time=   1.0s\n",
      "[CV 3/5] END clf__C=1, vect__max_df=0.8, vect__min_df=2, vect__ngram_range=(1, 2);, score=0.485 total time=   0.7s\n",
      "[CV 5/5] END clf__C=1, vect__max_df=0.8, vect__min_df=3, vect__ngram_range=(1, 1);, score=0.466 total time=   0.9s\n",
      "[CV 1/5] END clf__C=1, vect__max_df=0.9, vect__min_df=1, vect__ngram_range=(1, 2);, score=0.512 total time=   0.9s\n",
      "[CV 5/5] END clf__C=1, vect__max_df=0.9, vect__min_df=2, vect__ngram_range=(1, 1);, score=0.463 total time=   1.1s\n",
      "[CV 3/5] END clf__C=1, vect__max_df=0.9, vect__min_df=3, vect__ngram_range=(1, 2);, score=0.471 total time=   0.6s\n",
      "[CV 5/5] END clf__C=1, vect__max_df=0.95, vect__min_df=1, vect__ngram_range=(1, 1);, score=0.475 total time=   0.3s\n",
      "[CV 2/5] END clf__C=1, vect__max_df=0.95, vect__min_df=2, vect__ngram_range=(1, 1);, score=0.493 total time=   1.1s\n",
      "[CV 4/5] END clf__C=1, vect__max_df=0.95, vect__min_df=2, vect__ngram_range=(1, 2);, score=0.473 total time=   0.6s\n",
      "[CV 5/5] END clf__C=1, vect__max_df=0.95, vect__min_df=3, vect__ngram_range=(1, 1);, score=0.466 total time=   0.8s\n",
      "[CV 1/5] END clf__C=1, vect__max_df=0.99, vect__min_df=1, vect__ngram_range=(1, 2);, score=0.512 total time=   0.8s\n",
      "[CV 4/5] END clf__C=1, vect__max_df=0.99, vect__min_df=2, vect__ngram_range=(1, 1);, score=0.475 total time=   1.0s\n",
      "[CV 5/5] END clf__C=1, vect__max_df=0.99, vect__min_df=3, vect__ngram_range=(1, 1);, score=0.466 total time=   0.8s\n",
      "[CV 3/5] END clf__C=0.01, vect__max_df=0.8, vect__min_df=1, vect__ngram_range=(1, 2);, score=0.430 total time=   0.7s\n",
      "[CV 3/5] END clf__C=0.01, vect__max_df=0.8, vect__min_df=2, vect__ngram_range=(1, 2);, score=0.445 total time=   0.5s\n",
      "[CV 2/5] END clf__C=0.01, vect__max_df=0.8, vect__min_df=3, vect__ngram_range=(1, 2);, score=0.448 total time=   0.4s\n",
      "[CV 5/5] END clf__C=0.01, vect__max_df=0.9, vect__min_df=1, vect__ngram_range=(1, 1);, score=0.435 total time=   0.2s\n",
      "[CV 2/5] END clf__C=0.01, vect__max_df=0.9, vect__min_df=2, vect__ngram_range=(1, 1);, score=0.452 total time=   0.4s\n",
      "[CV 4/5] END clf__C=0.01, vect__max_df=0.9, vect__min_df=2, vect__ngram_range=(1, 1);, score=0.453 total time=   0.4s\n",
      "[CV 2/5] END clf__C=0.01, vect__max_df=0.9, vect__min_df=3, vect__ngram_range=(1, 1);, score=0.453 total time=   0.4s\n",
      "[CV 5/5] END clf__C=0.01, vect__max_df=0.9, vect__min_df=3, vect__ngram_range=(1, 2);, score=0.424 total time=   0.5s\n",
      "[CV 1/5] END clf__C=0.01, vect__max_df=0.95, vect__min_df=2, vect__ngram_range=(1, 1);, score=0.458 total time=   0.5s\n",
      "[CV 5/5] END clf__C=0.01, vect__max_df=0.95, vect__min_df=2, vect__ngram_range=(1, 1);, score=0.438 total time=   0.4s\n",
      "[CV 3/5] END clf__C=0.01, vect__max_df=0.95, vect__min_df=3, vect__ngram_range=(1, 1);, score=0.451 total time=   0.4s\n",
      "[CV 1/5] END clf__C=0.01, vect__max_df=0.99, vect__min_df=1, vect__ngram_range=(1, 1);, score=0.463 total time=   0.2s\n",
      "[CV 4/5] END clf__C=0.01, vect__max_df=0.99, vect__min_df=1, vect__ngram_range=(1, 1);, score=0.448 total time=   0.2s\n",
      "[CV 2/5] END clf__C=0.01, vect__max_df=0.99, vect__min_df=2, vect__ngram_range=(1, 1);, score=0.452 total time=   0.5s\n",
      "[CV 2/5] END clf__C=0.01, vect__max_df=0.99, vect__min_df=2, vect__ngram_range=(1, 2);, score=0.447 total time=   0.4s\n",
      "[CV 5/5] END clf__C=0.01, vect__max_df=0.99, vect__min_df=3, vect__ngram_range=(1, 1);, score=0.435 total time=   0.4s\n",
      "[CV 3/5] END clf__C=0.1, vect__max_df=0.8, vect__min_df=1, vect__ngram_range=(1, 1);, score=0.512 total time=   0.2s\n",
      "[CV 5/5] END clf__C=0.1, vect__max_df=0.8, vect__min_df=1, vect__ngram_range=(1, 2);, score=0.464 total time=   0.7s\n",
      "[CV 4/5] END clf__C=0.1, vect__max_df=0.8, vect__min_df=2, vect__ngram_range=(1, 2);, score=0.487 total time=   0.5s\n",
      "[CV 5/5] END clf__C=0.1, vect__max_df=0.8, vect__min_df=3, vect__ngram_range=(1, 1);, score=0.478 total time=   0.5s\n",
      "[CV 2/5] END clf__C=0.1, vect__max_df=0.9, vect__min_df=1, vect__ngram_range=(1, 1);, score=0.513 total time=   0.2s\n",
      "[CV 4/5] END clf__C=0.1, vect__max_df=0.9, vect__min_df=1, vect__ngram_range=(1, 2);, score=0.492 total time=   0.7s\n",
      "[CV 4/5] END clf__C=0.1, vect__max_df=0.9, vect__min_df=2, vect__ngram_range=(1, 2);, score=0.487 total time=   0.5s\n",
      "[CV 5/5] END clf__C=0.1, vect__max_df=0.9, vect__min_df=3, vect__ngram_range=(1, 1);, score=0.478 total time=   0.5s\n",
      "[CV 1/5] END clf__C=0.1, vect__max_df=0.95, vect__min_df=1, vect__ngram_range=(1, 2);, score=0.499 total time=   0.7s\n",
      "[CV 4/5] END clf__C=0.1, vect__max_df=0.95, vect__min_df=2, vect__ngram_range=(1, 1);, score=0.499 total time=   0.7s\n",
      "[CV 3/5] END clf__C=0.1, vect__max_df=0.95, vect__min_df=3, vect__ngram_range=(1, 1);, score=0.507 total time=   0.5s\n",
      "[CV 2/5] END clf__C=0.1, vect__max_df=0.99, vect__min_df=1, vect__ngram_range=(1, 1);, score=0.513 total time=   0.3s\n",
      "[CV 3/5] END clf__C=0.1, vect__max_df=0.99, vect__min_df=1, vect__ngram_range=(1, 2);, score=0.493 total time=   0.7s\n",
      "[CV 3/5] END clf__C=0.1, vect__max_df=0.99, vect__min_df=2, vect__ngram_range=(1, 2);, score=0.490 total time=   0.5s\n",
      "[CV 4/5] END clf__C=0.1, vect__max_df=0.99, vect__min_df=3, vect__ngram_range=(1, 1);, score=0.487 total time=   0.7s\n",
      "[CV 1/5] END clf__C=1, vect__max_df=0.8, vect__min_df=1, vect__ngram_range=(1, 2);, score=0.512 total time=   0.9s\n",
      "[CV 4/5] END clf__C=1, vect__max_df=0.8, vect__min_df=2, vect__ngram_range=(1, 1);, score=0.475 total time=   1.0s\n",
      "[CV 4/5] END clf__C=1, vect__max_df=0.8, vect__min_df=3, vect__ngram_range=(1, 1);, score=0.474 total time=   0.8s\n",
      "[CV 5/5] END clf__C=1, vect__max_df=0.9, vect__min_df=1, vect__ngram_range=(1, 1);, score=0.475 total time=   0.4s\n",
      "[CV 3/5] END clf__C=1, vect__max_df=0.9, vect__min_df=2, vect__ngram_range=(1, 1);, score=0.491 total time=   1.1s\n",
      "[CV 1/5] END clf__C=1, vect__max_df=0.9, vect__min_df=3, vect__ngram_range=(1, 1);, score=0.478 total time=   0.9s\n",
      "[CV 4/5] END clf__C=1, vect__max_df=0.9, vect__min_df=3, vect__ngram_range=(1, 2);, score=0.467 total time=   0.6s\n",
      "[CV 1/5] END clf__C=1, vect__max_df=0.95, vect__min_df=1, vect__ngram_range=(1, 2);, score=0.512 total time=   0.9s\n",
      "[CV 4/5] END clf__C=1, vect__max_df=0.95, vect__min_df=2, vect__ngram_range=(1, 1);, score=0.475 total time=   1.0s\n",
      "[CV 1/5] END clf__C=1, vect__max_df=0.95, vect__min_df=3, vect__ngram_range=(1, 2);, score=0.484 total time=   0.6s\n",
      "[CV 5/5] END clf__C=1, vect__max_df=0.95, vect__min_df=3, vect__ngram_range=(1, 2);, score=0.463 total time=   0.6s\n",
      "[CV 3/5] END clf__C=1, vect__max_df=0.99, vect__min_df=2, vect__ngram_range=(1, 1);, score=0.491 total time=   1.2s\n",
      "[CV 1/5] END clf__C=1, vect__max_df=0.99, vect__min_df=3, vect__ngram_range=(1, 1);, score=0.478 total time=   0.8s\n",
      "[CV 4/5] END clf__C=1, vect__max_df=0.99, vect__min_df=3, vect__ngram_range=(1, 2);, score=0.467 total time=   0.4s\n",
      "[CV 3/5] END clf__C=0.01, vect__max_df=0.8, vect__min_df=1, vect__ngram_range=(1, 1);, score=0.452 total time=   0.2s\n",
      "[CV 2/5] END clf__C=0.01, vect__max_df=0.8, vect__min_df=2, vect__ngram_range=(1, 1);, score=0.452 total time=   0.4s\n",
      "[CV 5/5] END clf__C=0.01, vect__max_df=0.8, vect__min_df=2, vect__ngram_range=(1, 1);, score=0.438 total time=   0.4s\n",
      "[CV 3/5] END clf__C=0.01, vect__max_df=0.8, vect__min_df=3, vect__ngram_range=(1, 1);, score=0.451 total time=   0.4s\n",
      "[CV 1/5] END clf__C=0.01, vect__max_df=0.9, vect__min_df=1, vect__ngram_range=(1, 1);, score=0.463 total time=   0.2s\n",
      "[CV 2/5] END clf__C=0.01, vect__max_df=0.9, vect__min_df=1, vect__ngram_range=(1, 2);, score=0.429 total time=   0.7s\n",
      "[CV 5/5] END clf__C=0.01, vect__max_df=0.9, vect__min_df=2, vect__ngram_range=(1, 2);, score=0.423 total time=   0.5s\n",
      "[CV 2/5] END clf__C=0.01, vect__max_df=0.9, vect__min_df=3, vect__ngram_range=(1, 2);, score=0.448 total time=   0.5s\n",
      "[CV 1/5] END clf__C=0.01, vect__max_df=0.95, vect__min_df=1, vect__ngram_range=(1, 2);, score=0.440 total time=   0.7s\n",
      "[CV 2/5] END clf__C=0.01, vect__max_df=0.95, vect__min_df=2, vect__ngram_range=(1, 2);, score=0.447 total time=   0.5s\n",
      "[CV 5/5] END clf__C=0.01, vect__max_df=0.95, vect__min_df=3, vect__ngram_range=(1, 1);, score=0.435 total time=   0.4s\n",
      "[CV 3/5] END clf__C=0.01, vect__max_df=0.99, vect__min_df=1, vect__ngram_range=(1, 1);, score=0.452 total time=   0.2s\n",
      "[CV 5/5] END clf__C=0.01, vect__max_df=0.99, vect__min_df=1, vect__ngram_range=(1, 2);, score=0.416 total time=   0.8s\n",
      "[CV 1/5] END clf__C=0.01, vect__max_df=0.99, vect__min_df=3, vect__ngram_range=(1, 1);, score=0.459 total time=   0.4s\n",
      "[CV 2/5] END clf__C=0.01, vect__max_df=0.99, vect__min_df=3, vect__ngram_range=(1, 2);, score=0.448 total time=   0.5s\n",
      "[CV 5/5] END clf__C=0.1, vect__max_df=0.8, vect__min_df=1, vect__ngram_range=(1, 1);, score=0.481 total time=   0.3s\n",
      "[CV 3/5] END clf__C=0.1, vect__max_df=0.8, vect__min_df=2, vect__ngram_range=(1, 1);, score=0.510 total time=   0.7s\n",
      "[CV 1/5] END clf__C=0.1, vect__max_df=0.8, vect__min_df=3, vect__ngram_range=(1, 1);, score=0.501 total time=   0.5s\n",
      "[CV 4/5] END clf__C=0.1, vect__max_df=0.8, vect__min_df=3, vect__ngram_range=(1, 2);, score=0.485 total time=   0.5s\n",
      "[CV 2/5] END clf__C=0.1, vect__max_df=0.9, vect__min_df=1, vect__ngram_range=(1, 2);, score=0.501 total time=   0.7s\n",
      "[CV 5/5] END clf__C=0.1, vect__max_df=0.9, vect__min_df=2, vect__ngram_range=(1, 1);, score=0.481 total time=   0.7s\n",
      "[CV 3/5] END clf__C=0.1, vect__max_df=0.9, vect__min_df=3, vect__ngram_range=(1, 2);, score=0.491 total time=   0.5s\n",
      "[CV 5/5] END clf__C=0.1, vect__max_df=0.95, vect__min_df=1, vect__ngram_range=(1, 1);, score=0.481 total time=   0.3s\n",
      "[CV 3/5] END clf__C=0.1, vect__max_df=0.95, vect__min_df=2, vect__ngram_range=(1, 1);, score=0.510 total time=   0.7s\n",
      "[CV 1/5] END clf__C=0.1, vect__max_df=0.95, vect__min_df=3, vect__ngram_range=(1, 1);, score=0.501 total time=   0.6s\n",
      "[CV 4/5] END clf__C=0.1, vect__max_df=0.95, vect__min_df=3, vect__ngram_range=(1, 2);, score=0.485 total time=   0.5s\n",
      "[CV 2/5] END clf__C=0.1, vect__max_df=0.99, vect__min_df=1, vect__ngram_range=(1, 2);, score=0.501 total time=   0.7s\n",
      "[CV 5/5] END clf__C=0.1, vect__max_df=0.99, vect__min_df=2, vect__ngram_range=(1, 1);, score=0.481 total time=   0.6s\n",
      "[CV 4/5] END clf__C=0.1, vect__max_df=0.99, vect__min_df=3, vect__ngram_range=(1, 2);, score=0.485 total time=   0.6s\n",
      "[CV 2/5] END clf__C=1, vect__max_df=0.8, vect__min_df=1, vect__ngram_range=(1, 2);, score=0.506 total time=   0.9s\n",
      "[CV 5/5] END clf__C=1, vect__max_df=0.8, vect__min_df=2, vect__ngram_range=(1, 1);, score=0.463 total time=   1.1s\n",
      "[CV 1/5] END clf__C=1, vect__max_df=0.8, vect__min_df=3, vect__ngram_range=(1, 2);, score=0.484 total time=   0.6s\n",
      "[CV 1/5] END clf__C=1, vect__max_df=0.9, vect__min_df=1, vect__ngram_range=(1, 1);, score=0.501 total time=   0.3s\n",
      "[CV 3/5] END clf__C=1, vect__max_df=0.9, vect__min_df=1, vect__ngram_range=(1, 2);, score=0.495 total time=   0.8s\n",
      "[CV 4/5] END clf__C=1, vect__max_df=0.9, vect__min_df=2, vect__ngram_range=(1, 1);, score=0.475 total time=   1.0s\n",
      "[CV 1/5] END clf__C=1, vect__max_df=0.9, vect__min_df=3, vect__ngram_range=(1, 2);, score=0.484 total time=   0.6s\n",
      "[CV 3/5] END clf__C=1, vect__max_df=0.95, vect__min_df=1, vect__ngram_range=(1, 1);, score=0.497 total time=   0.4s\n",
      "[CV 1/5] END clf__C=1, vect__max_df=0.95, vect__min_df=2, vect__ngram_range=(1, 1);, score=0.489 total time=   1.1s\n",
      "[CV 5/5] END clf__C=1, vect__max_df=0.95, vect__min_df=2, vect__ngram_range=(1, 2);, score=0.468 total time=   0.6s\n",
      "[CV 2/5] END clf__C=1, vect__max_df=0.95, vect__min_df=3, vect__ngram_range=(1, 2);, score=0.476 total time=   0.6s\n",
      "[CV 1/5] END clf__C=1, vect__max_df=0.99, vect__min_df=1, vect__ngram_range=(1, 1);, score=0.501 total time=   0.4s\n",
      "[CV 3/5] END clf__C=1, vect__max_df=0.99, vect__min_df=1, vect__ngram_range=(1, 2);, score=0.495 total time=   0.9s\n",
      "[CV 1/5] END clf__C=1, vect__max_df=0.99, vect__min_df=2, vect__ngram_range=(1, 2);, score=0.489 total time=   0.6s\n",
      "[CV 2/5] END clf__C=1, vect__max_df=0.99, vect__min_df=3, vect__ngram_range=(1, 1);, score=0.490 total time=   0.8s\n",
      "[CV 5/5] END clf__C=1, vect__max_df=0.99, vect__min_df=3, vect__ngram_range=(1, 2);, score=0.463 total time=   0.4s\n"
     ]
    }
   ],
   "source": [
    "from scipy.special import expit # Logistic sigmoid function\n",
    "import statsmodels.api as sm\n",
    "from scipy import stats\n",
    "\n",
    "X = np.array(test_df['word_count'])\n",
    "y = test_df['correct']\n",
    "X = sm.add_constant(X)\n",
    "model = sm.Logit(y, X).fit()\n",
    "print(model.summary())"
   ]
  },
  {
   "cell_type": "code",
   "execution_count": 18,
   "id": "ca689a49-3152-450f-b53e-b368e1183c0b",
   "metadata": {},
   "outputs": [
    {
     "data": {
      "text/plain": [
       "<matplotlib.collections.PathCollection at 0x1cf0f3c4c70>"
      ]
     },
     "execution_count": 18,
     "metadata": {},
     "output_type": "execute_result"
    },
    {
     "data": {
      "image/png": "[encoded data removed]",
      "text/plain": [
       "<Figure size 432x288 with 1 Axes>"
      ]
     },
     "metadata": {
      "needs_background": "light"
     },
     "output_type": "display_data"
    }
   ],
   "source": [
    "X_predict = np.arange(0,50)\n",
    "X_predict = sm.add_constant(X_predict)\n",
    "pred = model.predict(X_predict)\n",
    "plt.plot(X_predict[:,1],pred,color='r')\n",
    "plt.scatter(test_df['word_count'],test_df['correct'],color='k')"
   ]
  },
  {
   "cell_type": "markdown",
   "id": "345529df-6472-4387-b20e-402f6f04638d",
   "metadata": {},
   "source": [
    "This model is significant, but only explains a tiny fraction of the variance in the data (low R<sup>2</sup>). So our classifier performs only marginally better on longer pieces of text."
   ]
  },
  {
   "cell_type": "code",
   "execution_count": 19,
   "id": "ca4ca664-fc48-49ed-a740-31576c536559",
   "metadata": {},
   "outputs": [
    {
     "data": {
      "text/html": [
       "<div>\n",
       "<style scoped>\n",
       "    .dataframe tbody tr th:only-of-type {\n",
       "        vertical-align: middle;\n",
       "    }\n",
       "\n",
       "    .dataframe tbody tr th {\n",
       "        vertical-align: top;\n",
       "    }\n",
       "\n",
       "    .dataframe thead th {\n",
       "        text-align: right;\n",
       "    }\n",
       "</style>\n",
       "<table border=\"1\" class=\"dataframe\">\n",
       "  <thead>\n",
       "    <tr style=\"text-align: right;\">\n",
       "      <th></th>\n",
       "      <th>name</th>\n",
       "      <th>flavor_text</th>\n",
       "      <th>word_count</th>\n",
       "      <th>label</th>\n",
       "      <th>predicted</th>\n",
       "      <th>correct</th>\n",
       "      <th>label_color</th>\n",
       "      <th>predicted_color</th>\n",
       "    </tr>\n",
       "  </thead>\n",
       "  <tbody>\n",
       "    <tr>\n",
       "      <th>67238</th>\n",
       "      <td>Death's Presence</td>\n",
       "      <td>the genestealer cults rejoiced at the arrival of their gods . . . at first.</td>\n",
       "      <td>15</td>\n",
       "      <td>4</td>\n",
       "      <td>0</td>\n",
       "      <td>False</td>\n",
       "      <td>G</td>\n",
       "      <td>W</td>\n",
       "    </tr>\n",
       "    <tr>\n",
       "      <th>32709</th>\n",
       "      <td>Spellseeker</td>\n",
       "      <td>not content with mere answers, she hunts for the truth.</td>\n",
       "      <td>10</td>\n",
       "      <td>1</td>\n",
       "      <td>0</td>\n",
       "      <td>False</td>\n",
       "      <td>U</td>\n",
       "      <td>W</td>\n",
       "    </tr>\n",
       "    <tr>\n",
       "      <th>43124</th>\n",
       "      <td>Virulent Wound</td>\n",
       "      <td>sadly, the extent of gerkk's healing knowledge was \"don't pick at it.\"</td>\n",
       "      <td>12</td>\n",
       "      <td>2</td>\n",
       "      <td>1</td>\n",
       "      <td>False</td>\n",
       "      <td>B</td>\n",
       "      <td>U</td>\n",
       "    </tr>\n",
       "    <tr>\n",
       "      <th>43092</th>\n",
       "      <td>Infuriate</td>\n",
       "      <td>\"no shirt, no shoes, no service.\"\\n—marketplace sign</td>\n",
       "      <td>8</td>\n",
       "      <td>3</td>\n",
       "      <td>2</td>\n",
       "      <td>False</td>\n",
       "      <td>R</td>\n",
       "      <td>B</td>\n",
       "    </tr>\n",
       "    <tr>\n",
       "      <th>80908</th>\n",
       "      <td>Setessan Oathsworn</td>\n",
       "      <td>\"setessa is not the city of my birth, but it is the place i fight for, and the place i'm willing to die for. does that not make it my home?\"</td>\n",
       "      <td>31</td>\n",
       "      <td>4</td>\n",
       "      <td>0</td>\n",
       "      <td>False</td>\n",
       "      <td>G</td>\n",
       "      <td>W</td>\n",
       "    </tr>\n",
       "    <tr>\n",
       "      <th>...</th>\n",
       "      <td>...</td>\n",
       "      <td>...</td>\n",
       "      <td>...</td>\n",
       "      <td>...</td>\n",
       "      <td>...</td>\n",
       "      <td>...</td>\n",
       "      <td>...</td>\n",
       "      <td>...</td>\n",
       "    </tr>\n",
       "    <tr>\n",
       "      <th>1815</th>\n",
       "      <td>Aegis of the Heavens</td>\n",
       "      <td>inner strength is never seen until it makes all the difference.</td>\n",
       "      <td>11</td>\n",
       "      <td>0</td>\n",
       "      <td>4</td>\n",
       "      <td>False</td>\n",
       "      <td>W</td>\n",
       "      <td>G</td>\n",
       "    </tr>\n",
       "    <tr>\n",
       "      <th>9995</th>\n",
       "      <td>Claws of Valakut</td>\n",
       "      <td>\"swords may sunder. shields may fail. my will is stronger than steel, and my flesh and bone far more deadly.\"</td>\n",
       "      <td>20</td>\n",
       "      <td>3</td>\n",
       "      <td>0</td>\n",
       "      <td>False</td>\n",
       "      <td>R</td>\n",
       "      <td>W</td>\n",
       "    </tr>\n",
       "    <tr>\n",
       "      <th>78094</th>\n",
       "      <td>Goblin Lackey</td>\n",
       "      <td>\"danger\" was supposed to be babysitting, so \"little angel\" became the newest member of the team.</td>\n",
       "      <td>16</td>\n",
       "      <td>3</td>\n",
       "      <td>0</td>\n",
       "      <td>False</td>\n",
       "      <td>R</td>\n",
       "      <td>W</td>\n",
       "    </tr>\n",
       "    <tr>\n",
       "      <th>51446</th>\n",
       "      <td>Rally Maneuver</td>\n",
       "      <td>\"don't give up! you are steel and fire, and victory is yours to seize.\"</td>\n",
       "      <td>14</td>\n",
       "      <td>0</td>\n",
       "      <td>3</td>\n",
       "      <td>False</td>\n",
       "      <td>W</td>\n",
       "      <td>R</td>\n",
       "    </tr>\n",
       "    <tr>\n",
       "      <th>26683</th>\n",
       "      <td>Cloakwood Hermit</td>\n",
       "      <td>you've always preferred the company of animals to people.</td>\n",
       "      <td>9</td>\n",
       "      <td>4</td>\n",
       "      <td>0</td>\n",
       "      <td>False</td>\n",
       "      <td>G</td>\n",
       "      <td>W</td>\n",
       "    </tr>\n",
       "  </tbody>\n",
       "</table>\n",
       "<p>1961 rows × 8 columns</p>\n",
       "</div>"
      ],
      "text/plain": [
       "                       name  \\\n",
       "67238      Death's Presence   \n",
       "32709           Spellseeker   \n",
       "43124        Virulent Wound   \n",
       "43092             Infuriate   \n",
       "80908    Setessan Oathsworn   \n",
       "...                     ...   \n",
       "1815   Aegis of the Heavens   \n",
       "9995       Claws of Valakut   \n",
       "78094         Goblin Lackey   \n",
       "51446        Rally Maneuver   \n",
       "26683      Cloakwood Hermit   \n",
       "\n",
       "                                                                                                                                        flavor_text  \\\n",
       "67238                                                                   the genestealer cults rejoiced at the arrival of their gods . . . at first.   \n",
       "32709                                                                                       not content with mere answers, she hunts for the truth.   \n",
       "43124                                                                        sadly, the extent of gerkk's healing knowledge was \"don't pick at it.\"   \n",
       "43092                                                                                          \"no shirt, no shoes, no service.\"\\n—marketplace sign   \n",
       "80908  \"setessa is not the city of my birth, but it is the place i fight for, and the place i'm willing to die for. does that not make it my home?\"   \n",
       "...                                                                                                                                             ...   \n",
       "1815                                                                                inner strength is never seen until it makes all the difference.   \n",
       "9995                                  \"swords may sunder. shields may fail. my will is stronger than steel, and my flesh and bone far more deadly.\"   \n",
       "78094                                              \"danger\" was supposed to be babysitting, so \"little angel\" became the newest member of the team.   \n",
       "51446                                                                       \"don't give up! you are steel and fire, and victory is yours to seize.\"   \n",
       "26683                                                                                     you've always preferred the company of animals to people.   \n",
       "\n",
       "       word_count label  predicted  correct label_color predicted_color  \n",
       "67238          15     4          0    False           G               W  \n",
       "32709          10     1          0    False           U               W  \n",
       "43124          12     2          1    False           B               U  \n",
       "43092           8     3          2    False           R               B  \n",
       "80908          31     4          0    False           G               W  \n",
       "...           ...   ...        ...      ...         ...             ...  \n",
       "1815           11     0          4    False           W               G  \n",
       "9995           20     3          0    False           R               W  \n",
       "78094          16     3          0    False           R               W  \n",
       "51446          14     0          3    False           W               R  \n",
       "26683           9     4          0    False           G               W  \n",
       "\n",
       "[1961 rows x 8 columns]"
      ]
     },
     "execution_count": 19,
     "metadata": {},
     "output_type": "execute_result"
    }
   ],
   "source": [
    "label_map_inv = {v: k for k, v in label_map.items()}\n",
    "test_df['label_color'] = test_df['label'].map(label_map_inv)\n",
    "test_df['predicted_color'] = test_df['predicted'].map(label_map_inv)\n",
    "\n",
    "\n",
    "pd.set_option('display.max_colwidth', None)\n",
    "test_df[test_df.correct == False]"
   ]
  },
  {
   "cell_type": "code",
   "execution_count": null,
   "id": "d8f6a5e2-a043-4664-8cfb-eda5500a1afa",
   "metadata": {},
   "outputs": [],
   "source": []
  }
 ],
 "metadata": {
  "kernelspec": {
   "display_name": "Python 3 (ipykernel)",
   "language": "python",
   "name": "python3"
  },
  "language_info": {
   "codemirror_mode": {
    "name": "ipython",
    "version": 3
   },
   "file_extension": ".py",
   "mimetype": "text/x-python",
   "name": "python",
   "nbconvert_exporter": "python",
   "pygments_lexer": "ipython3",
   "version": "3.12.8"
  },
  "varInspector": {
   "cols": {
    "lenName": 16,
    "lenType": 16,
    "lenVar": 40
   },
   "kernels_config": {
    "python": {
     "delete_cmd_postfix": "",
     "delete_cmd_prefix": "del ",
     "library": "var_list.py",
     "varRefreshCmd": "print(var_dic_list())"
    },
    "r": {
     "delete_cmd_postfix": ") ",
     "delete_cmd_prefix": "rm(",
     "library": "var_list.r",
     "varRefreshCmd": "cat(var_dic_list()) "
    }
   },
   "types_to_exclude": [
    "module",
    "function",
    "builtin_function_or_method",
    "instance",
    "_Feature"
   ],
   "window_display": false
  }
 },
 "nbformat": 4,
 "nbformat_minor": 5
}
