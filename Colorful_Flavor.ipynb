{
 "cells": [
  {
   "cell_type": "markdown",
   "id": "704d84dd-9670-490e-a975-053e28375431",
   "metadata": {},
   "source": [
    "# Welcome to Colorful Flavor!\n",
    "This is the first part of the **MtG Classy Flavor** project. In this notebook, our goal is to use text on a **Magic: The Gathering** card to identify which of the five different colors a card belongs to. This is similar to *sentiment analysis*, where one classifies text as positive, negative, or neutral. However card categories could be considered a bit more complex. The five colors of **Magic** cards have distinct *flavors*. For example, Green cards often depict forests, druids, and wild beasts; while Red cards might depict mountains, goblins, and fire-breathing dragons. Can we train a model to find these differences in the cards?"
   ]
  },
  {
   "cell_type": "markdown",
   "id": "405fa5c7",
   "metadata": {},
   "source": [
    "## Get Card Data from Scryfall using the Scryfall API\n",
    "[Scryfall](https://scryfall.com/) is a powerful database and search engine for Magic: The Gathering cards. \n",
    "We will use their API to download the card data as a JSON file. We then convert the data to a pandas dataframe and isolate unique instances of flavor text.\n",
    "\n",
    "API reference:\n",
    "https://scryfall.com/docs/api \\\n",
    "https://scryfall.com/docs/api/bulk-data"
   ]
  },
  {
   "cell_type": "code",
   "execution_count": 1,
   "id": "fc17a3fb-47b9-4bbf-adc0-94f7fd25e6fc",
   "metadata": {
    "tags": []
   },
   "outputs": [],
   "source": [
    "import requests,time,os\n",
    "import numpy as np\n",
    "import pandas as pd\n",
    "import CF_standard_functions as cf# Custom functions\n",
    "import pickle as pkl"
   ]
  },
  {
   "cell_type": "markdown",
   "id": "548f20dc-ac5a-4d14-b564-ed4fd635df0b",
   "metadata": {},
   "source": [
    "First we query Scryfall to find the URI of the most up-to-date batch of card data. We want the address of the 'default_cards' dataset, which contains all unique prints of all cards. Once we have this address, we use it to download the raw card data. We then save the data locally.\\ \n",
    "There are new Magic cards printed approximately every month. To ensure we have the latest data, we will make a new API call to Scryfall if our local data is more than 24 hours old.  "
   ]
  },
  {
   "cell_type": "code",
   "execution_count": 3,
   "id": "6cccdeb1-52e7-45c2-8160-5edd808809e4",
   "metadata": {},
   "outputs": [
    {
     "name": "stdout",
     "output_type": "stream",
     "text": [
      "Downloading data from Scryfall...\n",
      "Downloading 487.9 MB of card data...\n",
      "Download complete!\n",
      "Saving data to local file...\n",
      "Done!\n",
      "102292 cards in data set\n"
     ]
    }
   ],
   "source": [
    "# Set these directories to determine where to save/load the data from:\n",
    "filename = 'CardData.pkl'\n",
    "# Directory for getting data from Scryfall:\n",
    "sf_bulk_url = \"https://api.scryfall.com/bulk-data\"\n",
    "\n",
    "if (os.path.isfile('CardData.pkl')) and (cf.file_age_in_hours('CardData.pkl') < 24):\n",
    "    print('Loading card data from local file...')\n",
    "    with open(savepath+filename,'rb') as datafile:\n",
    "        data = pkl.load(datafile)\n",
    "    print('Done!')\n",
    "else:\n",
    "    print('Downloading data from Scryfall...')\n",
    "    sf_response = requests.get(sf_bulk_url).json()\n",
    "    download_dict = [d for d in sf_response['data'] if d['type'] == 'default_cards'][0]\n",
    "    data_size = np.round(download_dict['size'] / 1e6,1)\n",
    "    print(f\"Downloading {data_size} MB of card data...\")\n",
    "    card_data_raw = requests.get(download_dict['download_uri']).json()\n",
    "    print(\"Download complete!\")\n",
    "    # Convert to dataframe and remove cards that aren't in English:\n",
    "    data = pd.DataFrame(card_data_raw)\n",
    "    data = data.drop(data.index[data['lang']!='en'])\n",
    "    print(\"Saving data to local file...\")\n",
    "    with open(filename,'wb') as datafile:\n",
    "        pkl.dump(data,datafile)\n",
    "    print('Done!')\n",
    "nCards = data.shape[0]\n",
    "print(f\"{nCards} cards in data set\")"
   ]
  },
  {
   "cell_type": "markdown",
   "id": "bc3b8a11-6b89-4ce1-ba75-dd4c78a84572",
   "metadata": {},
   "source": [
    "## Cleaning and organizing our data\n",
    "\n",
    "In our data set we have over 100,000 cards! However, there are many cards that are *reprints* - cards that have been printed multiple times over the years with identical (or near-identical) text. There are also subsets of cards that are sometimes termed \"funny\" - these are cards that were printed mostly as jokes and that have little to do with the main game. We will ignore these in our analyses. \\\n",
    "What we want to analyze in this notebook is **flavor text**: text at the bottom of a card that contains no rules or gameplay information, but that tell short stories or otherwise explain the world and story of Magic. Many cards don't have flavor text, so we will remove these from our dataset as well. This reduces our dataset to a much more managable 18,000 cards "
   ]
  },
  {
   "cell_type": "code",
   "execution_count": 6,
   "id": "e8c87e8f-f434-40f3-8bf1-39c20f715026",
   "metadata": {},
   "outputs": [
    {
     "name": "stdout",
     "output_type": "stream",
     "text": [
      "18057 unique cards in data set with flavor text\n"
     ]
    }
   ],
   "source": [
    "data = data.drop(data.index[data['set_type'] == 'funny'])\n",
    "data = data.drop(data.index[data['flavor_text'].isnull()])\n",
    "data = data.drop_duplicates(subset = 'name')\n",
    "\n",
    "# Convert flavor text to lower case.\n",
    "data['flavor_text'] = data.flavor_text.apply(lambda x : x.lower())\n",
    "nCards = data.shape[0]\n",
    "print(f\"{nCards} unique cards in data set with flavor text\")"
   ]
  },
  {
   "cell_type": "markdown",
   "id": "55cc9d84",
   "metadata": {},
   "source": [
    "### Organize cards by color\n",
    "Here we will classify flavor text by color. For convenience, we will make a new dataframe subsetting only the name, flavortext, and color of monocolored cards (i.e. excluding cards that have no color or are multiple colors).\\\n",
    "To make separating cards by colors easier, we add a Boolean variable to the dataframe for each color. We also add a Boolean for whether or not a card is monocolored. \\\n",
    "Finally, sort our cards in traditional **WUBRG** order (**W**hite, Bl**u**E, **B**lack, **R**ed, **G**reen) by setting the _colors_ variable to a categorical value.\n"
   ]
  },
  {
   "cell_type": "code",
   "execution_count": 10,
   "id": "3cadf824-4957-4064-ad9b-71be8577124d",
   "metadata": {
    "scrolled": true,
    "tags": []
   },
   "outputs": [
    {
     "data": {
      "text/html": [
       "<div>\n",
       "<style scoped>\n",
       "    .dataframe tbody tr th:only-of-type {\n",
       "        vertical-align: middle;\n",
       "    }\n",
       "\n",
       "    .dataframe tbody tr th {\n",
       "        vertical-align: top;\n",
       "    }\n",
       "\n",
       "    .dataframe thead th {\n",
       "        text-align: right;\n",
       "    }\n",
       "</style>\n",
       "<table border=\"1\" class=\"dataframe\">\n",
       "  <thead>\n",
       "    <tr style=\"text-align: right;\">\n",
       "      <th></th>\n",
       "      <th>name</th>\n",
       "      <th>colors</th>\n",
       "      <th>flavor_text</th>\n",
       "    </tr>\n",
       "  </thead>\n",
       "  <tbody>\n",
       "    <tr>\n",
       "      <th>59448</th>\n",
       "      <td>Jace's Sentinel</td>\n",
       "      <td>U</td>\n",
       "      <td>\"we drove the sun empire out of the forest lon...</td>\n",
       "    </tr>\n",
       "    <tr>\n",
       "      <th>58036</th>\n",
       "      <td>Swirling Torrent</td>\n",
       "      <td>U</td>\n",
       "      <td>\"oops!\"\\n—grupgrup, sluiceway technician</td>\n",
       "    </tr>\n",
       "    <tr>\n",
       "      <th>54308</th>\n",
       "      <td>Unstable Shapeshifter</td>\n",
       "      <td>U</td>\n",
       "      <td>\"in a world of untruths, the living lie rules....</td>\n",
       "    </tr>\n",
       "    <tr>\n",
       "      <th>35515</th>\n",
       "      <td>Illustrious Historian</td>\n",
       "      <td>R</td>\n",
       "      <td>the most distinguished lorehold professors are...</td>\n",
       "    </tr>\n",
       "    <tr>\n",
       "      <th>34321</th>\n",
       "      <td>Enormous Baloth</td>\n",
       "      <td>G</td>\n",
       "      <td>its diet consists of fruits, plants, small woo...</td>\n",
       "    </tr>\n",
       "  </tbody>\n",
       "</table>\n",
       "</div>"
      ],
      "text/plain": [
       "                        name colors  \\\n",
       "59448        Jace's Sentinel      U   \n",
       "58036       Swirling Torrent      U   \n",
       "54308  Unstable Shapeshifter      U   \n",
       "35515  Illustrious Historian      R   \n",
       "34321        Enormous Baloth      G   \n",
       "\n",
       "                                             flavor_text  \n",
       "59448  \"we drove the sun empire out of the forest lon...  \n",
       "58036           \"oops!\"\\n—grupgrup, sluiceway technician  \n",
       "54308  \"in a world of untruths, the living lie rules....  \n",
       "35515  the most distinguished lorehold professors are...  \n",
       "34321  its diet consists of fruits, plants, small woo...  "
      ]
     },
     "execution_count": 10,
     "metadata": {},
     "output_type": "execute_result"
    }
   ],
   "source": [
    "for c in ['W','U','B','R','G']:\n",
    "    tf = data.colors.apply(lambda x : np.shape(x) != (0,) and np.any(np.isin(x,c)))\n",
    "    data['is_'+c] = tf\n",
    "\n",
    "data['is_monocolor'] = np.sum(data.loc[:][['is_W','is_U','is_B','is_R','is_G']],axis=1) == 1\n",
    "\n",
    "data_monocolor = data.loc[data.is_monocolor][['name','colors','flavor_text']].copy()\n",
    "data_monocolor['colors'] = data_monocolor.colors.apply(lambda x: ''.join(x)) # Convert from list to string\n",
    "\n",
    "data_monocolor['colors'] = pd.Categorical(data_monocolor['colors'],ordered=True)\n",
    "data_monocolor['colors'] = data_monocolor['colors'].cat.reorder_categories(['W','U','B','R','G'])\n",
    "data_monocolor.sort_values('colors',ascending=True,inplace=True)\n",
    "data_monocolor.sample(5)"
   ]
  },
  {
   "cell_type": "markdown",
   "id": "23b594d7",
   "metadata": {},
   "source": [
    "### Prepare data for classification\n",
    "\n",
    "We will be classifying our cards with **Scikit-Learn**. Sckit-Learn needs numerical categories, not strings. So we will map each color string to a number:"
   ]
  },
  {
   "cell_type": "code",
   "execution_count": 12,
   "id": "ad1e0fcf",
   "metadata": {
    "tags": []
   },
   "outputs": [
    {
     "data": {
      "text/html": [
       "<div>\n",
       "<style scoped>\n",
       "    .dataframe tbody tr th:only-of-type {\n",
       "        vertical-align: middle;\n",
       "    }\n",
       "\n",
       "    .dataframe tbody tr th {\n",
       "        vertical-align: top;\n",
       "    }\n",
       "\n",
       "    .dataframe thead th {\n",
       "        text-align: right;\n",
       "    }\n",
       "</style>\n",
       "<table border=\"1\" class=\"dataframe\">\n",
       "  <thead>\n",
       "    <tr style=\"text-align: right;\">\n",
       "      <th></th>\n",
       "      <th>name</th>\n",
       "      <th>colors</th>\n",
       "      <th>flavor_text</th>\n",
       "      <th>label</th>\n",
       "    </tr>\n",
       "  </thead>\n",
       "  <tbody>\n",
       "    <tr>\n",
       "      <th>23828</th>\n",
       "      <td>Vampire Champion</td>\n",
       "      <td>B</td>\n",
       "      <td>\"these pirates must answer for their ancestors...</td>\n",
       "      <td>2</td>\n",
       "    </tr>\n",
       "    <tr>\n",
       "      <th>38068</th>\n",
       "      <td>Sun Sentinel</td>\n",
       "      <td>W</td>\n",
       "      <td>just as the sun rises at dawn and the days len...</td>\n",
       "      <td>0</td>\n",
       "    </tr>\n",
       "    <tr>\n",
       "      <th>23000</th>\n",
       "      <td>Chaos Maw</td>\n",
       "      <td>R</td>\n",
       "      <td>the food chain doesn't end at sandwurms.</td>\n",
       "      <td>3</td>\n",
       "    </tr>\n",
       "    <tr>\n",
       "      <th>3294</th>\n",
       "      <td>Shepherd of the Lost</td>\n",
       "      <td>W</td>\n",
       "      <td>\"should you fall in the wilds, lift your voice...</td>\n",
       "      <td>0</td>\n",
       "    </tr>\n",
       "    <tr>\n",
       "      <th>55226</th>\n",
       "      <td>Grim Javelineer</td>\n",
       "      <td>B</td>\n",
       "      <td>kheti lost everything to the eternals and the ...</td>\n",
       "      <td>2</td>\n",
       "    </tr>\n",
       "  </tbody>\n",
       "</table>\n",
       "</div>"
      ],
      "text/plain": [
       "                       name colors  \\\n",
       "23828      Vampire Champion      B   \n",
       "38068          Sun Sentinel      W   \n",
       "23000             Chaos Maw      R   \n",
       "3294   Shepherd of the Lost      W   \n",
       "55226       Grim Javelineer      B   \n",
       "\n",
       "                                             flavor_text label  \n",
       "23828  \"these pirates must answer for their ancestors...     2  \n",
       "38068  just as the sun rises at dawn and the days len...     0  \n",
       "23000           the food chain doesn't end at sandwurms.     3  \n",
       "3294   \"should you fall in the wilds, lift your voice...     0  \n",
       "55226  kheti lost everything to the eternals and the ...     2  "
      ]
     },
     "execution_count": 12,
     "metadata": {},
     "output_type": "execute_result"
    }
   ],
   "source": [
    "label_map = {'W':0,\n",
    "             'U':1,\n",
    "             'B':2,\n",
    "             'R':3,\n",
    "             'G':4}\n",
    "data_monocolor['label'] = data_monocolor['colors'].map(label_map)\n",
    "data_monocolor.sample(5)"
   ]
  },
  {
   "cell_type": "markdown",
   "id": "15d84020-6930-4a94-9253-1218b9081dcb",
   "metadata": {},
   "source": [
    "### Split data into train and test sets\n",
    "\n",
    "Using ScikitLearn's train_test_split, split our cards into a training set (75%) and a test set (25%). "
   ]
  },
  {
   "cell_type": "code",
   "execution_count": 15,
   "id": "9d4a4160-4cd4-4204-b0b6-8353567287ed",
   "metadata": {},
   "outputs": [
    {
     "name": "stdout",
     "output_type": "stream",
     "text": [
      "Training set consists of 10473 cards.\n",
      "Test set consists of 3491 cards.\n"
     ]
    }
   ],
   "source": [
    "from sklearn.model_selection import train_test_split\n",
    "\n",
    "flavor_train, flavor_test, label_train, label_test = train_test_split(\n",
    "        data_monocolor['flavor_text'], data_monocolor['label'], test_size=0.25, random_state=42)\n",
    "\n",
    "print('Training set consists of',flavor_train.shape[0],'cards.')\n",
    "print('Test set consists of',flavor_test.shape[0],'cards.')\n"
   ]
  },
  {
   "cell_type": "markdown",
   "id": "b97d59c9-e900-4319-83f1-708cc3a5b48b",
   "metadata": {},
   "source": [
    "## Design our Model!\n",
    "First we _tokenize_ the words in flavor text and convert them to numeric values, ignoring terms that are extremely common and those that only appear 3 or fewer times in the training set. \\\n",
    "Then, we fit a Linear Support Vector Classifier on our training data. \\\n",
    "These two steps can be wrapped up together in a ScikitLearn Pipeline object."
   ]
  },
  {
   "cell_type": "code",
   "execution_count": 17,
   "id": "ca31d8b8-96c8-47db-bf4a-f8fd07273c48",
   "metadata": {},
   "outputs": [],
   "source": [
    "from sklearn.feature_extraction.text import TfidfVectorizer\n",
    "from sklearn.svm import LinearSVC\n",
    "from sklearn.pipeline import Pipeline\n",
    "my_vectorizer = TfidfVectorizer(min_df = 3,max_df=0.95)\n",
    "my_linSVC = LinearSVC(C=1)\n",
    "pipe = Pipeline([('vect',my_vectorizer),\n",
    "               ('clf',my_linSVC)])\n",
    "\n",
    "pipe = pipe.fit(flavor_train,label_train)"
   ]
  },
  {
   "cell_type": "markdown",
   "id": "64241c06-bb32-40a2-8881-8d2c7fe5e06a",
   "metadata": {},
   "source": [
    "#### Measure model accuracy on test data"
   ]
  },
  {
   "cell_type": "code",
   "execution_count": 20,
   "id": "eedd2e1c-f391-41d2-b0fe-b19aee42e966",
   "metadata": {
    "tags": []
   },
   "outputs": [
    {
     "name": "stdout",
     "output_type": "stream",
     "text": [
      "Classifier accuracy is 45.5%\n"
     ]
    }
   ],
   "source": [
    "label_predict = pipe.predict(flavor_test)\n",
    "performance = sum(label_predict == label_test) / len(label_test) * 100\n",
    "print(f\"Classifier accuracy is {np.round(performance,1)}%\")"
   ]
  },
  {
   "cell_type": "markdown",
   "id": "7a4b3be7-7c69-4854-b678-86984ae4f028",
   "metadata": {},
   "source": [
    "#### Visualize model performance with a confusion matrix"
   ]
  },
  {
   "cell_type": "code",
   "execution_count": 25,
   "id": "ce624424-2750-460a-830a-1b57bedbdcb0",
   "metadata": {
    "tags": []
   },
   "outputs": [
    {
     "name": "stdout",
     "output_type": "stream",
     "text": [
      "              precision    recall  f1-score   support\n",
      "\n",
      "           W       0.44      0.43      0.44       722\n",
      "           U       0.45      0.44      0.44       700\n",
      "           B       0.44      0.48      0.46       678\n",
      "           R       0.49      0.45      0.47       743\n",
      "           G       0.46      0.47      0.47       648\n",
      "\n",
      "    accuracy                           0.46      3491\n",
      "   macro avg       0.46      0.46      0.46      3491\n",
      "weighted avg       0.46      0.46      0.46      3491\n",
      "\n"
     ]
    },
    {
     "data": {
      "image/png": "[encoded data removed]",
      "text/plain": [
       "<Figure size 1000x1000 with 2 Axes>"
      ]
     },
     "metadata": {},
     "output_type": "display_data"
    }
   ],
   "source": [
    "from sklearn import metrics\n",
    "import seaborn as sns\n",
    "from matplotlib import pyplot as plt\n",
    "\n",
    "print(metrics.classification_report(label_test, label_predict,target_names = [str(i) for i in label_map]))\n",
    "\n",
    "cm = metrics.confusion_matrix(label_predict, label_test,normalize='true',\n",
    "                              labels=list(label_map.values()))\n",
    "\n",
    "fig, ax = plt.subplots(figsize=(10,10))\n",
    "sns.heatmap(cm, annot=True, fmt='.2f',xticklabels=[str(i) for i in label_map],yticklabels=[str(i) for i in label_map])\n",
    "plt.ylabel('Actual')\n",
    "plt.xlabel('Predicted')\n",
    "plt.show(block=False)\n"
   ]
  },
  {
   "cell_type": "markdown",
   "id": "9353294c-ebc1-4642-aae5-11507965fa47",
   "metadata": {},
   "source": [
    "**Not too shabby!** \\\n",
    "Our classifier gets the correct color around 45% the time. This might not seem very accurate, but remember that there are five colors, so we would only have about a 20% hit rate by randomly guessing. \n",
    "\n",
    "We can also write our own flavor text and see what color our model thinks it belongs to!"
   ]
  },
  {
   "cell_type": "code",
   "execution_count": 9,
   "id": "d5d747a1-64f6-4016-a586-0e26670d6ecb",
   "metadata": {
    "tags": []
   },
   "outputs": [
    {
     "name": "stdout",
     "output_type": "stream",
     "text": [
      "Goblins sure do smell bad --> R\n",
      "Your spell was a mistake and now it is gone --> U\n",
      "Trees are the most beautiful thing --> G\n",
      "Death cannot stop the wicked --> B\n",
      "The angelic choir sings loftily over the clouds --> U\n",
      "\"Some like it hot\" -Chandra Nalaar --> R\n"
     ]
    }
   ],
   "source": [
    "new_flavor_text = ['Goblins sure do smell bad',\n",
    "              'Your spell was a mistake and now it is gone',\n",
    "              'Trees are the most beautiful thing',\n",
    "              'Death cannot stop the wicked',\n",
    "              'The angelic choir sings loftily over the clouds',\n",
    "              '\"Some like it hot\" -Chandra Nalaar']\n",
    "\n",
    "new_color_predictions = pipe.predict(new_flavor_text)\n",
    "# Reverse-lookup color mapping    \n",
    "for txt,col in zip(new_flavor_text,new_color_predictions):\n",
    "    print(f\"{txt} --> {[str(i) for i in label_map][col]}\")"
   ]
  },
  {
   "cell_type": "markdown",
   "id": "eebe800b-a7b3-46b6-81e4-b3d00d3efa77",
   "metadata": {},
   "source": [
    "From these plots, it looks like the C parameter of the LinearSVC is the most important parameter to adjust, though differences in how we vectorize the text can help a bit.\\\n",
    "_max_cf_ has little effect, and a higher _max_cf_ value means we are removing more words from our lexicon, so let's leave that at 0.95 to keep more words in our model without hurting performance.\n",
    "\n",
    "**Retrain the model with these new parameters**"
   ]
  },
  {
   "cell_type": "markdown",
   "id": "730ce85c-e283-47ea-914e-ddd43ac45be1",
   "metadata": {
    "tags": []
   },
   "source": [
    "## Investigate the Model\n",
    "Now that we have an optimized model, lets look into what types of text the model does well or poorly on. \\\n",
    "For now, we will only look at cards in our test set (to avoid re-running the model several times). \n",
    "\n",
    "One likely cause of misclassification is from cards with very short flavor text. We can check this by plotting the portion of correct classifications as a function of flavor text length.\n",
    "\n",
    "First, let's look at the distribution of the number of words in flavor text, binning by 5 words:"
   ]
  },
  {
   "cell_type": "code",
   "execution_count": 30,
   "id": "97e1c171-3483-46ed-83e6-cca2c26f1407",
   "metadata": {
    "tags": []
   },
   "outputs": [
    {
     "data": {
      "text/plain": [
       "[Text(0, 0.5, 'Count of Cards'),\n",
       " Text(0.5, 0, 'Number of Words in Flavor Text')]"
      ]
     },
     "execution_count": 30,
     "metadata": {},
     "output_type": "execute_result"
    },
    {
     "data": {
      "image/png": "[encoded data removed]",
      "text/plain": [
       "<Figure size 640x480 with 1 Axes>"
      ]
     },
     "metadata": {},
     "output_type": "display_data"
    }
   ],
   "source": [
    "# Put test data into a dataframe for easier plotting and indexing\n",
    "test_df = pd.DataFrame(data={'flavor_text':flavor_test,'label':label_test})\n",
    "test_df['word_count'] = test_df.flavor_text.apply(lambda x : len(x.split()))\n",
    "test_df['predicted'] = pipe.predict(test_df['flavor_text'])\n",
    "test_df['correct'] = np.equal(test_df['label'],test_df['predicted'])\n",
    "test_df = pd.concat([test_df,data_monocolor['name']],axis=1,join='inner')\n",
    "test_df = test_df[['name','flavor_text','word_count','label','predicted','correct']]\n",
    "\n",
    "bins = np.arange(0,45,5)\n",
    "ax = plt.axes()\n",
    "sns.histplot(data=test_df,x='word_count',bins=bins,ax=ax)\n",
    "ax.set(ylabel='Count of Cards',xlabel='Number of Words in Flavor Text')"
   ]
  },
  {
   "cell_type": "markdown",
   "id": "f65a438c-0eba-487a-8b22-8522a7dde220",
   "metadata": {},
   "source": [
    "Now for each bin, find the proportion of cards in that bin that are correctly classified:"
   ]
  },
  {
   "cell_type": "code",
   "execution_count": 32,
   "id": "d03d78c8-9274-43df-adc0-39f099e04efa",
   "metadata": {
    "tags": []
   },
   "outputs": [
    {
     "data": {
      "text/plain": [
       "<matplotlib.legend.Legend at 0x1ca2e1d23c0>"
      ]
     },
     "execution_count": 32,
     "metadata": {},
     "output_type": "execute_result"
    },
    {
     "data": {
      "image/png": "[encoded data removed]",
      "text/plain": [
       "<Figure size 640x480 with 1 Axes>"
      ]
     },
     "metadata": {},
     "output_type": "display_data"
    }
   ],
   "source": [
    "# Preallocate arrays\n",
    "counts_correct = np.zeros(len(bins)-1)\n",
    "counts_all =   np.zeros(len(bins)-1)\n",
    "for i in range(len(bins)-1):\n",
    "    sub_data = test_df[(test_df.word_count > bins[i]) & (test_df.word_count <= bins[i+1])]\n",
    "    counts_correct[i] = sum(sub_data.correct)\n",
    "    counts_all[i] = sub_data.shape[0]\n",
    "plot_bin_width = (bins[1]-bins[0])*0.8\n",
    "    \n",
    "hit_rate = counts_correct / counts_all\n",
    "bar_x = [np.mean([y,z]) for y,z in zip(bins[:-1],bins[1:])]\n",
    "bar_df = pd.DataFrame({'Bin':bins[:-1],'Correct_Rate':hit_rate,'Incorrect_Rate':1-np.array(hit_rate)})\n",
    "miss_bar = plt.bar(bins[:-1],np.ones(np.size(hit_rate)),align='edge',width=plot_bin_width,\n",
    "                   edgecolor='k',color=[0.3,0,0.3])\n",
    "hit_bar = plt.bar(bins[:-1],hit_rate,align='edge',width=plot_bin_width,\n",
    "                  edgecolor='k',color=[0.9,0.7,0])\n",
    "plt.ylabel('Classification Rate')\n",
    "plt.xlabel('Word Count')\n",
    "miss_bar.set_label('Incorrect')\n",
    "hit_bar.set_label('Correct')\n",
    "plt.legend()"
   ]
  },
  {
   "cell_type": "markdown",
   "id": "1705d79d-6a82-46f4-ae40-f9d0db792b25",
   "metadata": {},
   "source": [
    "It looks like there might be a weak relationship between word count and classifier accuracy. We can test this hypothesis with a simple logistic regression:"
   ]
  },
  {
   "cell_type": "code",
   "execution_count": 34,
   "id": "fa17e7b7-df12-4489-9b22-468dcb8b6325",
   "metadata": {},
   "outputs": [
    {
     "name": "stdout",
     "output_type": "stream",
     "text": [
      "Optimization terminated successfully.\n",
      "         Current function value: 0.685582\n",
      "         Iterations 4\n",
      "                           Logit Regression Results                           \n",
      "==============================================================================\n",
      "Dep. Variable:                correct   No. Observations:                 3491\n",
      "Model:                          Logit   Df Residuals:                     3489\n",
      "Method:                           MLE   Df Model:                            1\n",
      "Date:                Thu, 20 Feb 2025   Pseudo R-squ.:                0.001484\n",
      "Time:                        22:38:55   Log-Likelihood:                -2393.4\n",
      "converged:                       True   LL-Null:                       -2396.9\n",
      "Covariance Type:            nonrobust   LLR p-value:                  0.007649\n",
      "==============================================================================\n",
      "                 coef    std err          z      P>|z|      [0.025      0.975]\n",
      "------------------------------------------------------------------------------\n",
      "const         -0.4402      0.086     -5.107      0.000      -0.609      -0.271\n",
      "x1             0.0141      0.005      2.665      0.008       0.004       0.024\n",
      "==============================================================================\n"
     ]
    }
   ],
   "source": [
    "from scipy.special import expit # Logistic sigmoid function\n",
    "import statsmodels.api as sm\n",
    "from scipy import stats\n",
    "\n",
    "X = np.array(test_df['word_count'])\n",
    "y = test_df['correct']\n",
    "X = sm.add_constant(X)\n",
    "model = sm.Logit(y, X).fit()\n",
    "print(model.summary())"
   ]
  },
  {
   "cell_type": "code",
   "execution_count": 35,
   "id": "ca689a49-3152-450f-b53e-b368e1183c0b",
   "metadata": {},
   "outputs": [
    {
     "data": {
      "text/plain": [
       "<matplotlib.collections.PathCollection at 0x1ca2edcefc0>"
      ]
     },
     "execution_count": 35,
     "metadata": {},
     "output_type": "execute_result"
    },
    {
     "data": {
      "image/png": "[encoded data removed]",
      "text/plain": [
       "<Figure size 640x480 with 1 Axes>"
      ]
     },
     "metadata": {},
     "output_type": "display_data"
    }
   ],
   "source": [
    "X_predict = np.arange(0,50)\n",
    "X_predict = sm.add_constant(X_predict)\n",
    "pred = model.predict(X_predict)\n",
    "plt.plot(X_predict[:,1],pred,color='r')\n",
    "plt.scatter(test_df['word_count'],test_df['correct'],color='k')"
   ]
  },
  {
   "cell_type": "markdown",
   "id": "345529df-6472-4387-b20e-402f6f04638d",
   "metadata": {},
   "source": [
    "This model is significant, but only explains a tiny fraction of the variance in the data (low R<sup>2</sup>). So our classifier performs only marginally better on longer pieces of text."
   ]
  },
  {
   "cell_type": "code",
   "execution_count": 38,
   "id": "ca4ca664-fc48-49ed-a740-31576c536559",
   "metadata": {},
   "outputs": [
    {
     "data": {
      "text/html": [
       "<div>\n",
       "<style scoped>\n",
       "    .dataframe tbody tr th:only-of-type {\n",
       "        vertical-align: middle;\n",
       "    }\n",
       "\n",
       "    .dataframe tbody tr th {\n",
       "        vertical-align: top;\n",
       "    }\n",
       "\n",
       "    .dataframe thead th {\n",
       "        text-align: right;\n",
       "    }\n",
       "</style>\n",
       "<table border=\"1\" class=\"dataframe\">\n",
       "  <thead>\n",
       "    <tr style=\"text-align: right;\">\n",
       "      <th></th>\n",
       "      <th>name</th>\n",
       "      <th>flavor_text</th>\n",
       "      <th>word_count</th>\n",
       "      <th>label</th>\n",
       "      <th>predicted</th>\n",
       "      <th>correct</th>\n",
       "      <th>label_color</th>\n",
       "      <th>predicted_color</th>\n",
       "    </tr>\n",
       "  </thead>\n",
       "  <tbody>\n",
       "    <tr>\n",
       "      <th>88228</th>\n",
       "      <td>Vampiric Fury</td>\n",
       "      <td>many peasants secretly admire vampires' glamour and elegance—until they witness a moment of pure bloodlust.</td>\n",
       "      <td>15</td>\n",
       "      <td>3</td>\n",
       "      <td>0</td>\n",
       "      <td>False</td>\n",
       "      <td>R</td>\n",
       "      <td>W</td>\n",
       "    </tr>\n",
       "    <tr>\n",
       "      <th>2952</th>\n",
       "      <td>Terrifying Presence</td>\n",
       "      <td>elmut had slaughtered vampires, slain werewolves, and destroyed hordes of zombies. sadly, he never got over his fear of spiders.</td>\n",
       "      <td>20</td>\n",
       "      <td>4</td>\n",
       "      <td>3</td>\n",
       "      <td>False</td>\n",
       "      <td>G</td>\n",
       "      <td>R</td>\n",
       "    </tr>\n",
       "    <tr>\n",
       "      <th>32362</th>\n",
       "      <td>Smelt-Ward Ignus</td>\n",
       "      <td>\"come in, yes? is warm!\"</td>\n",
       "      <td>5</td>\n",
       "      <td>3</td>\n",
       "      <td>2</td>\n",
       "      <td>False</td>\n",
       "      <td>R</td>\n",
       "      <td>B</td>\n",
       "    </tr>\n",
       "    <tr>\n",
       "      <th>6697</th>\n",
       "      <td>Nurturing Pixie</td>\n",
       "      <td>\"count yourself lucky i came upon you. this is not a world of second chances.\"</td>\n",
       "      <td>15</td>\n",
       "      <td>0</td>\n",
       "      <td>3</td>\n",
       "      <td>False</td>\n",
       "      <td>W</td>\n",
       "      <td>R</td>\n",
       "    </tr>\n",
       "    <tr>\n",
       "      <th>25311</th>\n",
       "      <td>Journey for the Elixir</td>\n",
       "      <td>\"as my hands touched it, i realized that i had not found it—it had been leading me here.\"</td>\n",
       "      <td>18</td>\n",
       "      <td>4</td>\n",
       "      <td>0</td>\n",
       "      <td>False</td>\n",
       "      <td>G</td>\n",
       "      <td>W</td>\n",
       "    </tr>\n",
       "    <tr>\n",
       "      <th>...</th>\n",
       "      <td>...</td>\n",
       "      <td>...</td>\n",
       "      <td>...</td>\n",
       "      <td>...</td>\n",
       "      <td>...</td>\n",
       "      <td>...</td>\n",
       "      <td>...</td>\n",
       "      <td>...</td>\n",
       "    </tr>\n",
       "    <tr>\n",
       "      <th>84772</th>\n",
       "      <td>Beasts of Bogardan</td>\n",
       "      <td>bogardan is a land as volatile as the creatures who live there.</td>\n",
       "      <td>12</td>\n",
       "      <td>3</td>\n",
       "      <td>1</td>\n",
       "      <td>False</td>\n",
       "      <td>R</td>\n",
       "      <td>U</td>\n",
       "    </tr>\n",
       "    <tr>\n",
       "      <th>61494</th>\n",
       "      <td>Toxin Sliver</td>\n",
       "      <td>it doesn't need to use its venom—it just needs you to know it can.</td>\n",
       "      <td>14</td>\n",
       "      <td>2</td>\n",
       "      <td>3</td>\n",
       "      <td>False</td>\n",
       "      <td>B</td>\n",
       "      <td>R</td>\n",
       "    </tr>\n",
       "    <tr>\n",
       "      <th>72632</th>\n",
       "      <td>Facet Reader</td>\n",
       "      <td>\"every flaw in the crystal represents a moment where our strategy might go wrong.\"</td>\n",
       "      <td>14</td>\n",
       "      <td>1</td>\n",
       "      <td>0</td>\n",
       "      <td>False</td>\n",
       "      <td>U</td>\n",
       "      <td>W</td>\n",
       "    </tr>\n",
       "    <tr>\n",
       "      <th>13677</th>\n",
       "      <td>Choose Your Weapon</td>\n",
       "      <td>\"move it, varis, or i'll pick one for you!\"\\n—ellywick tumblestrum</td>\n",
       "      <td>11</td>\n",
       "      <td>4</td>\n",
       "      <td>3</td>\n",
       "      <td>False</td>\n",
       "      <td>G</td>\n",
       "      <td>R</td>\n",
       "    </tr>\n",
       "    <tr>\n",
       "      <th>26325</th>\n",
       "      <td>Fungal Rebirth</td>\n",
       "      <td>\"we're all food for something in the end.\"\\n—cevraya, golgari shaman</td>\n",
       "      <td>11</td>\n",
       "      <td>4</td>\n",
       "      <td>2</td>\n",
       "      <td>False</td>\n",
       "      <td>G</td>\n",
       "      <td>B</td>\n",
       "    </tr>\n",
       "  </tbody>\n",
       "</table>\n",
       "<p>1945 rows × 8 columns</p>\n",
       "</div>"
      ],
      "text/plain": [
       "                         name  \\\n",
       "88228           Vampiric Fury   \n",
       "2952      Terrifying Presence   \n",
       "32362        Smelt-Ward Ignus   \n",
       "6697          Nurturing Pixie   \n",
       "25311  Journey for the Elixir   \n",
       "...                       ...   \n",
       "84772      Beasts of Bogardan   \n",
       "61494            Toxin Sliver   \n",
       "72632            Facet Reader   \n",
       "13677      Choose Your Weapon   \n",
       "26325          Fungal Rebirth   \n",
       "\n",
       "                                                                                                                            flavor_text  \\\n",
       "88228                       many peasants secretly admire vampires' glamour and elegance—until they witness a moment of pure bloodlust.   \n",
       "2952   elmut had slaughtered vampires, slain werewolves, and destroyed hordes of zombies. sadly, he never got over his fear of spiders.   \n",
       "32362                                                                                                          \"come in, yes? is warm!\"   \n",
       "6697                                                     \"count yourself lucky i came upon you. this is not a world of second chances.\"   \n",
       "25311                                         \"as my hands touched it, i realized that i had not found it—it had been leading me here.\"   \n",
       "...                                                                                                                                 ...   \n",
       "84772                                                                   bogardan is a land as volatile as the creatures who live there.   \n",
       "61494                                                                it doesn't need to use its venom—it just needs you to know it can.   \n",
       "72632                                                \"every flaw in the crystal represents a moment where our strategy might go wrong.\"   \n",
       "13677                                                                \"move it, varis, or i'll pick one for you!\"\\n—ellywick tumblestrum   \n",
       "26325                                                              \"we're all food for something in the end.\"\\n—cevraya, golgari shaman   \n",
       "\n",
       "       word_count label  predicted  correct label_color predicted_color  \n",
       "88228          15     3          0    False           R               W  \n",
       "2952           20     4          3    False           G               R  \n",
       "32362           5     3          2    False           R               B  \n",
       "6697           15     0          3    False           W               R  \n",
       "25311          18     4          0    False           G               W  \n",
       "...           ...   ...        ...      ...         ...             ...  \n",
       "84772          12     3          1    False           R               U  \n",
       "61494          14     2          3    False           B               R  \n",
       "72632          14     1          0    False           U               W  \n",
       "13677          11     4          3    False           G               R  \n",
       "26325          11     4          2    False           G               B  \n",
       "\n",
       "[1945 rows x 8 columns]"
      ]
     },
     "execution_count": 38,
     "metadata": {},
     "output_type": "execute_result"
    }
   ],
   "source": [
    "label_map_inv = {v: k for k, v in label_map.items()}\n",
    "test_df['label_color'] = test_df['label'].map(label_map_inv)\n",
    "test_df['predicted_color'] = test_df['predicted'].map(label_map_inv)\n",
    "\n",
    "\n",
    "pd.set_option('display.max_colwidth', None)\n",
    "test_df[test_df.correct == False]"
   ]
  },
  {
   "cell_type": "code",
   "execution_count": null,
   "id": "d8f6a5e2-a043-4664-8cfb-eda5500a1afa",
   "metadata": {},
   "outputs": [],
   "source": []
  }
 ],
 "metadata": {
  "kernelspec": {
   "display_name": "Python 3 (ipykernel)",
   "language": "python",
   "name": "python3"
  },
  "language_info": {
   "codemirror_mode": {
    "name": "ipython",
    "version": 3
   },
   "file_extension": ".py",
   "mimetype": "text/x-python",
   "name": "python",
   "nbconvert_exporter": "python",
   "pygments_lexer": "ipython3",
   "version": "3.12.7"
  },
  "varInspector": {
   "cols": {
    "lenName": 16,
    "lenType": 16,
    "lenVar": 40
   },
   "kernels_config": {
    "python": {
     "delete_cmd_postfix": "",
     "delete_cmd_prefix": "del ",
     "library": "var_list.py",
     "varRefreshCmd": "print(var_dic_list())"
    },
    "r": {
     "delete_cmd_postfix": ") ",
     "delete_cmd_prefix": "rm(",
     "library": "var_list.r",
     "varRefreshCmd": "cat(var_dic_list()) "
    }
   },
   "types_to_exclude": [
    "module",
    "function",
    "builtin_function_or_method",
    "instance",
    "_Feature"
   ],
   "window_display": false
  }
 },
 "nbformat": 4,
 "nbformat_minor": 5
}
