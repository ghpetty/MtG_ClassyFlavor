{
 "cells": [
  {
   "cell_type": "markdown",
   "id": "704d84dd-9670-490e-a975-053e28375431",
   "metadata": {},
   "source": [
    "# Welcome to Colorful Flavor!\n",
    "This is the first part of the **MtG Classy Flavor** project. Here we will be classifying a card's color from its flavor text. We will go over getting cards from the Scryfall API, parsing the card data with Pandas, and fitting a classifier with Scikit-Learn.  "
   ]
  },
  {
   "cell_type": "markdown",
   "id": "405fa5c7",
   "metadata": {},
   "source": [
    "## Get Card Data from Scryfall using the Scryfall API\n",
    "**Scryfall** is a powerful database and search engine for Magic: The Gathering cards. \n",
    "We will use their API to download the card data as a JSON file. We then convert the data to a pandas dataframe and isolate unique instances of flavor text.\n",
    "\n",
    "https://scryfall.com/docs/api \\\n",
    "https://scryfall.com/docs/api/bulk-data\n"
   ]
  },
  {
   "cell_type": "code",
   "execution_count": 13,
   "id": "fc17a3fb-47b9-4bbf-adc0-94f7fd25e6fc",
   "metadata": {
    "tags": []
   },
   "outputs": [],
   "source": [
    "import requests,time,os\n",
    "import numpy as np\n",
    "import pandas as pd\n",
    "import CF_standard_functions as cf# Custom functions\n",
    "import pickle as pkl"
   ]
  },
  {
   "cell_type": "markdown",
   "id": "548f20dc-ac5a-4d14-b564-ed4fd635df0b",
   "metadata": {},
   "source": [
    "First we query Scryfall to find the URI of the most up-to-date batch of card data. We want the address of the 'default_cards' dataset, which contains all unique prints of all cards. Once we have this address, we use it to download the raw card data.\n",
    "\n",
    "We then save the data locally with Pickle, so we can reload it without bothering Scryfall."
   ]
  },
  {
   "cell_type": "code",
   "execution_count": 32,
   "id": "6cccdeb1-52e7-45c2-8160-5edd808809e4",
   "metadata": {},
   "outputs": [
    {
     "name": "stdout",
     "output_type": "stream",
     "text": [
      "Loading card data from file...\n",
      "Done!\n",
      "20573 cards with unique flavor text in data set\n"
     ]
    }
   ],
   "source": [
    "# Set these directories to determine where to save/load the data from:\n",
    "savepath = \"C:\\\\Users\\\\gordo\\\\Documents\\\\Python Scripts\\\\Scryfall Projects\\\\MtG_ClassyFlavor\\\\\"\n",
    "filename = 'CardData.pkl'\n",
    "# Directory for getting data from Scryfall:\n",
    "sf_bulk_url = \"https://api.scryfall.com/bulk-data\"\n",
    "\n",
    "if (os.path.isfile(savepath+filename)) and (cf.file_age_in_hours(savepath+filename) < 24):\n",
    "    print('Loading card data from file...')\n",
    "    with open(savepath+filename,'rb') as datafile:\n",
    "        data = pkl.load(datafile)\n",
    "    print('Done!')\n",
    "else:\n",
    "    # Load raw data file and parse into dictionary\n",
    "    print('Downloading data from Scryfall')\n",
    "    sf_response = requests.get(sf_bulk_url).json()\n",
    "    data_size = np.round(download_dict['size'] / 1e6,1)\n",
    "    print(f\"Downloading {data_size} MB of card data...\")\n",
    "    card_data_raw = requests.get(download_dict['download_uri']).json()\n",
    "    print(\"Download complete!\")\n",
    "    # Convert to dataframe and trim to English cards from \"normal\" sets\n",
    "    data = pd.DataFrame(card_data_raw)\n",
    "    data.drop(data.index[data['set_type'] == 'funny'],inplace=True)\n",
    "    data.drop(data.index[data['lang']!='en'],inplace=True)\n",
    "    data.drop(data.index[data['flavor_text'].isnull()],inplace=True)\n",
    "    data['flavor_text'] = data.flavor_text.apply(lambda x : x.lower())\n",
    "    data.drop_duplicates(subset ='flavor_text',inplace=True)\n",
    "    print(\"Saving data to local file...\")\n",
    "    with open(savepath+filename,'wb') as datafile:\n",
    "        pkl.dump(data,datafile)\n",
    "    print('Done!')\n",
    "    \n",
    "nCards = data.shape[0]\n",
    "print(f\"{nCards} cards with unique flavor text in data set\")"
   ]
  },
  {
   "cell_type": "markdown",
   "id": "55cc9d84",
   "metadata": {},
   "source": [
    "### Organize cards by color\n",
    "In our first task we will classify flavor text by color. For convenience, we will make a new dataframe subsetting only the name, flavortext, and color of monocolored cards (i.e. excluding cards that have no color or are multiple colors).\\\n",
    "To make separating cards by colors easier, we add a Boolean variable to the dataframe for each color. We also add a Boolean for whether or not a card is monocolored. \\\n",
    "Finally, sort our cards in traditional **WUBRG** order (**W**hite, Bl**u**E, **B**lack, **R**ed, **G**reen) by setting the _colors_ variable to a categorical value.\n"
   ]
  },
  {
   "cell_type": "code",
   "execution_count": 56,
   "id": "3cadf824-4957-4064-ad9b-71be8577124d",
   "metadata": {
    "scrolled": true,
    "tags": []
   },
   "outputs": [
    {
     "data": {
      "text/html": [
       "<div>\n",
       "<style scoped>\n",
       "    .dataframe tbody tr th:only-of-type {\n",
       "        vertical-align: middle;\n",
       "    }\n",
       "\n",
       "    .dataframe tbody tr th {\n",
       "        vertical-align: top;\n",
       "    }\n",
       "\n",
       "    .dataframe thead th {\n",
       "        text-align: right;\n",
       "    }\n",
       "</style>\n",
       "<table border=\"1\" class=\"dataframe\">\n",
       "  <thead>\n",
       "    <tr style=\"text-align: right;\">\n",
       "      <th></th>\n",
       "      <th>name</th>\n",
       "      <th>colors</th>\n",
       "      <th>flavor_text</th>\n",
       "    </tr>\n",
       "  </thead>\n",
       "  <tbody>\n",
       "    <tr>\n",
       "      <th>68722</th>\n",
       "      <td>Lairwatch Giant</td>\n",
       "      <td>W</td>\n",
       "      <td>a giant can brood over a grudge for decades, and woe to those who interrupt him.</td>\n",
       "    </tr>\n",
       "    <tr>\n",
       "      <th>85952</th>\n",
       "      <td>Leonin Skyhunter</td>\n",
       "      <td>W</td>\n",
       "      <td>\"the infection has spread farther than we could glimpse from the heights of taj-nar.\"</td>\n",
       "    </tr>\n",
       "    <tr>\n",
       "      <th>34456</th>\n",
       "      <td>Rhox Veteran</td>\n",
       "      <td>W</td>\n",
       "      <td>\"battle is all about where you stand. never stand in my way.\"</td>\n",
       "    </tr>\n",
       "    <tr>\n",
       "      <th>6307</th>\n",
       "      <td>Sea Serpent</td>\n",
       "      <td>U</td>\n",
       "      <td>legend has it that serpents used to be bigger, but how could that be?</td>\n",
       "    </tr>\n",
       "    <tr>\n",
       "      <th>19994</th>\n",
       "      <td>Stromkirk Bloodthief</td>\n",
       "      <td>B</td>\n",
       "      <td>with house voldaren ascendant, some members of the stromkirk line took it upon themselves to \"borrow\" from the blood tithes.</td>\n",
       "    </tr>\n",
       "  </tbody>\n",
       "</table>\n",
       "</div>"
      ],
      "text/plain": [
       "                       name colors  \\\n",
       "68722       Lairwatch Giant      W   \n",
       "85952      Leonin Skyhunter      W   \n",
       "34456          Rhox Veteran      W   \n",
       "6307            Sea Serpent      U   \n",
       "19994  Stromkirk Bloodthief      B   \n",
       "\n",
       "                                                                                                                        flavor_text  \n",
       "68722                                              a giant can brood over a grudge for decades, and woe to those who interrupt him.  \n",
       "85952                                         \"the infection has spread farther than we could glimpse from the heights of taj-nar.\"  \n",
       "34456                                                                 \"battle is all about where you stand. never stand in my way.\"  \n",
       "6307                                                          legend has it that serpents used to be bigger, but how could that be?  \n",
       "19994  with house voldaren ascendant, some members of the stromkirk line took it upon themselves to \"borrow\" from the blood tithes.  "
      ]
     },
     "execution_count": 56,
     "metadata": {},
     "output_type": "execute_result"
    }
   ],
   "source": [
    "for c in ['W','U','B','R','G']:\n",
    "    tf = data.colors.apply(lambda x : np.shape(x) != (0,) and np.any(np.isin(x,c)))\n",
    "    data['is_'+c] = tf\n",
    "\n",
    "data['is_monocolor'] = np.sum(data.loc[:][['is_W','is_U','is_B','is_R','is_G']],axis=1) == 1\n",
    "\n",
    "data_monocolor = data.loc[data.is_monocolor][['name','colors','flavor_text']].copy()\n",
    "data_monocolor['colors'] = data_monocolor.colors.apply(lambda x: ''.join(x)) # Convert from list to string\n",
    "\n",
    "data_monocolor['colors'] = pd.Categorical(data_monocolor['colors'],ordered=True)\n",
    "data_monocolor['colors'] = data_monocolor['colors'].cat.reorder_categories(['W','U','B','R','G'])\n",
    "data_monocolor.sort_values('colors',ascending=True,inplace=True)\n",
    "data_monocolor.sample(5)"
   ]
  },
  {
   "cell_type": "markdown",
   "id": "23b594d7",
   "metadata": {},
   "source": [
    "### Prepare data for classification\n",
    "\n",
    "We will be classifying our cards with **Scikit-Learn**. Sckit-Learn needs numerical categories, not strings. So we will map each color string to a number:"
   ]
  },
  {
   "cell_type": "code",
   "execution_count": 57,
   "id": "ad1e0fcf",
   "metadata": {
    "tags": []
   },
   "outputs": [
    {
     "data": {
      "text/html": [
       "<div>\n",
       "<style scoped>\n",
       "    .dataframe tbody tr th:only-of-type {\n",
       "        vertical-align: middle;\n",
       "    }\n",
       "\n",
       "    .dataframe tbody tr th {\n",
       "        vertical-align: top;\n",
       "    }\n",
       "\n",
       "    .dataframe thead th {\n",
       "        text-align: right;\n",
       "    }\n",
       "</style>\n",
       "<table border=\"1\" class=\"dataframe\">\n",
       "  <thead>\n",
       "    <tr style=\"text-align: right;\">\n",
       "      <th></th>\n",
       "      <th>name</th>\n",
       "      <th>colors</th>\n",
       "      <th>flavor_text</th>\n",
       "      <th>label</th>\n",
       "    </tr>\n",
       "  </thead>\n",
       "  <tbody>\n",
       "    <tr>\n",
       "      <th>28705</th>\n",
       "      <td>Purify</td>\n",
       "      <td>W</td>\n",
       "      <td>\"our mother! the sky was her hair; the sun, her face. she danced on the grass and in the hills.\"\\n—*song of all*, canto 23</td>\n",
       "      <td>0</td>\n",
       "    </tr>\n",
       "    <tr>\n",
       "      <th>78400</th>\n",
       "      <td>Cosi's Trickster</td>\n",
       "      <td>U</td>\n",
       "      <td>she watches the chaos created by the roil, seeking strength in the patterns of anarchy.</td>\n",
       "      <td>1</td>\n",
       "    </tr>\n",
       "    <tr>\n",
       "      <th>34506</th>\n",
       "      <td>Coral Merfolk</td>\n",
       "      <td>U</td>\n",
       "      <td>merfolk are best known for their subtle magic. but those who try to fight them in their own territory quickly realize that merfolk are hardly defenseless on the field of battle.</td>\n",
       "      <td>1</td>\n",
       "    </tr>\n",
       "    <tr>\n",
       "      <th>64986</th>\n",
       "      <td>Shared Animosity</td>\n",
       "      <td>R</td>\n",
       "      <td>\"it is the nature of souls that they burn more brightly together than apart.\"\\n—vessifrus, flamekin demagogue</td>\n",
       "      <td>3</td>\n",
       "    </tr>\n",
       "    <tr>\n",
       "      <th>57484</th>\n",
       "      <td>Omen of the Sea</td>\n",
       "      <td>U</td>\n",
       "      <td>\"my time will come, when the rising tide will surge above the tallest mountain.\"</td>\n",
       "      <td>1</td>\n",
       "    </tr>\n",
       "  </tbody>\n",
       "</table>\n",
       "</div>"
      ],
      "text/plain": [
       "                   name colors  \\\n",
       "28705            Purify      W   \n",
       "78400  Cosi's Trickster      U   \n",
       "34506     Coral Merfolk      U   \n",
       "64986  Shared Animosity      R   \n",
       "57484   Omen of the Sea      U   \n",
       "\n",
       "                                                                                                                                                                             flavor_text  \\\n",
       "28705                                                         \"our mother! the sky was her hair; the sun, her face. she danced on the grass and in the hills.\"\\n—*song of all*, canto 23   \n",
       "78400                                                                                            she watches the chaos created by the roil, seeking strength in the patterns of anarchy.   \n",
       "34506  merfolk are best known for their subtle magic. but those who try to fight them in their own territory quickly realize that merfolk are hardly defenseless on the field of battle.   \n",
       "64986                                                                      \"it is the nature of souls that they burn more brightly together than apart.\"\\n—vessifrus, flamekin demagogue   \n",
       "57484                                                                                                   \"my time will come, when the rising tide will surge above the tallest mountain.\"   \n",
       "\n",
       "      label  \n",
       "28705     0  \n",
       "78400     1  \n",
       "34506     1  \n",
       "64986     3  \n",
       "57484     1  "
      ]
     },
     "execution_count": 57,
     "metadata": {},
     "output_type": "execute_result"
    }
   ],
   "source": [
    "label_map = {'W':0,\n",
    "             'U':1,\n",
    "             'B':2,\n",
    "             'R':3,\n",
    "             'G':4}\n",
    "data_monocolor['label'] = data_monocolor['colors'].map(label_map)\n",
    "data_monocolor.sample(5)"
   ]
  },
  {
   "cell_type": "markdown",
   "id": "15d84020-6930-4a94-9253-1218b9081dcb",
   "metadata": {},
   "source": [
    "### Split data into train and test sets\n",
    "\n",
    "Using ScikitLearn's train_test_split, split our ~16,000 cards into a training set (75%) and a test set (25%). "
   ]
  },
  {
   "cell_type": "code",
   "execution_count": 58,
   "id": "9d4a4160-4cd4-4204-b0b6-8353567287ed",
   "metadata": {},
   "outputs": [
    {
     "name": "stdout",
     "output_type": "stream",
     "text": [
      "Training set consists of 11917 cards.\n",
      "Test set consists of 3973 cards.\n"
     ]
    }
   ],
   "source": [
    "from sklearn.model_selection import train_test_split\n",
    "\n",
    "flavor_train, flavor_test, label_train, label_test = train_test_split(\n",
    "        data_monocolor['flavor_text'], data_monocolor['label'], test_size=0.25, random_state=42)\n",
    "\n",
    "print('Training set consists of',flavor_train.shape[0],'cards.')\n",
    "print('Test set consists of',flavor_test.shape[0],'cards.')\n"
   ]
  },
  {
   "cell_type": "markdown",
   "id": "b97d59c9-e900-4319-83f1-708cc3a5b48b",
   "metadata": {},
   "source": [
    "## Design our Model!\n",
    "First we _tokenize_ the words in flavor text and convert them to numeric values, ignoring terms that are extremely common and those that only appear 3 or fewer times in the training set. \\\n",
    "Then, we fit a Linear Support Vector Classifier on our training data. \\\n",
    "These two steps can be wrapped up together in a ScikitLearn Pipeline object."
   ]
  },
  {
   "cell_type": "code",
   "execution_count": 59,
   "id": "ca31d8b8-96c8-47db-bf4a-f8fd07273c48",
   "metadata": {},
   "outputs": [],
   "source": [
    "from sklearn.feature_extraction.text import TfidfVectorizer\n",
    "from sklearn.svm import LinearSVC\n",
    "from sklearn.pipeline import Pipeline\n",
    "my_vectorizer = TfidfVectorizer(min_df = 3,max_df=0.95)\n",
    "my_linSVC = LinearSVC(C=1)\n",
    "pipe = Pipeline([('vect',my_vectorizer),\n",
    "               ('clf',my_linSVC)])\n",
    "\n",
    "pipe = pipe.fit(flavor_train,label_train)"
   ]
  },
  {
   "cell_type": "markdown",
   "id": "64241c06-bb32-40a2-8881-8d2c7fe5e06a",
   "metadata": {},
   "source": [
    "#### Measure model accuracy on test data"
   ]
  },
  {
   "cell_type": "code",
   "execution_count": 60,
   "id": "eedd2e1c-f391-41d2-b0fe-b19aee42e966",
   "metadata": {},
   "outputs": [
    {
     "name": "stdout",
     "output_type": "stream",
     "text": [
      "Classifier accuracy is 50.8%\n"
     ]
    }
   ],
   "source": [
    "label_predict = pipe.predict(flavor_test)\n",
    "performance = sum(label_predict == label_test) / len(label_test) * 100\n",
    "print(f\"Classifier accuracy is {np.round(performance,1)}%\")"
   ]
  },
  {
   "cell_type": "markdown",
   "id": "7a4b3be7-7c69-4854-b678-86984ae4f028",
   "metadata": {},
   "source": [
    "#### Visualize model performance with a confusion matrix"
   ]
  },
  {
   "cell_type": "code",
   "execution_count": 61,
   "id": "ce624424-2750-460a-830a-1b57bedbdcb0",
   "metadata": {
    "tags": []
   },
   "outputs": [
    {
     "name": "stdout",
     "output_type": "stream",
     "text": [
      "              precision    recall  f1-score   support\n",
      "\n",
      "           W       0.48      0.53      0.50       814\n",
      "           U       0.53      0.52      0.52       798\n",
      "           B       0.51      0.49      0.50       803\n",
      "           R       0.50      0.48      0.49       812\n",
      "           G       0.53      0.53      0.53       746\n",
      "\n",
      "    accuracy                           0.51      3973\n",
      "   macro avg       0.51      0.51      0.51      3973\n",
      "weighted avg       0.51      0.51      0.51      3973\n",
      "\n"
     ]
    },
    {
     "data": {
      "image/png": "[encoded data removed]",
      "text/plain": [
       "<Figure size 720x720 with 2 Axes>"
      ]
     },
     "metadata": {
      "needs_background": "light"
     },
     "output_type": "display_data"
    }
   ],
   "source": [
    "from sklearn import metrics\n",
    "import seaborn as sns\n",
    "from matplotlib import pyplot as plt\n",
    "\n",
    "print(metrics.classification_report(label_test, label_predict,target_names = [str(i) for i in label_map]))\n",
    "\n",
    "cm = metrics.confusion_matrix(label_test, label_predict,normalize='true',\n",
    "                              labels=list(label_map.values()))\n",
    "\n",
    "fig, ax = plt.subplots(figsize=(10,10))\n",
    "sns.heatmap(cm, annot=True, fmt='.2f',xticklabels=[str(i) for i in label_map],yticklabels=[str(i) for i in label_map])\n",
    "plt.ylabel('Actual')\n",
    "plt.xlabel('Predicted')\n",
    "plt.show(block=False)\n"
   ]
  },
  {
   "cell_type": "markdown",
   "id": "9353294c-ebc1-4642-aae5-11507965fa47",
   "metadata": {},
   "source": [
    "**Not too shabby!** \\\n",
    "Our classifier gets the correct color a hair over 50% of the time. This might not seem very accurate, but remember that there are five colors, so we would only have about a 20% hit rate by randomly guessing. \n",
    "\n",
    "We can also write our own flavor text and see what color our model thinks it belongs to!"
   ]
  },
  {
   "cell_type": "code",
   "execution_count": 11,
   "id": "d5d747a1-64f6-4016-a586-0e26670d6ecb",
   "metadata": {
    "tags": []
   },
   "outputs": [
    {
     "name": "stdout",
     "output_type": "stream",
     "text": [
      "Goblins sure do smell bad --> R\n",
      "Your spell was a mistake and now it is gone --> U\n",
      "Trees are the most beautiful thing --> G\n",
      "Death cannot stop the wicked --> B\n",
      "The angelic choir sings loftily over the clouds --> W\n",
      "\"Some like it hot\" -Chandra Nalaar --> R\n"
     ]
    }
   ],
   "source": [
    "new_flavor_text = ['Goblins sure do smell bad',\n",
    "              'Your spell was a mistake and now it is gone',\n",
    "              'Trees are the most beautiful thing',\n",
    "              'Death cannot stop the wicked',\n",
    "              'The angelic choir sings loftily over the clouds',\n",
    "              '\"Some like it hot\" -Chandra Nalaar']\n",
    "\n",
    "new_color_predictions = pipe.predict(new_flavor_text)\n",
    "# Reverse-lookup color mapping    \n",
    "for txt,col in zip(new_flavor_text,new_color_predictions):\n",
    "    print(f\"{txt} --> {[str(i) for i in label_map][col]}\")"
   ]
  },
  {
   "cell_type": "markdown",
   "id": "265c1e75-9709-4713-a4ae-5e045362c103",
   "metadata": {},
   "source": [
    "**Lets see if we can do better by tokenizing word pairs as well as individual words**"
   ]
  },
  {
   "cell_type": "code",
   "execution_count": 62,
   "id": "24972038-4394-4223-b349-bd37abd3f42d",
   "metadata": {
    "tags": []
   },
   "outputs": [
    {
     "name": "stdout",
     "output_type": "stream",
     "text": [
      "Classifier hit rate is 50.8%\n"
     ]
    }
   ],
   "source": [
    "performance = sum(label_predict == label_test) / len(label_test)*100\n",
    "print(f'Classifier hit rate is {np.round(performance,1)}%')\n",
    "pipe.set_params(vect__ngram_range = (1,2))\n",
    "pipe.fit(flavor_train,label_train)\n",
    "color_predict = pipe.predict(flavor_test)\n"
   ]
  },
  {
   "cell_type": "markdown",
   "id": "2af4e8a2-c5bb-4adb-bb4a-0f9589aefb95",
   "metadata": {},
   "source": [
    "Looks like that didn't make a difference. Lets do a more thorough optimization using a parameter grid search:\n",
    "(this takes a long time to run, check the Python kernal for progress updates)"
   ]
  },
  {
   "cell_type": "code",
   "execution_count": 63,
   "id": "385d1f45-ae6c-4fbf-8538-db23c8927d59",
   "metadata": {},
   "outputs": [
    {
     "name": "stdout",
     "output_type": "stream",
     "text": [
      "Fitting 5 folds for each of 72 candidates, totalling 360 fits\n",
      "0.5045741015076028\n",
      "{'clf__C': 0.1, 'vect__max_df': 0.8, 'vect__min_df': 1, 'vect__ngram_range': (1, 1)}\n"
     ]
    },
    {
     "data": {
      "text/html": [
       "<div>\n",
       "<style scoped>\n",
       "    .dataframe tbody tr th:only-of-type {\n",
       "        vertical-align: middle;\n",
       "    }\n",
       "\n",
       "    .dataframe tbody tr th {\n",
       "        vertical-align: top;\n",
       "    }\n",
       "\n",
       "    .dataframe thead th {\n",
       "        text-align: right;\n",
       "    }\n",
       "</style>\n",
       "<table border=\"1\" class=\"dataframe\">\n",
       "  <thead>\n",
       "    <tr style=\"text-align: right;\">\n",
       "      <th></th>\n",
       "      <th>mean_fit_time</th>\n",
       "      <th>std_fit_time</th>\n",
       "      <th>mean_score_time</th>\n",
       "      <th>std_score_time</th>\n",
       "      <th>param_clf__C</th>\n",
       "      <th>param_vect__max_df</th>\n",
       "      <th>param_vect__min_df</th>\n",
       "      <th>param_vect__ngram_range</th>\n",
       "      <th>params</th>\n",
       "      <th>split0_test_score</th>\n",
       "      <th>split1_test_score</th>\n",
       "      <th>split2_test_score</th>\n",
       "      <th>split3_test_score</th>\n",
       "      <th>split4_test_score</th>\n",
       "      <th>mean_test_score</th>\n",
       "      <th>std_test_score</th>\n",
       "      <th>rank_test_score</th>\n",
       "    </tr>\n",
       "  </thead>\n",
       "  <tbody>\n",
       "    <tr>\n",
       "      <th>0</th>\n",
       "      <td>0.487111</td>\n",
       "      <td>0.004474</td>\n",
       "      <td>0.059214</td>\n",
       "      <td>0.002038</td>\n",
       "      <td>0.01</td>\n",
       "      <td>0.8</td>\n",
       "      <td>1</td>\n",
       "      <td>(1, 1)</td>\n",
       "      <td>{'clf__C': 0.01, 'vect__max_df': 0.8, 'vect__min_df': 1, 'vect__ngram_range': (1, 1)}</td>\n",
       "      <td>0.449664</td>\n",
       "      <td>0.443372</td>\n",
       "      <td>0.444817</td>\n",
       "      <td>0.464960</td>\n",
       "      <td>0.460344</td>\n",
       "      <td>0.452632</td>\n",
       "      <td>0.008568</td>\n",
       "      <td>57</td>\n",
       "    </tr>\n",
       "    <tr>\n",
       "      <th>1</th>\n",
       "      <td>1.381314</td>\n",
       "      <td>0.042945</td>\n",
       "      <td>0.126428</td>\n",
       "      <td>0.003262</td>\n",
       "      <td>0.01</td>\n",
       "      <td>0.8</td>\n",
       "      <td>1</td>\n",
       "      <td>(1, 2)</td>\n",
       "      <td>{'clf__C': 0.01, 'vect__max_df': 0.8, 'vect__min_df': 1, 'vect__ngram_range': (1, 2)}</td>\n",
       "      <td>0.429530</td>\n",
       "      <td>0.421980</td>\n",
       "      <td>0.427612</td>\n",
       "      <td>0.435585</td>\n",
       "      <td>0.437684</td>\n",
       "      <td>0.430478</td>\n",
       "      <td>0.005645</td>\n",
       "      <td>69</td>\n",
       "    </tr>\n",
       "    <tr>\n",
       "      <th>2</th>\n",
       "      <td>0.510515</td>\n",
       "      <td>0.015334</td>\n",
       "      <td>0.062814</td>\n",
       "      <td>0.005457</td>\n",
       "      <td>0.01</td>\n",
       "      <td>0.8</td>\n",
       "      <td>2</td>\n",
       "      <td>(1, 1)</td>\n",
       "      <td>{'clf__C': 0.01, 'vect__max_df': 0.8, 'vect__min_df': 2, 'vect__ngram_range': (1, 1)}</td>\n",
       "      <td>0.452181</td>\n",
       "      <td>0.447148</td>\n",
       "      <td>0.449014</td>\n",
       "      <td>0.467058</td>\n",
       "      <td>0.459085</td>\n",
       "      <td>0.454897</td>\n",
       "      <td>0.007314</td>\n",
       "      <td>49</td>\n",
       "    </tr>\n",
       "    <tr>\n",
       "      <th>3</th>\n",
       "      <td>0.906005</td>\n",
       "      <td>0.012863</td>\n",
       "      <td>0.116226</td>\n",
       "      <td>0.021100</td>\n",
       "      <td>0.01</td>\n",
       "      <td>0.8</td>\n",
       "      <td>2</td>\n",
       "      <td>(1, 2)</td>\n",
       "      <td>{'clf__C': 0.01, 'vect__max_df': 0.8, 'vect__min_df': 2, 'vect__ngram_range': (1, 2)}</td>\n",
       "      <td>0.440856</td>\n",
       "      <td>0.432886</td>\n",
       "      <td>0.446076</td>\n",
       "      <td>0.451532</td>\n",
       "      <td>0.451951</td>\n",
       "      <td>0.444660</td>\n",
       "      <td>0.007148</td>\n",
       "      <td>65</td>\n",
       "    </tr>\n",
       "    <tr>\n",
       "      <th>4</th>\n",
       "      <td>0.474108</td>\n",
       "      <td>0.022285</td>\n",
       "      <td>0.057613</td>\n",
       "      <td>0.002871</td>\n",
       "      <td>0.01</td>\n",
       "      <td>0.8</td>\n",
       "      <td>3</td>\n",
       "      <td>(1, 1)</td>\n",
       "      <td>{'clf__C': 0.01, 'vect__max_df': 0.8, 'vect__min_df': 3, 'vect__ngram_range': (1, 1)}</td>\n",
       "      <td>0.454698</td>\n",
       "      <td>0.446728</td>\n",
       "      <td>0.444398</td>\n",
       "      <td>0.463282</td>\n",
       "      <td>0.458246</td>\n",
       "      <td>0.453470</td>\n",
       "      <td>0.007048</td>\n",
       "      <td>53</td>\n",
       "    </tr>\n",
       "  </tbody>\n",
       "</table>\n",
       "</div>"
      ],
      "text/plain": [
       "   mean_fit_time  std_fit_time  mean_score_time  std_score_time param_clf__C  \\\n",
       "0       0.487111      0.004474         0.059214        0.002038         0.01   \n",
       "1       1.381314      0.042945         0.126428        0.003262         0.01   \n",
       "2       0.510515      0.015334         0.062814        0.005457         0.01   \n",
       "3       0.906005      0.012863         0.116226        0.021100         0.01   \n",
       "4       0.474108      0.022285         0.057613        0.002871         0.01   \n",
       "\n",
       "  param_vect__max_df param_vect__min_df param_vect__ngram_range  \\\n",
       "0                0.8                  1                  (1, 1)   \n",
       "1                0.8                  1                  (1, 2)   \n",
       "2                0.8                  2                  (1, 1)   \n",
       "3                0.8                  2                  (1, 2)   \n",
       "4                0.8                  3                  (1, 1)   \n",
       "\n",
       "                                                                                  params  \\\n",
       "0  {'clf__C': 0.01, 'vect__max_df': 0.8, 'vect__min_df': 1, 'vect__ngram_range': (1, 1)}   \n",
       "1  {'clf__C': 0.01, 'vect__max_df': 0.8, 'vect__min_df': 1, 'vect__ngram_range': (1, 2)}   \n",
       "2  {'clf__C': 0.01, 'vect__max_df': 0.8, 'vect__min_df': 2, 'vect__ngram_range': (1, 1)}   \n",
       "3  {'clf__C': 0.01, 'vect__max_df': 0.8, 'vect__min_df': 2, 'vect__ngram_range': (1, 2)}   \n",
       "4  {'clf__C': 0.01, 'vect__max_df': 0.8, 'vect__min_df': 3, 'vect__ngram_range': (1, 1)}   \n",
       "\n",
       "   split0_test_score  split1_test_score  split2_test_score  split3_test_score  \\\n",
       "0           0.449664           0.443372           0.444817           0.464960   \n",
       "1           0.429530           0.421980           0.427612           0.435585   \n",
       "2           0.452181           0.447148           0.449014           0.467058   \n",
       "3           0.440856           0.432886           0.446076           0.451532   \n",
       "4           0.454698           0.446728           0.444398           0.463282   \n",
       "\n",
       "   split4_test_score  mean_test_score  std_test_score  rank_test_score  \n",
       "0           0.460344         0.452632        0.008568               57  \n",
       "1           0.437684         0.430478        0.005645               69  \n",
       "2           0.459085         0.454897        0.007314               49  \n",
       "3           0.451951         0.444660        0.007148               65  \n",
       "4           0.458246         0.453470        0.007048               53  "
      ]
     },
     "execution_count": 63,
     "metadata": {},
     "output_type": "execute_result"
    }
   ],
   "source": [
    "from sklearn.model_selection import GridSearchCV \n",
    "\n",
    "parameters = {\n",
    "    'vect__ngram_range': [(1, 1), (1, 2)] ,\n",
    "    'vect__max_df': [0.8,0.9,0.95,0.99],\n",
    "    'vect__min_df': [1,2,3],\n",
    "    'clf__C':       [0.01,0.1,1]}\n",
    "gs = GridSearchCV(pipe, parameters, n_jobs=-1,verbose=3)\n",
    "gs.fit(flavor_train,label_train)\n",
    "\n",
    "gs_df = pd.DataFrame.from_dict(gs.cv_results_)\n",
    "\n",
    "print(gs.best_score_)\n",
    "print(gs.best_params_)\n",
    "gs_df.head()"
   ]
  },
  {
   "cell_type": "markdown",
   "id": "b47fda89-4b37-428f-bb38-e52174ffb81f",
   "metadata": {},
   "source": [
    "**Plot the relationships between model parameters and model score**"
   ]
  },
  {
   "cell_type": "code",
   "execution_count": 64,
   "id": "b3cecb98-9558-4b21-8355-78a3efd6bf82",
   "metadata": {},
   "outputs": [
    {
     "data": {
      "image/png": "[encoded data removed]",
      "text/plain": [
       "<Figure size 720x504 with 4 Axes>"
      ]
     },
     "metadata": {
      "needs_background": "light"
     },
     "output_type": "display_data"
    }
   ],
   "source": [
    "fig,ax = plt.subplots(2,2,sharey=True,figsize=[10,7])\n",
    "sns.scatterplot(data=gs_df,ax=ax[0][0],x='param_clf__C',y='mean_test_score')\n",
    "sns.scatterplot(data=gs_df,ax=ax[0][1],x='param_vect__max_df',y='mean_test_score')\n",
    "ngram_range_max = [i[1] for i in gs_df.loc[:,'param_vect__ngram_range']]\n",
    "sns.scatterplot(data=gs_df,ax=ax[1][0],x=ngram_range_max,y='mean_test_score')\n",
    "ax[1][0].set_xlabel('vect_ngram_range')\n",
    "sns.scatterplot(data=gs_df,ax=ax[1][1],x='param_vect__min_df',y='mean_test_score')\n",
    "ax[0][0].set_xscale('log')"
   ]
  },
  {
   "cell_type": "markdown",
   "id": "eebe800b-a7b3-46b6-81e4-b3d00d3efa77",
   "metadata": {},
   "source": [
    "From these plots, it looks like the C parameter of the LinearSVC is the most important parameter to adjust, though differences in how we vectorize the text can help a bit.\\\n",
    "_max_cf_ has little effect, and a higher _max_cf_ value means we are removing more words from our lexicon, so let's leave that at 0.95 to keep more words in our model without hurting performance.\n",
    "\n",
    "**Retrain the model with these new parameters**"
   ]
  },
  {
   "cell_type": "code",
   "execution_count": 65,
   "id": "c8a8deb4-685d-431a-9f62-f099fc93db4e",
   "metadata": {},
   "outputs": [
    {
     "name": "stdout",
     "output_type": "stream",
     "text": [
      "Optimized classifier hit rate is 52.0%\n"
     ]
    }
   ],
   "source": [
    "pipe.set_params(vect__max_df = 0.95,\n",
    "                vect__min_df=1,\n",
    "                vect__ngram_range=(1,1),\n",
    "                clf__C = 0.1)\n",
    "pipe.fit(flavor_train,label_train)\n",
    "label_predict = pipe.predict(flavor_test)\n",
    "performance = np.round(sum(label_predict == label_test) / len(label_test) , 4)*100\n",
    "print('Optimized classifier hit rate is %s%%' % np.round(performance,1))"
   ]
  },
  {
   "cell_type": "markdown",
   "id": "730ce85c-e283-47ea-914e-ddd43ac45be1",
   "metadata": {
    "jupyter": {
     "source_hidden": true
    },
    "tags": []
   },
   "source": [
    "## Investigate the Model\n",
    "Now that we have an optimized model, lets look into what types of text the model does well or poorly on. \\\n",
    "For now, we will only look at cards in our test set (to avoid re-running the model several times). \n",
    "\n",
    "One likely cause of misclassification is from cards with very short flavor text. We can check this by plotting the portion of correct classifications as a function of flavor text length.\n",
    "\n",
    "First, let's look at the distribution of the number of words in flavor text, binning by 5 words:"
   ]
  },
  {
   "cell_type": "code",
   "execution_count": 66,
   "id": "6ead03c9-bb5f-4198-9b05-8f859d8ba14e",
   "metadata": {
    "collapsed": true,
    "jupyter": {
     "outputs_hidden": true,
     "source_hidden": true
    },
    "tags": []
   },
   "outputs": [
    {
     "data": {
      "text/plain": [
       "[Text(0, 0.5, 'Count of Cards'),\n",
       " Text(0.5, 0, 'Number of Words in Flavor Text')]"
      ]
     },
     "execution_count": 66,
     "metadata": {},
     "output_type": "execute_result"
    },
    {
     "data": {
      "image/png": "[encoded data removed]",
      "text/plain": [
       "<Figure size 432x288 with 1 Axes>"
      ]
     },
     "metadata": {
      "needs_background": "light"
     },
     "output_type": "display_data"
    }
   ],
   "source": [
    "# Put test data into a dataframe for easier plotting and indexing\n",
    "test_df = pd.DataFrame(data={'flavor_text':flavor_test,'label':label_test})\n",
    "test_df['word_count'] = test_df.flavor_text.apply(lambda x : len(x.split()))\n",
    "test_df['predicted'] = pipe.predict(test_df['flavor_text'])\n",
    "test_df['correct'] = np.equal(test_df['label'],test_df['predicted'])\n",
    "test_df = pd.concat([test_df,data_monocolor['name']],axis=1,join='inner')\n",
    "test_df = test_df[['name','flavor_text','word_count','label','predicted','correct']]\n",
    "\n",
    "bins = np.arange(0,45,5)\n",
    "ax = plt.axes()\n",
    "sns.histplot(data=test_df,x='word_count',bins=bins,ax=ax)\n",
    "ax.set(ylabel='Count of Cards',xlabel='Number of Words in Flavor Text')"
   ]
  },
  {
   "cell_type": "markdown",
   "id": "f65a438c-0eba-487a-8b22-8522a7dde220",
   "metadata": {},
   "source": [
    "Now for each bin, find the proportion of cards in that bin that are correctly classified:"
   ]
  },
  {
   "cell_type": "code",
   "execution_count": 67,
   "id": "d03d78c8-9274-43df-adc0-39f099e04efa",
   "metadata": {
    "collapsed": true,
    "jupyter": {
     "outputs_hidden": true,
     "source_hidden": true
    },
    "tags": []
   },
   "outputs": [
    {
     "data": {
      "text/plain": [
       "<matplotlib.legend.Legend at 0x2d86c5ffc40>"
      ]
     },
     "execution_count": 67,
     "metadata": {},
     "output_type": "execute_result"
    },
    {
     "data": {
      "image/png": "[encoded data removed]",
      "text/plain": [
       "<Figure size 432x288 with 1 Axes>"
      ]
     },
     "metadata": {
      "needs_background": "light"
     },
     "output_type": "display_data"
    }
   ],
   "source": [
    "# Preallocate arrays\n",
    "counts_correct = np.zeros(len(bins)-1)\n",
    "counts_all =   np.zeros(len(bins)-1)\n",
    "for i in range(len(bins)-1):\n",
    "    sub_data = test_df[(test_df.word_count > bins[i]) & (test_df.word_count <= bins[i+1])]\n",
    "    counts_correct[i] = sum(sub_data.correct)\n",
    "    counts_all[i] = sub_data.shape[0]\n",
    "plot_bin_width = (bins[1]-bins[0])*0.8\n",
    "    \n",
    "hit_rate = counts_correct / counts_all\n",
    "bar_x = [np.mean([y,z]) for y,z in zip(bins[:-1],bins[1:])]\n",
    "bar_df = pd.DataFrame({'Bin':bins[:-1],'Correct_Rate':hit_rate,'Incorrect_Rate':1-np.array(hit_rate)})\n",
    "miss_bar = plt.bar(bins[:-1],np.ones(np.size(hit_rate)),align='edge',width=plot_bin_width,\n",
    "                   edgecolor='k',color=[0.3,0,0.3])\n",
    "hit_bar = plt.bar(bins[:-1],hit_rate,align='edge',width=plot_bin_width,\n",
    "                  edgecolor='k',color=[0.9,0.7,0])\n",
    "plt.ylabel('Classification Rate')\n",
    "plt.xlabel('Word Count')\n",
    "miss_bar.set_label('Incorrect')\n",
    "hit_bar.set_label('Correct')\n",
    "plt.legend()"
   ]
  },
  {
   "cell_type": "markdown",
   "id": "1705d79d-6a82-46f4-ae40-f9d0db792b25",
   "metadata": {},
   "source": [
    "It looks like there might be a weak relationship between word count and classifier accuracy. We can test this hypothesis with a simple logistic regression:"
   ]
  },
  {
   "cell_type": "code",
   "execution_count": 68,
   "id": "fa17e7b7-df12-4489-9b22-468dcb8b6325",
   "metadata": {},
   "outputs": [
    {
     "name": "stdout",
     "output_type": "stream",
     "text": [
      "Optimization terminated successfully.\n",
      "         Current function value: 0.691824\n",
      "         Iterations 4\n",
      "                           Logit Regression Results                           \n",
      "==============================================================================\n",
      "Dep. Variable:                correct   No. Observations:                 3973\n",
      "Model:                          Logit   Df Residuals:                     3971\n",
      "Method:                           MLE   Df Model:                            1\n",
      "Date:                Tue, 17 Oct 2023   Pseudo R-squ.:               0.0007539\n",
      "Time:                        14:39:26   Log-Likelihood:                -2748.6\n",
      "converged:                       True   LL-Null:                       -2750.7\n",
      "Covariance Type:            nonrobust   LLR p-value:                   0.04170\n",
      "==============================================================================\n",
      "                 coef    std err          z      P>|z|      [0.025      0.975]\n",
      "------------------------------------------------------------------------------\n",
      "const         -0.0652      0.078     -0.834      0.404      -0.218       0.088\n",
      "x1             0.0094      0.005      2.033      0.042       0.000       0.018\n",
      "==============================================================================\n"
     ]
    }
   ],
   "source": [
    "from scipy.special import expit # Logistic sigmoid function\n",
    "import statsmodels.api as sm\n",
    "from scipy import stats\n",
    "\n",
    "X = np.array(test_df['word_count'])\n",
    "y = test_df['correct']\n",
    "X = sm.add_constant(X)\n",
    "model = sm.Logit(y, X).fit()\n",
    "print(model.summary())"
   ]
  },
  {
   "cell_type": "code",
   "execution_count": 69,
   "id": "ca689a49-3152-450f-b53e-b368e1183c0b",
   "metadata": {},
   "outputs": [
    {
     "data": {
      "text/plain": [
       "<matplotlib.collections.PathCollection at 0x2d86c0dab20>"
      ]
     },
     "execution_count": 69,
     "metadata": {},
     "output_type": "execute_result"
    },
    {
     "data": {
      "image/png": "[encoded data removed]",
      "text/plain": [
       "<Figure size 432x288 with 1 Axes>"
      ]
     },
     "metadata": {
      "needs_background": "light"
     },
     "output_type": "display_data"
    }
   ],
   "source": [
    "X_predict = np.arange(0,50)\n",
    "X_predict = sm.add_constant(X_predict)\n",
    "pred = model.predict(X_predict)\n",
    "plt.plot(X_predict[:,1],pred,color='r')\n",
    "plt.scatter(test_df['word_count'],test_df['correct'],color='k')"
   ]
  },
  {
   "cell_type": "markdown",
   "id": "345529df-6472-4387-b20e-402f6f04638d",
   "metadata": {},
   "source": [
    "This model is significant, but only explains a tiny fraction of the variance in the data (low R<sup>2</sup>). So our classifier performs only marginally better on longer pieces of text."
   ]
  },
  {
   "cell_type": "code",
   "execution_count": 70,
   "id": "ca4ca664-fc48-49ed-a740-31576c536559",
   "metadata": {},
   "outputs": [
    {
     "data": {
      "text/html": [
       "<div>\n",
       "<style scoped>\n",
       "    .dataframe tbody tr th:only-of-type {\n",
       "        vertical-align: middle;\n",
       "    }\n",
       "\n",
       "    .dataframe tbody tr th {\n",
       "        vertical-align: top;\n",
       "    }\n",
       "\n",
       "    .dataframe thead th {\n",
       "        text-align: right;\n",
       "    }\n",
       "</style>\n",
       "<table border=\"1\" class=\"dataframe\">\n",
       "  <thead>\n",
       "    <tr style=\"text-align: right;\">\n",
       "      <th></th>\n",
       "      <th>name</th>\n",
       "      <th>flavor_text</th>\n",
       "      <th>word_count</th>\n",
       "      <th>label</th>\n",
       "      <th>predicted</th>\n",
       "      <th>correct</th>\n",
       "      <th>label_color</th>\n",
       "      <th>predicted_color</th>\n",
       "    </tr>\n",
       "  </thead>\n",
       "  <tbody>\n",
       "    <tr>\n",
       "      <th>39359</th>\n",
       "      <td>Wicked Guardian</td>\n",
       "      <td>\"some are born to greatness. you were born to scrub greatness's floors.\"</td>\n",
       "      <td>12</td>\n",
       "      <td>2</td>\n",
       "      <td>4</td>\n",
       "      <td>False</td>\n",
       "      <td>B</td>\n",
       "      <td>G</td>\n",
       "    </tr>\n",
       "    <tr>\n",
       "      <th>5647</th>\n",
       "      <td>Aethershield Artificer</td>\n",
       "      <td>most smiths shape metal, but some prefer more delicate materials.</td>\n",
       "      <td>10</td>\n",
       "      <td>0</td>\n",
       "      <td>1</td>\n",
       "      <td>False</td>\n",
       "      <td>W</td>\n",
       "      <td>U</td>\n",
       "    </tr>\n",
       "    <tr>\n",
       "      <th>50413</th>\n",
       "      <td>Wind Drake</td>\n",
       "      <td>orim regarded gerrard coolly. \"you are like the drake,\" she said, her expression unchanging. \"it works hard to maintain its position, but to us it seems to glide along effortlessly. you *must* do the same.\"</td>\n",
       "      <td>35</td>\n",
       "      <td>1</td>\n",
       "      <td>0</td>\n",
       "      <td>False</td>\n",
       "      <td>U</td>\n",
       "      <td>W</td>\n",
       "    </tr>\n",
       "    <tr>\n",
       "      <th>19503</th>\n",
       "      <td>Liliana's Indignation</td>\n",
       "      <td>\"days ago, you came to my door asking for help, jace. yet now here you are with accusations?\"</td>\n",
       "      <td>18</td>\n",
       "      <td>2</td>\n",
       "      <td>1</td>\n",
       "      <td>False</td>\n",
       "      <td>B</td>\n",
       "      <td>U</td>\n",
       "    </tr>\n",
       "    <tr>\n",
       "      <th>86142</th>\n",
       "      <td>Coastal Drake</td>\n",
       "      <td>when the kavu emerged from their ancient nests, food chains long dormant became vibrant again.</td>\n",
       "      <td>15</td>\n",
       "      <td>1</td>\n",
       "      <td>4</td>\n",
       "      <td>False</td>\n",
       "      <td>U</td>\n",
       "      <td>G</td>\n",
       "    </tr>\n",
       "    <tr>\n",
       "      <th>...</th>\n",
       "      <td>...</td>\n",
       "      <td>...</td>\n",
       "      <td>...</td>\n",
       "      <td>...</td>\n",
       "      <td>...</td>\n",
       "      <td>...</td>\n",
       "      <td>...</td>\n",
       "      <td>...</td>\n",
       "    </tr>\n",
       "    <tr>\n",
       "      <th>60449</th>\n",
       "      <td>Agent of the Shadow Thieves</td>\n",
       "      <td>your skill, dexterity, and moral flexibility make you a valuable asset to your guild.</td>\n",
       "      <td>14</td>\n",
       "      <td>2</td>\n",
       "      <td>1</td>\n",
       "      <td>False</td>\n",
       "      <td>B</td>\n",
       "      <td>U</td>\n",
       "    </tr>\n",
       "    <tr>\n",
       "      <th>22703</th>\n",
       "      <td>Spike-Tailed Ceratops</td>\n",
       "      <td>the conquistadors surrounded the dinosaur only to find that it had outflanked them.</td>\n",
       "      <td>13</td>\n",
       "      <td>4</td>\n",
       "      <td>1</td>\n",
       "      <td>False</td>\n",
       "      <td>G</td>\n",
       "      <td>U</td>\n",
       "    </tr>\n",
       "    <tr>\n",
       "      <th>35186</th>\n",
       "      <td>Sphinx of the Second Sun</td>\n",
       "      <td>he watches in silence as the shadows shift, bringing amonkhet ever nearer to the hour of revelation.</td>\n",
       "      <td>17</td>\n",
       "      <td>1</td>\n",
       "      <td>3</td>\n",
       "      <td>False</td>\n",
       "      <td>U</td>\n",
       "      <td>R</td>\n",
       "    </tr>\n",
       "    <tr>\n",
       "      <th>47572</th>\n",
       "      <td>Glademuse</td>\n",
       "      <td>\"rage can be heard throughout the world, but wisdom comes at a whisper.\"\\n—rielle, the everwise</td>\n",
       "      <td>16</td>\n",
       "      <td>4</td>\n",
       "      <td>1</td>\n",
       "      <td>False</td>\n",
       "      <td>G</td>\n",
       "      <td>U</td>\n",
       "    </tr>\n",
       "    <tr>\n",
       "      <th>15250</th>\n",
       "      <td>Snow Devil</td>\n",
       "      <td>\"give me wings to fly and speed to strike. in return, the glory i earn shall be yours.\"\\n—steinar icefist, balduvian shaman</td>\n",
       "      <td>22</td>\n",
       "      <td>1</td>\n",
       "      <td>0</td>\n",
       "      <td>False</td>\n",
       "      <td>U</td>\n",
       "      <td>W</td>\n",
       "    </tr>\n",
       "  </tbody>\n",
       "</table>\n",
       "<p>1907 rows × 8 columns</p>\n",
       "</div>"
      ],
      "text/plain": [
       "                              name  \\\n",
       "39359              Wicked Guardian   \n",
       "5647        Aethershield Artificer   \n",
       "50413                   Wind Drake   \n",
       "19503        Liliana's Indignation   \n",
       "86142                Coastal Drake   \n",
       "...                            ...   \n",
       "60449  Agent of the Shadow Thieves   \n",
       "22703        Spike-Tailed Ceratops   \n",
       "35186     Sphinx of the Second Sun   \n",
       "47572                    Glademuse   \n",
       "15250                   Snow Devil   \n",
       "\n",
       "                                                                                                                                                                                                          flavor_text  \\\n",
       "39359                                                                                                                                        \"some are born to greatness. you were born to scrub greatness's floors.\"   \n",
       "5647                                                                                                                                                most smiths shape metal, but some prefer more delicate materials.   \n",
       "50413  orim regarded gerrard coolly. \"you are like the drake,\" she said, her expression unchanging. \"it works hard to maintain its position, but to us it seems to glide along effortlessly. you *must* do the same.\"   \n",
       "19503                                                                                                                   \"days ago, you came to my door asking for help, jace. yet now here you are with accusations?\"   \n",
       "86142                                                                                                                  when the kavu emerged from their ancient nests, food chains long dormant became vibrant again.   \n",
       "...                                                                                                                                                                                                               ...   \n",
       "60449                                                                                                                           your skill, dexterity, and moral flexibility make you a valuable asset to your guild.   \n",
       "22703                                                                                                                             the conquistadors surrounded the dinosaur only to find that it had outflanked them.   \n",
       "35186                                                                                                            he watches in silence as the shadows shift, bringing amonkhet ever nearer to the hour of revelation.   \n",
       "47572                                                                                                                 \"rage can be heard throughout the world, but wisdom comes at a whisper.\"\\n—rielle, the everwise   \n",
       "15250                                                                                     \"give me wings to fly and speed to strike. in return, the glory i earn shall be yours.\"\\n—steinar icefist, balduvian shaman   \n",
       "\n",
       "       word_count label  predicted  correct label_color predicted_color  \n",
       "39359          12     2          4    False           B               G  \n",
       "5647           10     0          1    False           W               U  \n",
       "50413          35     1          0    False           U               W  \n",
       "19503          18     2          1    False           B               U  \n",
       "86142          15     1          4    False           U               G  \n",
       "...           ...   ...        ...      ...         ...             ...  \n",
       "60449          14     2          1    False           B               U  \n",
       "22703          13     4          1    False           G               U  \n",
       "35186          17     1          3    False           U               R  \n",
       "47572          16     4          1    False           G               U  \n",
       "15250          22     1          0    False           U               W  \n",
       "\n",
       "[1907 rows x 8 columns]"
      ]
     },
     "execution_count": 70,
     "metadata": {},
     "output_type": "execute_result"
    }
   ],
   "source": [
    "label_map_inv = {v: k for k, v in label_map.items()}\n",
    "test_df['label_color'] = test_df['label'].map(label_map_inv)\n",
    "test_df['predicted_color'] = test_df['predicted'].map(label_map_inv)\n",
    "\n",
    "\n",
    "pd.set_option('display.max_colwidth', None)\n",
    "test_df[test_df.correct == False]"
   ]
  }
 ],
 "metadata": {
  "kernelspec": {
   "display_name": "Python 3",
   "language": "python",
   "name": "python3"
  },
  "language_info": {
   "codemirror_mode": {
    "name": "ipython",
    "version": 3
   },
   "file_extension": ".py",
   "mimetype": "text/x-python",
   "name": "python",
   "nbconvert_exporter": "python",
   "pygments_lexer": "ipython3",
   "version": "3.8.8"
  },
  "varInspector": {
   "cols": {
    "lenName": 16,
    "lenType": 16,
    "lenVar": 40
   },
   "kernels_config": {
    "python": {
     "delete_cmd_postfix": "",
     "delete_cmd_prefix": "del ",
     "library": "var_list.py",
     "varRefreshCmd": "print(var_dic_list())"
    },
    "r": {
     "delete_cmd_postfix": ") ",
     "delete_cmd_prefix": "rm(",
     "library": "var_list.r",
     "varRefreshCmd": "cat(var_dic_list()) "
    }
   },
   "types_to_exclude": [
    "module",
    "function",
    "builtin_function_or_method",
    "instance",
    "_Feature"
   ],
   "window_display": false
  }
 },
 "nbformat": 4,
 "nbformat_minor": 5
}
